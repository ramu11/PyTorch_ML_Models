{
  "nbformat": 4,
  "nbformat_minor": 0,
  "metadata": {
    "colab": {
      "provenance": [],
      "toc_visible": true,
      "authorship_tag": "ABX9TyNpJuVlzNV+542JFMpwd194",
      "include_colab_link": true
    },
    "kernelspec": {
      "name": "python3",
      "display_name": "Python 3"
    },
    "language_info": {
      "name": "python"
    }
  },
  "cells": [
    {
      "cell_type": "markdown",
      "metadata": {
        "id": "view-in-github",
        "colab_type": "text"
      },
      "source": [
        "<a href=\"https://colab.research.google.com/github/ramu11/PyTorch_ML_Models/blob/main/python-fundamentals/Python_fundamentals_10.ipynb\" target=\"_parent\"><img src=\"https://colab.research.google.com/assets/colab-badge.svg\" alt=\"Open In Colab\"/></a>"
      ]
    },
    {
      "cell_type": "markdown",
      "source": [
        "### NumPy ufuncs\n",
        " ### ufunc intro\n",
        "\n",
        "**What are ufuncs?**\n",
        "* ufuncs stands for \"Universal Functions\" and they are NumPy functions that operate on the ndarray object.\n",
        "\n",
        "**Why use ufuncs?**\n",
        "* ufuncs are used to implement vectorization in NumPy which is way faster than iterating over elements.\n",
        "\n",
        "* They also provide broadcasting and additional methods like reduce, accumulate etc. that are very helpful for computation.\n",
        "\n",
        "**ufuncs also take additional arguments, like:**\n",
        "\n",
        "* where boolean array or condition defining where the operations should take place.\n",
        "\n",
        "* dtype defining the return type of elements.\n",
        "\n",
        "* out **output array** where the return value should be copied.\n",
        "\n",
        "**What is Vectorization?**\n",
        "* Converting iterative statements into a vector based operation is called vectorization.\n",
        "\n",
        "* It is faster as modern CPUs are optimized for such operations.\n",
        "\n",
        "Add the Elements of Two Lists\n",
        "* list 1: [1, 2, 3, 4]\n",
        "\n",
        "* list 2: [4, 5, 6, 7]\n",
        "\n",
        "* One way of doing it is to iterate over both of the lists and then sum each elements.\n"
      ],
      "metadata": {
        "id": "ytHt8nuaS2jF"
      }
    },
    {
      "cell_type": "code",
      "source": [
        "# Without ufunc, we can use Python's built-in zip() method:\n",
        "x = [1, 2, 3, 4]\n",
        "y = [4, 5, 6, 7]\n",
        "z = []\n",
        "\n",
        "for i, j in zip(x, y):\n",
        "  z.append(i + j)\n",
        "print(z) # [5, 7, 9, 11]\n"
      ],
      "metadata": {
        "colab": {
          "base_uri": "https://localhost:8080/"
        },
        "id": "15pOC1XcT21F",
        "outputId": "3f4d1695-5fc2-469a-e845-a926c19e9f5f"
      },
      "execution_count": null,
      "outputs": [
        {
          "output_type": "stream",
          "name": "stdout",
          "text": [
            "[5, 7, 9, 11]\n"
          ]
        }
      ]
    },
    {
      "cell_type": "code",
      "source": [
        "# NumPy has a ufunc for this, called add(x, y) that will produce the same result.\n",
        "\n",
        "# With ufunc, we can use the add() function:\n",
        "\n",
        "import numpy as np\n",
        "\n",
        "x = [1, 2, 3, 4]\n",
        "y = [4, 5, 6, 7]\n",
        "z = np.add(x, y)\n",
        "\n",
        "print(z)"
      ],
      "metadata": {
        "colab": {
          "base_uri": "https://localhost:8080/"
        },
        "id": "dvNG9WMzUEQ-",
        "outputId": "0879b205-e13c-4e07-8c23-68c933ed0b51"
      },
      "execution_count": null,
      "outputs": [
        {
          "output_type": "stream",
          "name": "stdout",
          "text": [
            "[ 5  7  9 11]\n"
          ]
        }
      ]
    },
    {
      "cell_type": "markdown",
      "source": [
        "### Create Your Own ufunc\n",
        "**How To Create Your Own ufunc**\n",
        "* To create your own ufunc, you have to define a function, like you do with normal functions in Python, then you add it to your **NumPy ufunc** library with the **frompyfunc()** method.\n",
        "\n",
        "The **frompyfunc()** method takes the following arguments:\n",
        "\n",
        "* function - the name of the function.\n",
        "* inputs - the number of input arguments (arrays).\n",
        "* outputs - the number of output arrays.\n"
      ],
      "metadata": {
        "id": "uP95vnbrXmSW"
      }
    },
    {
      "cell_type": "code",
      "source": [
        "# Create your own ufunc for addition:\n",
        "\n",
        "import numpy as np\n",
        "\n",
        "def myadd(x, y):\n",
        "  return x+y\n",
        "\n",
        "myadd = np.frompyfunc(myadd, 2, 1)\n",
        "\n",
        "print(myadd([1, 2, 3, 4], [5, 6, 7, 8])) # [6 8 10 12]"
      ],
      "metadata": {
        "colab": {
          "base_uri": "https://localhost:8080/"
        },
        "id": "FaZXhW1EX1vB",
        "outputId": "224ed098-ca95-45d9-d54e-7782354dd7d8"
      },
      "execution_count": null,
      "outputs": [
        {
          "output_type": "stream",
          "name": "stdout",
          "text": [
            "[6 8 10 12]\n"
          ]
        }
      ]
    },
    {
      "cell_type": "code",
      "source": [
        "# Check if a Function is a ufunc\n",
        "\"\"\"\n",
        "Check the type of a function to check if it is a ufunc or not.\n",
        "\n",
        "A ufunc should return <class 'numpy.ufunc'>.\n",
        "\n",
        "If it is not a ufunc, it will return another type,\n",
        "like this built-in NumPy function for joining two or more arrays:\n",
        "\"\"\"\n",
        "import numpy as np\n",
        "\n",
        "print(type(np.add)) # <class 'numpy.ufunc'>"
      ],
      "metadata": {
        "colab": {
          "base_uri": "https://localhost:8080/"
        },
        "id": "Ko0rOdZsZNYK",
        "outputId": "bb6be7b5-98ec-4e14-adc6-79cc79355061"
      },
      "execution_count": null,
      "outputs": [
        {
          "output_type": "stream",
          "name": "stdout",
          "text": [
            "<class 'numpy.ufunc'>\n"
          ]
        }
      ]
    },
    {
      "cell_type": "code",
      "source": [
        "# Check the type of another function: concatenate():\n",
        "\n",
        "import numpy as np\n",
        "\n",
        "print(type(np.concatenate)) # <class 'numpy.core.defchararray.chararray'>"
      ],
      "metadata": {
        "colab": {
          "base_uri": "https://localhost:8080/"
        },
        "id": "O7SHJMi5ZZNR",
        "outputId": "1825ad47-7f4d-471e-a90f-f4d3f2c95722"
      },
      "execution_count": null,
      "outputs": [
        {
          "output_type": "stream",
          "name": "stdout",
          "text": [
            "<class 'numpy._ArrayFunctionDispatcher'>\n"
          ]
        }
      ]
    },
    {
      "cell_type": "code",
      "source": [
        "\"\"\"\n",
        "If the function is not recognized at all, it will return an error:\n",
        "\n",
        "Example\n",
        "Check the type of something that does not exist. This will produce an error:\n",
        "\"\"\"\n",
        "\n",
        "import numpy as np\n",
        "\n",
        "print(type(np.blahblah))"
      ],
      "metadata": {
        "id": "QW2XVvsJZkZb"
      },
      "execution_count": null,
      "outputs": []
    },
    {
      "cell_type": "code",
      "source": [
        "\"\"\"\n",
        "To test if the function is a ufunc in an if statement,\n",
        "use the numpy.ufunc value (or np.ufunc if you use np as an alias for numpy):\n",
        "\"\"\"\n",
        "import numpy as np\n",
        "\n",
        "if type(np.add) == np.ufunc:\n",
        "  print('add is ufunc')\n",
        "else:\n",
        "  print('add is not ufunc')"
      ],
      "metadata": {
        "colab": {
          "base_uri": "https://localhost:8080/"
        },
        "id": "S_rdWiOuZr7n",
        "outputId": "f2ac4e0b-7c0e-4320-c65d-5be09b7c217b"
      },
      "execution_count": null,
      "outputs": [
        {
          "output_type": "stream",
          "name": "stdout",
          "text": [
            "add is ufunc\n"
          ]
        }
      ]
    },
    {
      "cell_type": "markdown",
      "source": [
        "### ufunc Simple Arithmetic\n",
        "**Simple Arithmetic**\n",
        "* You could use arithmetic operators + - * / directly between **NumPy arrays**, but this section discusses an extension of the same where we have functions that can take any array-like objects e.g. lists, tuples etc. and perform arithmetic conditionally.\n",
        "\n",
        "* Arithmetic Conditionally: means that we can define conditions where the arithmetic operation should happen.\n",
        "\n",
        "* All of the discussed arithmetic functions take a where parameter in which we can specify that condition."
      ],
      "metadata": {
        "id": "Az-oeJL5bVns"
      }
    },
    {
      "cell_type": "code",
      "source": [
        "# Addition\n",
        "\"\"\"\n",
        "The add() function sums the content of two arrays, and return the results in a new array.\n",
        "\n",
        "Add the values in arr1 to the values in arr2:\n",
        "\"\"\"\n",
        "\n",
        "import numpy as np\n",
        "\n",
        "arr1 = np.array([10, 11, 12, 13, 14, 15])\n",
        "arr2 = np.array([20, 21, 22, 23, 24, 25])\n",
        "\n",
        "newarr = np.add(arr1, arr2)\n",
        "\n",
        "print(newarr) # [30 32 34 36 38 40]\n"
      ],
      "metadata": {
        "colab": {
          "base_uri": "https://localhost:8080/"
        },
        "id": "tj4Elv4LbrL8",
        "outputId": "1e800988-fcde-4fb0-a287-77897237a107"
      },
      "execution_count": null,
      "outputs": [
        {
          "output_type": "stream",
          "name": "stdout",
          "text": [
            "[30 32 34 36 38 40]\n"
          ]
        }
      ]
    },
    {
      "cell_type": "code",
      "source": [
        "# Subtraction\n",
        "\"\"\"\n",
        "The subtract() function subtracts the values from one array with the values\n",
        "from another array, and return the results in a new array.\n",
        "\n",
        "Subtract the values in arr2 from the values in arr1:\n",
        "\n",
        "\"\"\"\n",
        "import numpy as np\n",
        "\n",
        "arr1 = np.array([10, 20, 30, 40, 50, 60])\n",
        "arr2 = np.array([20, 21, 22, 23, 24, 25])\n",
        "\n",
        "newarr = np.subtract(arr1, arr2)\n",
        "\n",
        "print(newarr) # [-10  -1   8  17  26  35]"
      ],
      "metadata": {
        "colab": {
          "base_uri": "https://localhost:8080/"
        },
        "id": "0bxLif_Mb6_m",
        "outputId": "60461181-fa45-4aaf-d850-a6462f1e0aa4"
      },
      "execution_count": null,
      "outputs": [
        {
          "output_type": "stream",
          "name": "stdout",
          "text": [
            "[-10  -1   8  17  26  35]\n"
          ]
        }
      ]
    },
    {
      "cell_type": "code",
      "source": [
        "# Multiplication\n",
        "\"\"\"\n",
        "The multiply() function multiplies the values from one array with the values from another array,\n",
        "and return the results in a new array.\n",
        "\n",
        "Multiply the values in arr1 with the values in arr2:\n",
        "\"\"\"\n",
        "\n",
        "import numpy as np\n",
        "\n",
        "arr1 = np.array([10, 20, 30, 40, 50, 60])\n",
        "arr2 = np.array([20, 21, 22, 23, 24, 25])\n",
        "\n",
        "newarr = np.multiply(arr1, arr2)\n",
        "\n",
        "print(newarr) # [ 200  420  660  920 1200 1500]"
      ],
      "metadata": {
        "colab": {
          "base_uri": "https://localhost:8080/"
        },
        "id": "TdVjcSVlcM4I",
        "outputId": "8f69fdb6-2add-44a2-f533-572685e2f02e"
      },
      "execution_count": null,
      "outputs": [
        {
          "output_type": "stream",
          "name": "stdout",
          "text": [
            "[ 200  420  660  920 1200 1500]\n"
          ]
        }
      ]
    },
    {
      "cell_type": "code",
      "source": [
        "# Division\n",
        "\"\"\"\n",
        "The divide() function divides the values from one array with the values from another array,\n",
        " and return the results in a new array.\n",
        "\n",
        "Example\n",
        "Divide the values in arr1 with the values in arr2:\n",
        "\"\"\"\n",
        "\n",
        "import numpy as np\n",
        "\n",
        "arr1 = np.array([10, 20, 30, 40, 50, 60])\n",
        "arr2 = np.array([3, 5, 10, 8, 2, 33])\n",
        "\n",
        "newarr = np.divide(arr1, arr2)\n",
        "\n",
        "print(newarr) # print(newarr)\n"
      ],
      "metadata": {
        "colab": {
          "base_uri": "https://localhost:8080/"
        },
        "id": "ylZKJQOAcfOR",
        "outputId": "f4f8908b-b896-49ed-d11e-dc1afd5e0f00"
      },
      "execution_count": null,
      "outputs": [
        {
          "output_type": "stream",
          "name": "stdout",
          "text": [
            "[ 3.33333333  4.          3.          5.         25.          1.81818182]\n"
          ]
        }
      ]
    },
    {
      "cell_type": "code",
      "source": [
        "# Power\n",
        "\"\"\"\n",
        "The power() function rises the values from the first array to the power of the values of the second array, and return the results in a new array.\n",
        "\n",
        "Example\n",
        "Raise the valules in arr1 to the power of values in arr2:\n",
        "\n",
        "The example below will return [1000 3200000 729000000 6553600000000 2500 0]\n",
        "which is the result of 10*10*10, 20*20*20*20*20, 30*30*30*30*30*30 etc.\n",
        "\"\"\"\n",
        "\n",
        "import numpy as np\n",
        "\n",
        "arr1 = np.array([10, 20, 30, 40, 50, 60])\n",
        "arr2 = np.array([3, 5, 6, 8, 2, 33])\n",
        "\n",
        "newarr = np.power(arr1, arr2)\n",
        "\n",
        "print(newarr) # [1000 3200000 729000000 6553600000000 2500 0]\n"
      ],
      "metadata": {
        "colab": {
          "base_uri": "https://localhost:8080/"
        },
        "id": "BRojFMxPct5X",
        "outputId": "cccbfc3d-2cb8-4a8d-f941-d4aec6b674ce"
      },
      "execution_count": null,
      "outputs": [
        {
          "output_type": "stream",
          "name": "stdout",
          "text": [
            "[         1000       3200000     729000000 6553600000000          2500\n",
            "             0]\n"
          ]
        }
      ]
    },
    {
      "cell_type": "code",
      "source": [
        "# Remainder\n",
        "\"\"\"\n",
        "Both the mod() and the remainder() functions return the remainder of the values in the first array\n",
        "corresponding to the values in the second array, and return the results in a new array.\n",
        "\n",
        "Example\n",
        "Return the remainders:\n",
        "\n",
        "The example below will return [1 6 3 0 0 27] which is the remainders\n",
        "when you divide 10 with 3 (10%3), 20 with 7 (20%7) 30 with 9 (30%9) etc.\n",
        "\n",
        "\"\"\"\n",
        "\n",
        "import numpy as np\n",
        "\n",
        "arr1 = np.array([10, 20, 30, 40, 50, 60])\n",
        "arr2 = np.array([3, 7, 9, 8, 2, 33])\n",
        "\n",
        "newarr = np.mod(arr1, arr2)\n",
        "\n",
        "print(newarr) # [1 6 3 0 0 27]"
      ],
      "metadata": {
        "colab": {
          "base_uri": "https://localhost:8080/"
        },
        "id": "u_PPUSY0dN7C",
        "outputId": "c935a9e1-209f-47d0-8ed2-2bc4242650e5"
      },
      "execution_count": null,
      "outputs": [
        {
          "output_type": "stream",
          "name": "stdout",
          "text": [
            "[ 1  6  3  0  0 27]\n"
          ]
        }
      ]
    },
    {
      "cell_type": "code",
      "source": [
        "# You get the same result when using the remainder() function:\n",
        "# Return the remainders:\n",
        "\n",
        "import numpy as np\n",
        "\n",
        "arr1 = np.array([10, 20, 30, 40, 50, 60])\n",
        "arr2 = np.array([3, 7, 9, 8, 2, 33])\n",
        "\n",
        "newarr = np.remainder(arr1, arr2)\n",
        "\n",
        "print(newarr) # [1 6 3 0 0 27]\n"
      ],
      "metadata": {
        "colab": {
          "base_uri": "https://localhost:8080/"
        },
        "id": "xJSQzB8IdiGv",
        "outputId": "03a74705-18dc-4f0e-8be6-c49f3ed6bbec"
      },
      "execution_count": null,
      "outputs": [
        {
          "output_type": "stream",
          "name": "stdout",
          "text": [
            "[ 1  6  3  0  0 27]\n"
          ]
        }
      ]
    },
    {
      "cell_type": "code",
      "source": [
        "# Quotient and Mod\n",
        "\"\"\"\n",
        "The divmod() function return both the quotient and the mod. The return value is two arrays,\n",
        "the first array contains the quotient and second array contains the mod.\n",
        "\n",
        "Example\n",
        "Return the quotient and mod:\n",
        "\n",
        "The example below will return:\n",
        "(array([3, 2, 3, 5, 25, 1]), array([1, 6, 3, 0, 0, 27]))\n",
        "The first array represents the quotients, (the integer value when you divide 10 with 3, 20 with 7, 30 with 9 etc.\n",
        "The second array represents the remainders of the same divisions.\n",
        "\n",
        "\"\"\"\n",
        "\n",
        "arr1 = np.array([10, 20, 30, 40, 50, 60])\n",
        "arr2 = np.array([3, 7, 9, 8, 2, 33])\n",
        "\n",
        "newarr = np.divmod(arr1, arr2)\n",
        "\n",
        "print(newarr)"
      ],
      "metadata": {
        "colab": {
          "base_uri": "https://localhost:8080/"
        },
        "id": "7Cio3IMid3Ek",
        "outputId": "52709672-dc47-41a7-d152-a46b5cf1fc2b"
      },
      "execution_count": null,
      "outputs": [
        {
          "output_type": "stream",
          "name": "stdout",
          "text": [
            "(array([ 3,  2,  3,  5, 25,  1]), array([ 1,  6,  3,  0,  0, 27]))\n"
          ]
        }
      ]
    },
    {
      "cell_type": "code",
      "source": [
        "# Absolute Values\n",
        "\"\"\"\n",
        "Both the absolute() and the abs() functions do the same absolute operation element-wise\n",
        "but we should use absolute() to avoid confusion with python's inbuilt math.abs()\n",
        "\n",
        "Example\n",
        "Return the quotient and mod:\n",
        "\n",
        "\n",
        "\"\"\"\n",
        "\n",
        "import numpy as np\n",
        "\n",
        "arr = np.array([-1, -2, 1, 2, 3, -4])\n",
        "\n",
        "newarr = np.absolute(arr)\n",
        "\n",
        "print(newarr) # [1 2 1 2 3 4]"
      ],
      "metadata": {
        "colab": {
          "base_uri": "https://localhost:8080/"
        },
        "id": "kUacF5-jehgY",
        "outputId": "5caa3cef-5a9a-4486-a047-25cc91e582a4"
      },
      "execution_count": null,
      "outputs": [
        {
          "output_type": "stream",
          "name": "stdout",
          "text": [
            "[1 2 1 2 3 4]\n"
          ]
        }
      ]
    },
    {
      "cell_type": "markdown",
      "source": [
        "### ufunc Rounding Decimals\n",
        "\n",
        "**Rounding Decimals**\n",
        "* There are primarily five ways of rounding off decimals in **NumPy:**\n",
        "\n",
        "truncation\n",
        "\n",
        "*   fix\n",
        "*   rounding\n",
        "*   floor\n",
        "*   ceil\n",
        "\n",
        "\n",
        "\n",
        "\n",
        "\n"
      ],
      "metadata": {
        "id": "9PTmNYqt9-Rf"
      }
    },
    {
      "cell_type": "code",
      "source": [
        "# Truncation\n",
        "\"\"\"\n",
        "Remove the decimals, and return the float number closest to zero. Use the trunc() and fix() functions.\n",
        "\"\"\"\n",
        "\n",
        "import numpy as np\n",
        "\n",
        "arr = np.trunc([-3.1666, 3.6667])\n",
        "\n",
        "print(arr) # [-3.  3.]"
      ],
      "metadata": {
        "colab": {
          "base_uri": "https://localhost:8080/"
        },
        "id": "Fw_9AXLE-Zkb",
        "outputId": "9461f1f9-4a67-4291-81c4-b37b469c984b"
      },
      "execution_count": null,
      "outputs": [
        {
          "output_type": "stream",
          "name": "stdout",
          "text": [
            "[-3.  3.]\n"
          ]
        }
      ]
    },
    {
      "cell_type": "code",
      "source": [
        "# Same example, using fix():\n",
        "\n",
        "import numpy as np\n",
        "\n",
        "arr = np.fix([-3.1666, 3.6667])\n",
        "\n",
        "print(arr) # [-3.  3.]"
      ],
      "metadata": {
        "colab": {
          "base_uri": "https://localhost:8080/"
        },
        "id": "M3WwWZ2-JJLk",
        "outputId": "871833f9-30d4-4e40-b7a2-27fba9159634"
      },
      "execution_count": null,
      "outputs": [
        {
          "output_type": "stream",
          "name": "stdout",
          "text": [
            "[-3.  3.]\n"
          ]
        }
      ]
    },
    {
      "cell_type": "code",
      "source": [
        "# Rounding\n",
        "\"\"\"\n",
        "The around() function increments preceding digit or decimal by 1 if >=5 else do nothing.\n",
        "\n",
        "E.g. round off to 1 decimal point, 3.16666 is 3.2\n",
        "\n",
        "Example\n",
        "Round off 3.1666 to 2 decimal places:\n",
        "\"\"\"\n",
        "\n",
        "import numpy as np\n",
        "\n",
        "arr = np.around(3.1666, 2)\n",
        "\n",
        "print(arr) # 3.17"
      ],
      "metadata": {
        "colab": {
          "base_uri": "https://localhost:8080/"
        },
        "id": "i5Ez-051JNaZ",
        "outputId": "4fbe24ef-c788-4daf-83e4-f5a97b1b5f5c"
      },
      "execution_count": null,
      "outputs": [
        {
          "output_type": "stream",
          "name": "stdout",
          "text": [
            "3.17\n"
          ]
        }
      ]
    },
    {
      "cell_type": "code",
      "source": [
        "# Floor\n",
        "\"\"\"\n",
        "The floor() function rounds off decimal to nearest lower integer.\n",
        "\n",
        "E.g. floor of 3.166 is 3.\n",
        "\n",
        "Example\n",
        "Floor the elements of following array:\n",
        "\"\"\"\n",
        "\n",
        "import numpy as np\n",
        "\n",
        "arr = np.floor([-3.1666, 3.6667])\n",
        "\n",
        "print(arr) # [-4.  3.]\n"
      ],
      "metadata": {
        "colab": {
          "base_uri": "https://localhost:8080/"
        },
        "id": "lRZyWFOjJWit",
        "outputId": "283e607a-48ff-4554-b5b6-d31ed6a05bc9"
      },
      "execution_count": null,
      "outputs": [
        {
          "output_type": "stream",
          "name": "stdout",
          "text": [
            "[-4.  3.]\n"
          ]
        }
      ]
    },
    {
      "cell_type": "code",
      "source": [
        "# Ceil\n",
        "\"\"\"\n",
        "The ceil() function rounds off decimal to nearest upper integer.\n",
        "\n",
        "E.g. ceil of 3.166 is 4.\n",
        "\n",
        "Example\n",
        "Ceil the elements of following array:\n",
        "\"\"\"\n",
        "\n",
        "import numpy as np\n",
        "\n",
        "arr = np.ceil([-3.1666, 3.6667])\n",
        "\n",
        "print(arr) # [-3.  4.]"
      ],
      "metadata": {
        "colab": {
          "base_uri": "https://localhost:8080/"
        },
        "id": "r1F_phRyJgcs",
        "outputId": "0a0a1027-5a4f-4fc0-ad94-0b59b171b5f4"
      },
      "execution_count": null,
      "outputs": [
        {
          "output_type": "stream",
          "name": "stdout",
          "text": [
            "[-3.  4.]\n"
          ]
        }
      ]
    },
    {
      "cell_type": "markdown",
      "source": [
        "### ufunc Logs\n",
        "\n",
        "**NumPy Logs**\n",
        "\n",
        "* NumPy provides functions to perform log at the base 2, e and 10.\n",
        "\n",
        "* We will also explore how we can take log for any base by creating a custom ufunc.\n",
        "\n",
        "* All of the log functions will place -inf or inf in the elements if the log can not be computed.\n",
        "\n"
      ],
      "metadata": {
        "id": "jaBx2tEGJqWF"
      }
    },
    {
      "cell_type": "code",
      "source": [
        "# Log at Base 2\n",
        "\"\"\"\n",
        "Use the log2() function to perform log at the base 2.\n",
        "\n",
        "ExampleGet your own Python Server\n",
        "Find log at base 2 of all elements of following array:\n",
        "\n",
        "Note: The arange(1, 10) function returns an array with integers starting from 1 (included) to 10 (not included).\n",
        "\"\"\"\n",
        "\n",
        "import numpy as np\n",
        "\n",
        "arr = np.arange(1, 10)\n",
        "\n",
        "print(np.log2(arr))\n"
      ],
      "metadata": {
        "colab": {
          "base_uri": "https://localhost:8080/"
        },
        "id": "_2SZNhAHJ2b6",
        "outputId": "666e3354-c335-4129-9409-a10730c13257"
      },
      "execution_count": null,
      "outputs": [
        {
          "output_type": "stream",
          "name": "stdout",
          "text": [
            "[0.         1.         1.5849625  2.         2.32192809 2.5849625\n",
            " 2.80735492 3.         3.169925  ]\n"
          ]
        }
      ]
    },
    {
      "cell_type": "code",
      "source": [
        "# Log at Base 10\n",
        "\"\"\"\n",
        "Use the log10() function to perform log at the base 10.\n",
        "\n",
        "Example\n",
        "Find log at base 10 of all elements of following array:\n",
        "\"\"\"\n",
        "\n",
        "import numpy as np\n",
        "\n",
        "arr = np.arange(1, 10)\n",
        "\n",
        "print(np.log10(arr))"
      ],
      "metadata": {
        "colab": {
          "base_uri": "https://localhost:8080/"
        },
        "id": "ax0oL3eqKL2b",
        "outputId": "232236f0-7cf4-4b20-cdd2-1498cb9775b2"
      },
      "execution_count": null,
      "outputs": [
        {
          "output_type": "stream",
          "name": "stdout",
          "text": [
            "[0.         0.30103    0.47712125 0.60205999 0.69897    0.77815125\n",
            " 0.84509804 0.90308999 0.95424251]\n"
          ]
        }
      ]
    },
    {
      "cell_type": "code",
      "source": [
        "# Natural Log, or Log at Base e\n",
        "\"\"\"\n",
        "Use the log() function to perform log at the base e.\n",
        "\n",
        "Example\n",
        "Find log at base e of all elements of following array:\n",
        "\"\"\"\n",
        "\n",
        "import numpy as np\n",
        "\n",
        "arr = np.arange(1, 10)\n",
        "\n",
        "print(np.log(arr))"
      ],
      "metadata": {
        "colab": {
          "base_uri": "https://localhost:8080/"
        },
        "id": "eU8SFSBFKTc8",
        "outputId": "1747c2d4-1238-4936-b8f3-1b6b7ce9e14b"
      },
      "execution_count": null,
      "outputs": [
        {
          "output_type": "stream",
          "name": "stdout",
          "text": [
            "[0.         0.69314718 1.09861229 1.38629436 1.60943791 1.79175947\n",
            " 1.94591015 2.07944154 2.19722458]\n"
          ]
        }
      ]
    },
    {
      "cell_type": "code",
      "source": [
        "# Log at Any Base\n",
        "\"\"\"\n",
        "NumPy does not provide any function to take log at any base, so we can use the frompyfunc()\n",
        "function along with inbuilt function math.log() with two input parameters and one output parameter:\n",
        "\n",
        "Example\n",
        "\"\"\"\n",
        "\n",
        "from math import log\n",
        "import numpy as np\n",
        "\n",
        "nplog = np.frompyfunc(log, 2, 1)\n",
        "\n",
        "print(nplog(100, 15))"
      ],
      "metadata": {
        "colab": {
          "base_uri": "https://localhost:8080/"
        },
        "id": "8Zfe-4i4KeTU",
        "outputId": "1e5e9ae2-ee3e-4acc-aaf4-99770396439a"
      },
      "execution_count": null,
      "outputs": [
        {
          "output_type": "stream",
          "name": "stdout",
          "text": [
            "1.7005483074552052\n"
          ]
        }
      ]
    },
    {
      "cell_type": "markdown",
      "source": [
        "### ufunc Summations\n",
        "**NumPy Summations**\n",
        "\n",
        "* What is the difference between summation and addition?\n",
        "\n",
        "* Addition is done between two arguments whereas summation happens over n elements.\n"
      ],
      "metadata": {
        "id": "DrsPftXaK1VG"
      }
    },
    {
      "cell_type": "code",
      "source": [
        "# Add the values in arr1 to the values in arr2:\n",
        "import numpy as np\n",
        "\n",
        "arr1 = np.array([1, 2, 3])\n",
        "arr2 = np.array([1, 2, 3])\n",
        "\n",
        "newarr = np.add(arr1, arr2)\n",
        "\n",
        "print(newarr) # prints [2 4 6]"
      ],
      "metadata": {
        "colab": {
          "base_uri": "https://localhost:8080/"
        },
        "id": "_wHFNcvNLENX",
        "outputId": "eb4786ba-b51c-4e6d-a171-88cf6ef0d583"
      },
      "execution_count": null,
      "outputs": [
        {
          "output_type": "stream",
          "name": "stdout",
          "text": [
            "[2 4 6]\n"
          ]
        }
      ]
    },
    {
      "cell_type": "code",
      "source": [
        "# Sum the values in arr1 and the values in arr2:\n",
        "\n",
        "import numpy as np\n",
        "\n",
        "arr1 = np.array([1, 2, 3])\n",
        "arr2 = np.array([1, 2, 3])\n",
        "\n",
        "newarr = np.sum([arr1, arr2])\n",
        "\n",
        "print(newarr) # prints 12"
      ],
      "metadata": {
        "colab": {
          "base_uri": "https://localhost:8080/"
        },
        "id": "MUHdTMTBLOJA",
        "outputId": "54aedaaa-a75e-46ae-8911-5d31f80be69f"
      },
      "execution_count": null,
      "outputs": [
        {
          "output_type": "stream",
          "name": "stdout",
          "text": [
            "12\n"
          ]
        }
      ]
    },
    {
      "cell_type": "code",
      "source": [
        "# Summation Over an Axis\n",
        "\"\"\"\n",
        "If you specify axis=1, NumPy will sum the numbers in each array.\n",
        "\n",
        "Example\n",
        "Perform summation in the following array over 1st axis:\n",
        "\"\"\"\n",
        "\n",
        "import numpy as np\n",
        "\n",
        "arr1 = np.array([1, 2, 3])\n",
        "arr2 = np.array([1, 2, 3])\n",
        "\n",
        "newarr = np.sum([arr1, arr2], axis=1)\n",
        "\n",
        "print(newarr) # [6 6]"
      ],
      "metadata": {
        "colab": {
          "base_uri": "https://localhost:8080/"
        },
        "id": "MI67vPDvLWf-",
        "outputId": "41701361-22e1-44ca-f71b-5941736163c3"
      },
      "execution_count": null,
      "outputs": [
        {
          "output_type": "stream",
          "name": "stdout",
          "text": [
            "[6 6]\n"
          ]
        }
      ]
    },
    {
      "cell_type": "code",
      "source": [
        "# Cummulative Sum\n",
        "\"\"\"\n",
        "Cummulative sum means partially adding the elements in array.\n",
        "\n",
        "E.g. The partial sum of [1, 2, 3, 4] would be [1, 1+2, 1+2+3, 1+2+3+4] = [1, 3, 6, 10].\n",
        "\n",
        "Perfom partial sum with the cumsum() function.\n",
        "\n",
        "Example\n",
        "Perform cummulative summation in the following array:\n",
        "\"\"\"\n",
        "\n",
        "import numpy as np\n",
        "\n",
        "arr = np.array([1, 2, 3])\n",
        "\n",
        "newarr = np.cumsum(arr)\n",
        "\n",
        "print(newarr) # [1 3 6]"
      ],
      "metadata": {
        "colab": {
          "base_uri": "https://localhost:8080/"
        },
        "id": "CooAeWHULnQQ",
        "outputId": "fe4f36ca-1ab6-4ccd-ab08-8a2d595bbf9d"
      },
      "execution_count": null,
      "outputs": [
        {
          "output_type": "stream",
          "name": "stdout",
          "text": [
            "[1 3 6]\n"
          ]
        }
      ]
    },
    {
      "cell_type": "markdown",
      "source": [
        "### ufunc products\n",
        "**NumPy Products**\n",
        "* To find the product of the elements in an array, use the prod() function.\n"
      ],
      "metadata": {
        "id": "D8wY_KerLyYF"
      }
    },
    {
      "cell_type": "code",
      "source": [
        "# Find the product of the elements of this array:\n",
        "\n",
        "import numpy as np\n",
        "\n",
        "arr = np.array([1, 2, 3, 4])\n",
        "\n",
        "x = np.prod(arr)\n",
        "\n",
        "print(x) # 24 because 1*2*3*4 = 24"
      ],
      "metadata": {
        "colab": {
          "base_uri": "https://localhost:8080/"
        },
        "id": "S6p_vNwhL-A5",
        "outputId": "782997ea-9666-4c28-ed53-fa104a4038ad"
      },
      "execution_count": null,
      "outputs": [
        {
          "output_type": "stream",
          "name": "stdout",
          "text": [
            "24\n"
          ]
        }
      ]
    },
    {
      "cell_type": "code",
      "source": [
        "# Find the product of the elements of two arrays:\n",
        "\n",
        "import numpy as np\n",
        "\n",
        "arr1 = np.array([1, 2, 3, 4])\n",
        "arr2 = np.array([5, 6, 7, 8])\n",
        "\n",
        "x = np.prod([arr1, arr2])\n",
        "\n",
        "print(x) # 40320 because 1*2*3*4*5*6*7*8 = 40320"
      ],
      "metadata": {
        "colab": {
          "base_uri": "https://localhost:8080/"
        },
        "id": "SjPptOvLMFDe",
        "outputId": "aa578cc5-e224-4703-ec42-4a1e8940266a"
      },
      "execution_count": null,
      "outputs": [
        {
          "output_type": "stream",
          "name": "stdout",
          "text": [
            "40320\n"
          ]
        }
      ]
    },
    {
      "cell_type": "code",
      "source": [
        "# Product Over an Axis\n",
        "\"\"\"\n",
        "If you specify axis=1, NumPy will return the product of each array.\n",
        "\n",
        "Example\n",
        "Perform summation in the following array over 1st axis:\n",
        "\"\"\"\n",
        "\n",
        "import numpy as np\n",
        "\n",
        "arr1 = np.array([1, 2, 3, 4])\n",
        "arr2 = np.array([5, 6, 7, 8])\n",
        "\n",
        "newarr = np.prod([arr1, arr2], axis=1)\n",
        "\n",
        "print(newarr) # [  24 1680]"
      ],
      "metadata": {
        "colab": {
          "base_uri": "https://localhost:8080/"
        },
        "id": "vNFWu8j-MQuf",
        "outputId": "1f90096d-2cde-49fa-9559-1e71bb6ff120"
      },
      "execution_count": null,
      "outputs": [
        {
          "output_type": "stream",
          "name": "stdout",
          "text": [
            "[  24 1680]\n"
          ]
        }
      ]
    },
    {
      "cell_type": "code",
      "source": [
        "# Cummulative Product\n",
        "\"\"\"\n",
        "Cummulative product means taking the product partially.\n",
        "\n",
        "E.g. The partial product of [1, 2, 3, 4] is [1, 1*2, 1*2*3, 1*2*3*4] = [1, 2, 6, 24]\n",
        "\n",
        "Perfom partial sum with the cumprod() function.\n",
        "\n",
        "Example\n",
        "Take cummulative product of all elements for following array:\n",
        "\"\"\"\n",
        "\n",
        "import numpy as np\n",
        "\n",
        "arr = np.array([5, 6, 7, 8])\n",
        "\n",
        "newarr = np.cumprod(arr)\n",
        "\n",
        "print(newarr) # [   5   30  210 1680]"
      ],
      "metadata": {
        "colab": {
          "base_uri": "https://localhost:8080/"
        },
        "id": "SFwCYIKvMhTM",
        "outputId": "bd1ed487-cdca-4476-da8c-0ab7a48774fd"
      },
      "execution_count": null,
      "outputs": [
        {
          "output_type": "stream",
          "name": "stdout",
          "text": [
            "[   5   30  210 1680]\n"
          ]
        }
      ]
    },
    {
      "cell_type": "markdown",
      "source": [
        "### ufunc differences\n",
        "**NumPy Differences**\n",
        "\n",
        "* A discrete difference means subtracting two successive elements.\n",
        "\n",
        "* E.g. for [1, 2, 3, 4], the discrete difference would be [2-1, 3-2, 4-3] = [1, 1, 1]\n",
        "\n",
        "* To find the discrete difference, use the **diff()** function."
      ],
      "metadata": {
        "id": "fqNCCwS-XNYL"
      }
    },
    {
      "cell_type": "code",
      "source": [
        "# Compute discrete difference of the following array:\n",
        "\"\"\"\n",
        "Returns: [5 10 -20] because 15-10=5, 25-15=10, and 5-25=-20\n",
        "\"\"\"\n",
        "\n",
        "import numpy as np\n",
        "\n",
        "arr = np.array([10, 15, 25, 5])\n",
        "\n",
        "newarr = np.diff(arr)\n",
        "\n",
        "print(newarr)# [  5  10 -20]"
      ],
      "metadata": {
        "colab": {
          "base_uri": "https://localhost:8080/"
        },
        "id": "bnDS6PFEXdgk",
        "outputId": "9efab430-59e6-4eca-f83f-433665493755"
      },
      "execution_count": null,
      "outputs": [
        {
          "output_type": "stream",
          "name": "stdout",
          "text": [
            "[  5  10 -20]\n"
          ]
        }
      ]
    },
    {
      "cell_type": "code",
      "source": [
        "\"\"\"\n",
        "We can perform this operation repeatedly by giving parameter n.\n",
        "\n",
        "E.g. for [1, 2, 3, 4], the discrete difference with n = 2 would be [2-1, 3-2, 4-3] = [1, 1, 1] ,\n",
        "then, since n=2, we will do it once more, with the new result: [1-1, 1-1] = [0, 0]\n",
        "\"\"\"\n",
        "\n",
        "# Compute discrete difference of the following array twice:\n",
        "\n",
        "import numpy as np\n",
        "\n",
        "arr = np.array([10, 15, 25, 5])\n",
        "\n",
        "newarr = np.diff(arr, n=2)\n",
        "\n",
        "print(newarr) # [  5 -30] Returns: [5 -30] because: 15-10=5, 25-15=10, and 5-25=-20 AND 10-5=5 and -20-10=-30\n",
        "\n",
        "\n"
      ],
      "metadata": {
        "colab": {
          "base_uri": "https://localhost:8080/"
        },
        "id": "-dhrCjY3Xs41",
        "outputId": "c60a00f2-ad7e-4b0b-aca7-9f4dea5d8bc1"
      },
      "execution_count": null,
      "outputs": [
        {
          "output_type": "stream",
          "name": "stdout",
          "text": [
            "[  5 -30]\n"
          ]
        }
      ]
    },
    {
      "cell_type": "markdown",
      "source": [
        "### ufunc Finding LCM\n",
        "**NumPy LCM Lowest Common Multiple**\n",
        "\n",
        "**Finding LCM (Lowest Common Multiple)**\n",
        "* The Lowest Common Multiple is the smallest number that is a common multiple of two numbers.\n",
        "\n"
      ],
      "metadata": {
        "id": "k3lp7-o8ZWVM"
      }
    },
    {
      "cell_type": "code",
      "source": [
        "# Find the LCM of the following two numbers:\n",
        "\n",
        "import numpy as np\n",
        "\n",
        "num1 = 4\n",
        "num2 = 6\n",
        "\n",
        "x = np.lcm(num1, num2)\n",
        "\n",
        "print(x) # 12 Returns: 12 because that is the lowest common multiple of both numbers (4*3=12 and 6*2=12)."
      ],
      "metadata": {
        "colab": {
          "base_uri": "https://localhost:8080/"
        },
        "id": "xvNNdjMyZq3b",
        "outputId": "d7e77b20-8eb5-420c-f10d-5235861336dc"
      },
      "execution_count": null,
      "outputs": [
        {
          "output_type": "stream",
          "name": "stdout",
          "text": [
            "12\n"
          ]
        }
      ]
    },
    {
      "cell_type": "code",
      "source": [
        "# Finding LCM in Arrays\n",
        "\"\"\"\n",
        "To find the Lowest Common Multiple of all values in an array, you can use the reduce() method.\n",
        "\n",
        "The reduce() method will use the ufunc, in this case the lcm() function, on each element,\n",
        " and reduce the array by one dimension.\n",
        " \"\"\"\n",
        " # Find the LCM of the values of the following array:\n",
        "\n",
        "import numpy as np\n",
        "\n",
        "arr = np.array([3, 6, 9])\n",
        "\n",
        "x = np.lcm.reduce(arr)\n",
        "\n",
        "print(x) # 18 because that is the lowest common multiple of all three numbers (3*6=18, 6*3=18 and 9*2=18)."
      ],
      "metadata": {
        "colab": {
          "base_uri": "https://localhost:8080/"
        },
        "id": "BoLblAMzZxph",
        "outputId": "e72dd54e-934d-40b6-a317-d2933b2e1fbf"
      },
      "execution_count": null,
      "outputs": [
        {
          "output_type": "stream",
          "name": "stdout",
          "text": [
            "18\n"
          ]
        }
      ]
    },
    {
      "cell_type": "code",
      "source": [
        "# Find the LCM of all values of an array where the array contains all integers from 1 to 10:\n",
        "\n",
        "import numpy as np\n",
        "\n",
        "arr = np.arange(1, 11)\n",
        "\n",
        "x = np.lcm.reduce(arr)\n",
        "\n",
        "print(x) # 2520"
      ],
      "metadata": {
        "colab": {
          "base_uri": "https://localhost:8080/"
        },
        "id": "2NTGRl4gat_M",
        "outputId": "35b40c36-74e0-4826-ae8b-dcfa398f6298"
      },
      "execution_count": null,
      "outputs": [
        {
          "output_type": "stream",
          "name": "stdout",
          "text": [
            "2520\n"
          ]
        }
      ]
    },
    {
      "cell_type": "markdown",
      "source": [
        "### ufunc Finding GCD\n",
        "**NumPy GCD Greatest Common Denominator**\n",
        "\n",
        "**Finding GCD (Greatest Common Denominator)**\n",
        "\n",
        "* The **GCD** (Greatest Common Denominator), also known as **HCF** (Highest Common Factor) is the biggest number that is a common factor of both of the numbers.\n",
        "\n"
      ],
      "metadata": {
        "id": "FDndYzbba8my"
      }
    },
    {
      "cell_type": "code",
      "source": [
        "# Find the HCF of the following two numbers:\n",
        "\n",
        "import numpy as np\n",
        "\n",
        "num1 = 6\n",
        "num2 = 9\n",
        "\n",
        "x = np.gcd(num1, num2)\n",
        "\n",
        "print(x) # 3 Returns: 3 because that is the highest number both numbers can be divided by (6/3=2 and 9/3=3)."
      ],
      "metadata": {
        "colab": {
          "base_uri": "https://localhost:8080/"
        },
        "id": "gygd6XIQbRNR",
        "outputId": "f09c40d0-3957-4f97-b000-2fb1371b0bdb"
      },
      "execution_count": null,
      "outputs": [
        {
          "output_type": "stream",
          "name": "stdout",
          "text": [
            "3\n"
          ]
        }
      ]
    },
    {
      "cell_type": "code",
      "source": [
        "# Finding GCD in Arrays\n",
        "\"\"\"\n",
        "To find the Highest Common Factor of all values in an array, you can use the reduce() method.\n",
        "\n",
        "The reduce() method will use the ufunc, in this case the gcd() function, on each element,\n",
        "and reduce the array by one dimension.\n",
        "\n",
        "Example\n",
        "Find the GCD for all of the numbers in the following array:\n",
        "\"\"\"\n",
        "\n",
        "import numpy as np\n",
        "\n",
        "arr = np.array([20, 8, 32, 36, 16])\n",
        "\n",
        "x = np.gcd.reduce(arr)\n",
        "\n",
        "print(x) # 4"
      ],
      "metadata": {
        "colab": {
          "base_uri": "https://localhost:8080/"
        },
        "id": "arajlq9rbdii",
        "outputId": "888aa8d5-d015-4a9c-fc3b-d730ba761f1c"
      },
      "execution_count": null,
      "outputs": [
        {
          "output_type": "stream",
          "name": "stdout",
          "text": [
            "4\n"
          ]
        }
      ]
    },
    {
      "cell_type": "markdown",
      "source": [
        "### ufunc trigonometric\n",
        "**NumPy Trigonometric Functions**\n",
        "**Trigonometric Functions**\n",
        "\n",
        "* NumPy provides the ufuncs sin(), cos() and tan() that take values in radians and produce the corresponding sin, cos and tan values.\n",
        "\n",
        "\n"
      ],
      "metadata": {
        "id": "pAoz7zp2bqb1"
      }
    },
    {
      "cell_type": "code",
      "source": [
        "# Find sine value of PI/2:\n",
        "\n",
        "import numpy as np\n",
        "\n",
        "x = np.sin(np.pi/2)\n",
        "\n",
        "print(x) # 1.0"
      ],
      "metadata": {
        "colab": {
          "base_uri": "https://localhost:8080/"
        },
        "id": "ysfe78-xb9YJ",
        "outputId": "f1bb81ff-be3c-4092-8fd9-acfcfd861211"
      },
      "execution_count": null,
      "outputs": [
        {
          "output_type": "stream",
          "name": "stdout",
          "text": [
            "1.0\n"
          ]
        }
      ]
    },
    {
      "cell_type": "code",
      "source": [
        "# Find sine values for all of the values in arr:\n",
        "\n",
        "import numpy as np\n",
        "\n",
        "arr = np.array([np.pi/2, np.pi/3, np.pi/4, np.pi/5])\n",
        "\n",
        "x = np.sin(arr)\n",
        "\n",
        "print(x) # [1.         0.8660254  0.70710678 0.58778525]"
      ],
      "metadata": {
        "colab": {
          "base_uri": "https://localhost:8080/"
        },
        "id": "aWA6-eAicIKP",
        "outputId": "8db5f217-ce46-40f1-c527-19b5ffbc0f7d"
      },
      "execution_count": null,
      "outputs": [
        {
          "output_type": "stream",
          "name": "stdout",
          "text": [
            "[1.         0.8660254  0.70710678 0.58778525]\n"
          ]
        }
      ]
    },
    {
      "cell_type": "code",
      "source": [
        "# Convert Degrees Into Radians\n",
        "\"\"\"\n",
        "By default all of the trigonometric functions take radians as parameters\n",
        "but we can convert radians to degrees and vice versa as well in NumPy.\n",
        "\n",
        "Note: radians values are pi/180 * degree_values.\n",
        "\n",
        "Example\n",
        "Convert all of the values in following array arr to radians:\n",
        "\"\"\"\n",
        "\n",
        "import numpy as np\n",
        "\n",
        "arr = np.array([90, 180, 270, 360])\n",
        "\n",
        "x = np.deg2rad(arr)\n",
        "\n",
        "print(x) # [1.57079633 3.14159265 4.71238898 6.28318531]"
      ],
      "metadata": {
        "colab": {
          "base_uri": "https://localhost:8080/"
        },
        "id": "eIol7FSlcPEB",
        "outputId": "42def9c2-8321-4491-ae67-b9e094369f8a"
      },
      "execution_count": null,
      "outputs": [
        {
          "output_type": "stream",
          "name": "stdout",
          "text": [
            "[1.57079633 3.14159265 4.71238898 6.28318531]\n"
          ]
        }
      ]
    },
    {
      "cell_type": "code",
      "source": [
        "# Radians to Degrees\n",
        "\"\"\"\n",
        "Example\n",
        "Convert all of the values in following array arr to degrees:\n",
        "\"\"\"\n",
        "\n",
        "import numpy as np\n",
        "\n",
        "arr = np.array([np.pi/2, np.pi, 1.5*np.pi, 2*np.pi])\n",
        "\n",
        "x = np.rad2deg(arr)\n",
        "\n",
        "print(x) # [ 90. 180. 270. 360.]"
      ],
      "metadata": {
        "colab": {
          "base_uri": "https://localhost:8080/"
        },
        "id": "X3ufjTclceks",
        "outputId": "78ab93ae-4797-407f-c751-2f6506a2804c"
      },
      "execution_count": null,
      "outputs": [
        {
          "output_type": "stream",
          "name": "stdout",
          "text": [
            "[ 90. 180. 270. 360.]\n"
          ]
        }
      ]
    },
    {
      "cell_type": "code",
      "source": [
        "# Finding Angles\n",
        "\"\"\"\n",
        "Finding angles from values of sine, cos, tan. E.g. sin, cos and tan inverse (arcsin, arccos, arctan).\n",
        "\n",
        "NumPy provides ufuncs arcsin(), arccos() and arctan() that produce radian values for\n",
        "corresponding sin, cos and tan values given.\n",
        "\n",
        "Example\n",
        "Find the angle of 1.0:\n",
        "\"\"\"\n",
        "\n",
        "import numpy as np\n",
        "\n",
        "x = np.arcsin(1.0)\n",
        "\n",
        "print(x)"
      ],
      "metadata": {
        "colab": {
          "base_uri": "https://localhost:8080/"
        },
        "id": "BVpDDPiHcnY6",
        "outputId": "18cdc768-6a93-49a1-c1e4-fe5517a282a8"
      },
      "execution_count": null,
      "outputs": [
        {
          "output_type": "stream",
          "name": "stdout",
          "text": [
            "1.5707963267948966\n"
          ]
        }
      ]
    },
    {
      "cell_type": "code",
      "source": [
        "# Angles of Each Value in Arrays\n",
        "\"\"\"\n",
        "Example\n",
        "Find the angle for all of the sine values in the array\n",
        "\"\"\"\n",
        "\n",
        "import numpy as np\n",
        "\n",
        "arr = np.array([1, -1, 0.1])\n",
        "\n",
        "x = np.arcsin(arr)\n",
        "\n",
        "print(x)# [ 1.57079633 -1.57079633  0.10016742]"
      ],
      "metadata": {
        "colab": {
          "base_uri": "https://localhost:8080/"
        },
        "id": "t7V-9pYZcxCZ",
        "outputId": "86cf9d43-5dbb-418a-d51b-a6ff8221b0ab"
      },
      "execution_count": null,
      "outputs": [
        {
          "output_type": "stream",
          "name": "stdout",
          "text": [
            "[ 1.57079633 -1.57079633  0.10016742]\n"
          ]
        }
      ]
    },
    {
      "cell_type": "code",
      "source": [
        "# Hypotenues\n",
        "\"\"\"\n",
        "Finding hypotenues using pythagoras theorem in NumPy.\n",
        "\n",
        "NumPy provides the hypot() function that takes the base and perpendicular values and\n",
        "produces hypotenues based on pythagoras theorem.\n",
        "\n",
        "Example\n",
        "Find the hypotenues for 4 base and 3 perpendicular:\n",
        "\"\"\"\n",
        "\n",
        "import numpy as np\n",
        "\n",
        "base = 3\n",
        "perp = 4\n",
        "\n",
        "x = np.hypot(base, perp)\n",
        "\n",
        "print(x) // 5.0"
      ],
      "metadata": {
        "colab": {
          "base_uri": "https://localhost:8080/"
        },
        "id": "qCWSyqthc8e1",
        "outputId": "5b59151d-2d7d-4179-f453-89c5696fdb55"
      },
      "execution_count": null,
      "outputs": [
        {
          "output_type": "stream",
          "name": "stdout",
          "text": [
            "5.0\n"
          ]
        }
      ]
    },
    {
      "cell_type": "markdown",
      "source": [
        "### ufunc Hyperbolic\n",
        "**NumPy Hyperbolic Functions**\n",
        "**Hyperbolic Functions**\n",
        "\n",
        "* NumPy provides the ufuncs sinh(), cosh() and tanh() that take values in radians and produce the corresponding sinh, cosh and tanh values.."
      ],
      "metadata": {
        "id": "0pAP4H9xdGyS"
      }
    },
    {
      "cell_type": "code",
      "source": [
        "# Find sinh value of PI/2:\n",
        "\n",
        "import numpy as np\n",
        "\n",
        "x = np.sinh(np.pi/2)\n",
        "\n",
        "print(x) #2.3012989023072947"
      ],
      "metadata": {
        "colab": {
          "base_uri": "https://localhost:8080/"
        },
        "id": "b2RwpPCQdUqZ",
        "outputId": "15c1ec96-b009-4281-ea54-616483e27350"
      },
      "execution_count": null,
      "outputs": [
        {
          "output_type": "stream",
          "name": "stdout",
          "text": [
            "2.3012989023072947\n"
          ]
        }
      ]
    },
    {
      "cell_type": "code",
      "source": [
        "# Find cosh values for all of the values in arr:\n",
        "\n",
        "import numpy as np\n",
        "\n",
        "arr = np.array([np.pi/2, np.pi/3, np.pi/4, np.pi/5])\n",
        "\n",
        "x = np.cosh(arr)\n",
        "\n",
        "print(x) # [2.50917848 1.60028686 1.32460909 1.20397209]"
      ],
      "metadata": {
        "colab": {
          "base_uri": "https://localhost:8080/"
        },
        "id": "pr7JFPMXdZmY",
        "outputId": "49948cbf-93ae-43c4-ea48-3fc3648ec357"
      },
      "execution_count": null,
      "outputs": [
        {
          "output_type": "stream",
          "name": "stdout",
          "text": [
            "[2.50917848 1.60028686 1.32460909 1.20397209]\n"
          ]
        }
      ]
    },
    {
      "cell_type": "code",
      "source": [
        "# Finding Angles\n",
        "\"\"\"\n",
        "Finding angles from values of hyperbolic sine, cos, tan.\n",
        " E.g. sinh, cosh and tanh inverse (arcsinh, arccosh, arctanh).\n",
        "\n",
        "Numpy provides ufuncs arcsinh(), arccosh() and arctanh() that produce radian values\n",
        "for corresponding sinh, cosh and tanh values given.\n",
        "\n",
        "Example\n",
        "Find the angle of 1.0:\n",
        "\"\"\"\n",
        "\n",
        "import numpy as np\n",
        "\n",
        "x = np.arcsinh(1.0)\n",
        "\n",
        "print(x) # 0.881373587019543"
      ],
      "metadata": {
        "colab": {
          "base_uri": "https://localhost:8080/"
        },
        "id": "DkchKgR7dfOs",
        "outputId": "79107025-35fb-4f38-991f-6464a083574a"
      },
      "execution_count": null,
      "outputs": [
        {
          "output_type": "stream",
          "name": "stdout",
          "text": [
            "0.881373587019543\n"
          ]
        }
      ]
    },
    {
      "cell_type": "code",
      "source": [
        "# Angles of Each Value in Arrays\n",
        "\"\"\"\n",
        "Example\n",
        "Find the angle for all of the tanh values in array:\n",
        "\"\"\"\n",
        "\n",
        "import numpy as np\n",
        "\n",
        "arr = np.array([0.1, 0.2, 0.5])\n",
        "\n",
        "x = np.arctanh(arr)\n",
        "\n",
        "print(x) # [0.10033535 0.20273255 0.54930614]"
      ],
      "metadata": {
        "colab": {
          "base_uri": "https://localhost:8080/"
        },
        "id": "rjnDweM1drBm",
        "outputId": "b8c3a1ea-7681-4439-ae7e-82aea8a15383"
      },
      "execution_count": null,
      "outputs": [
        {
          "output_type": "stream",
          "name": "stdout",
          "text": [
            "[0.10033535 0.20273255 0.54930614]\n"
          ]
        }
      ]
    },
    {
      "cell_type": "markdown",
      "source": [
        "### ufunc Set operations\n",
        "**NumPy Set Operations**\n",
        "**What is a Set**\n",
        "\n",
        "* A set in mathematics is a collection of unique elements.\n",
        "\n",
        "* Sets are used for operations involving frequent intersection, union and difference operations.\n",
        "\n",
        "**Create Sets in NumPy**\n",
        "\n",
        "* We can use **NumPy's unique()** method to find unique elements from any array.\n",
        "E.g. create a set array, but remember that the set arrays should only be 1-D arrays.\n",
        "\n",
        "\n"
      ],
      "metadata": {
        "id": "T-GpIsAhd4fq"
      }
    },
    {
      "cell_type": "code",
      "source": [
        "# Convert following array with repeated elements to a set:\n",
        "\n",
        "import numpy as np\n",
        "\n",
        "arr = np.array([1, 1, 1, 2, 3, 4, 5, 5, 6, 7])\n",
        "\n",
        "x = np.unique(arr)\n",
        "\n",
        "print(x) # [1 2 3 4 5 6 7]\n"
      ],
      "metadata": {
        "colab": {
          "base_uri": "https://localhost:8080/"
        },
        "id": "Nh2QcVDGeSmy",
        "outputId": "e9151918-6303-488a-af9f-af67c7d3c6ae"
      },
      "execution_count": null,
      "outputs": [
        {
          "output_type": "stream",
          "name": "stdout",
          "text": [
            "[1 2 3 4 5 6 7]\n"
          ]
        }
      ]
    },
    {
      "cell_type": "code",
      "source": [
        "# Finding Union\n",
        "\"\"\"\n",
        "To find the unique values of two arrays, use the union1d() method.\n",
        "\n",
        "Example\n",
        "Find union of the following two set arrays:\n",
        "\"\"\"\n",
        "\n",
        "import numpy as np\n",
        "\n",
        "arr1 = np.array([1, 2, 3, 4])\n",
        "arr2 = np.array([3, 4, 5, 6])\n",
        "\n",
        "newarr = np.union1d(arr1, arr2)\n",
        "\n",
        "print(newarr) # [1 2 3 4 5 6]"
      ],
      "metadata": {
        "colab": {
          "base_uri": "https://localhost:8080/"
        },
        "id": "cZ9mLhHweXqK",
        "outputId": "5fb7bec6-1736-419b-91ca-18a718c1328f"
      },
      "execution_count": null,
      "outputs": [
        {
          "output_type": "stream",
          "name": "stdout",
          "text": [
            "[1 2 3 4 5 6]\n"
          ]
        }
      ]
    },
    {
      "cell_type": "code",
      "source": [
        "# Finding Intersection\n",
        "\"\"\"\n",
        "To find only the values that are present in both arrays, use the intersect1d() method.\n",
        "\n",
        "Example\n",
        "Find intersection of the following two set arrays:\n",
        "\n",
        "Note: the intersect1d() method takes an optional argument assume_unique,\n",
        "which if set to True can speed up computation.\n",
        "It should always be set to True when dealing with sets.\n",
        "\"\"\"\n",
        "\n",
        "import numpy as np\n",
        "\n",
        "arr1 = np.array([1, 2, 3, 4])\n",
        "arr2 = np.array([3, 4, 5, 6])\n",
        "\n",
        "newarr = np.intersect1d(arr1, arr2, assume_unique=True)\n",
        "\n",
        "print(newarr) # [3 4]"
      ],
      "metadata": {
        "colab": {
          "base_uri": "https://localhost:8080/"
        },
        "id": "dUuHZTFgejkl",
        "outputId": "085c6ead-4bc2-46ca-faa0-8850acb8f465"
      },
      "execution_count": null,
      "outputs": [
        {
          "output_type": "stream",
          "name": "stdout",
          "text": [
            "[3 4]\n"
          ]
        }
      ]
    },
    {
      "cell_type": "code",
      "source": [
        "# Finding Difference\n",
        "\"\"\"\n",
        "To find only the values in the first set that is NOT present in the seconds set, use the setdiff1d() method.\n",
        "\n",
        "Example\n",
        "Find the difference of the set1 from set2:\n",
        "Note: the setdiff1d() method takes an optional argument assume_unique,\n",
        " which if set to True can speed up computation.\n",
        " It should always be set to True when dealing with sets.\n",
        "\"\"\"\n",
        "\n",
        "import numpy as np\n",
        "\n",
        "set1 = np.array([1, 2, 3, 4])\n",
        "set2 = np.array([3, 4, 5, 6])\n",
        "\n",
        "newarr = np.setdiff1d(set1, set2, assume_unique=True)\n",
        "\n",
        "print(newarr) # [1 2]"
      ],
      "metadata": {
        "colab": {
          "base_uri": "https://localhost:8080/"
        },
        "id": "84iAJmOaesfn",
        "outputId": "59603fda-aa55-4a6e-a8ed-c17f2890c024"
      },
      "execution_count": null,
      "outputs": [
        {
          "output_type": "stream",
          "name": "stdout",
          "text": [
            "[1 2]\n"
          ]
        }
      ]
    },
    {
      "cell_type": "code",
      "source": [
        "# Finding Symmetric Difference\n",
        "\"\"\"\n",
        "To find only the values that are NOT present in BOTH sets, use the setxor1d() method.\n",
        "\n",
        "Example\n",
        "Find the symmetric difference of the set1 and set2:\n",
        "\n",
        "Note: the setxor1d() method takes an optional argument assume_unique,\n",
        "which if set to True can speed up computation.\n",
        "It should always be set to True when dealing with sets.\n",
        "\"\"\"\n",
        "\n",
        "import numpy as np\n",
        "\n",
        "set1 = np.array([1, 2, 3, 4])\n",
        "set2 = np.array([3, 4, 5, 6])\n",
        "\n",
        "newarr = np.setxor1d(set1, set2, assume_unique=True)\n",
        "\n",
        "print(newarr) # [1 2 5 6]"
      ],
      "metadata": {
        "colab": {
          "base_uri": "https://localhost:8080/"
        },
        "id": "4h0lUqRIe-ym",
        "outputId": "fa800bff-249a-4d01-a4b2-dfee5a0515e2"
      },
      "execution_count": null,
      "outputs": [
        {
          "output_type": "stream",
          "name": "stdout",
          "text": [
            "[1 2 5 6]\n"
          ]
        }
      ]
    }
  ]
}