{
  "nbformat": 4,
  "nbformat_minor": 0,
  "metadata": {
    "colab": {
      "provenance": [],
      "toc_visible": true,
      "authorship_tag": "ABX9TyP14oJKCOozhmyuv4zAJm69",
      "include_colab_link": true
    },
    "kernelspec": {
      "name": "python3",
      "display_name": "Python 3"
    },
    "language_info": {
      "name": "python"
    }
  },
  "cells": [
    {
      "cell_type": "markdown",
      "metadata": {
        "id": "view-in-github",
        "colab_type": "text"
      },
      "source": [
        "<a href=\"https://colab.research.google.com/github/ramu11/PyTorch_ML_Models/blob/main/python-fundamentals/Python_fundamentals_5.ipynb\" target=\"_parent\"><img src=\"https://colab.research.google.com/assets/colab-badge.svg\" alt=\"Open In Colab\"/></a>"
      ]
    },
    {
      "cell_type": "markdown",
      "source": [
        "### Python Functions\n",
        "\n",
        "* A function is a block of code which only runs when it is called.\n",
        "\n",
        "* You can pass data, known as parameters, into a function.\n",
        "\n",
        "* A function can return data as a result.\n",
        "\n",
        "* In Python a function is defined using the def keyword:\n",
        "\n",
        "* To call a function, use the function name followed by parenthesis:\n",
        "\n",
        "Information can be passed into functions as arguments.\n",
        "\n",
        "* Arguments are specified after the function name, inside the parentheses. You can add as many arguments as you want, just separate them with a comma.\n",
        "\n",
        "* The following example has a function with one argument (fname). When the function is called, we pass along a first name, which is used inside the function to print the full name:\n",
        "\n",
        "* Arguments are often shortened to args in Python documentations.\n",
        "\n",
        "From a function's perspective:\n",
        "\n",
        "* A parameter is the variable listed inside the parentheses in the function definition.\n",
        "\n",
        "* An argument is the value that is sent to the function when it is called.\n",
        "\n",
        "Arbitrary Arguments, *args :\n",
        "* If you do not know how many arguments that will be passed into your function, add a * before the parameter name in the function definition.\n",
        "\n",
        "* This way the function will receive a tuple of arguments, and can access the items accordingly:\n",
        "\n",
        "\n"
      ],
      "metadata": {
        "id": "x3Vmyz8D5gn_"
      }
    },
    {
      "cell_type": "code",
      "source": [
        "# Creating a Function\n",
        "def my_function():\n",
        "  print(\"Hello from a function\")"
      ],
      "metadata": {
        "id": "_Rl-DSoT6krC"
      },
      "execution_count": null,
      "outputs": []
    },
    {
      "cell_type": "code",
      "source": [
        "# Calling a Function\n",
        "# To call a function, use the function name followed by parenthesis:\n",
        "def my_function():\n",
        "  print(\"Hello from a function\")\n",
        "\n",
        "my_function()"
      ],
      "metadata": {
        "colab": {
          "base_uri": "https://localhost:8080/"
        },
        "id": "8UD2SjVx6rmD",
        "outputId": "735d9202-4294-46b5-8b4b-64376b0074b3"
      },
      "execution_count": null,
      "outputs": [
        {
          "output_type": "stream",
          "name": "stdout",
          "text": [
            "Hello from a function\n"
          ]
        }
      ]
    },
    {
      "cell_type": "code",
      "source": [
        "# The following example has a function with one argument (fname). When the function is called,\n",
        "# we pass along a first name, which is used inside the function to print the full name:\n",
        "def my_function(fname):\n",
        "  print(fname + \" Refsnes\")\n",
        "\n",
        "my_function(\"Emil\")\n",
        "my_function(\"Tobias\")\n",
        "my_function(\"Linus\")"
      ],
      "metadata": {
        "colab": {
          "base_uri": "https://localhost:8080/"
        },
        "id": "-DIG5xxo62mi",
        "outputId": "1209b1d4-7eff-4cf2-d7fe-972bdb030462"
      },
      "execution_count": null,
      "outputs": [
        {
          "output_type": "stream",
          "name": "stdout",
          "text": [
            "Emil Refsnes\n",
            "Tobias Refsnes\n",
            "Linus Refsnes\n"
          ]
        }
      ]
    },
    {
      "cell_type": "code",
      "source": [
        "# This function expects 2 arguments, and gets 2 arguments:\n",
        "def my_function(fname, lname):\n",
        "  print(fname + \" \" + lname)\n",
        "\n",
        "my_function(\"Emil\", \"Refsnes\")"
      ],
      "metadata": {
        "colab": {
          "base_uri": "https://localhost:8080/"
        },
        "id": "a1dhhDgJ7A33",
        "outputId": "da21171c-1e8b-4856-ff22-0a5fac1cbf31"
      },
      "execution_count": null,
      "outputs": [
        {
          "output_type": "stream",
          "name": "stdout",
          "text": [
            "Emil Refsnes\n"
          ]
        }
      ]
    },
    {
      "cell_type": "code",
      "source": [
        "# If you try to call the function with 1 or 3 arguments, you will get an error:\n",
        "# This function expects 2 arguments, but gets only 1:\n",
        "def my_function(fname, lname):\n",
        "  print(fname + \" \" + lname)\n",
        "\n",
        "my_function(\"Emil\") # error"
      ],
      "metadata": {
        "id": "K49JB0bf7KMX"
      },
      "execution_count": null,
      "outputs": []
    },
    {
      "cell_type": "code",
      "source": [
        "# If the number of arguments is unknown, add a * before the parameter name:\n",
        "\n",
        "def my_function(*kids):\n",
        "  print(\"The youngest child is \" + kids[2]) # prints The youngest child is Linus\n",
        "\n",
        "my_function(\"Emil\", \"Tobias\", \"Linus\") # 0,1,2"
      ],
      "metadata": {
        "colab": {
          "base_uri": "https://localhost:8080/"
        },
        "id": "LmLXI7lk7VwD",
        "outputId": "22cdd1ff-855b-4cd1-bd2e-27384ca959b2"
      },
      "execution_count": null,
      "outputs": [
        {
          "output_type": "stream",
          "name": "stdout",
          "text": [
            "The youngest child is Linus\n"
          ]
        }
      ]
    },
    {
      "cell_type": "code",
      "source": [
        "# Keyword Arguments: The phrase Keyword Arguments are often shortened to kwargs in Python documentations.\n",
        "# You can also send arguments with the key = value syntax.\n",
        "\n",
        "# This way the order of the arguments does not matter.\n",
        "def my_function(child3, child2, child1):\n",
        "  print(\"The youngest child is \" + child3) # prints The youngest child is Linus\n",
        "\n",
        "my_function(child1 = \"Emil\", child2 = \"Tobias\", child3 = \"Linus\")"
      ],
      "metadata": {
        "colab": {
          "base_uri": "https://localhost:8080/"
        },
        "id": "deC_sQA-7sa0",
        "outputId": "13473c8b-ba35-41e4-fee5-b95f79b57853"
      },
      "execution_count": null,
      "outputs": [
        {
          "output_type": "stream",
          "name": "stdout",
          "text": [
            "The youngest child is Linus\n"
          ]
        }
      ]
    },
    {
      "cell_type": "code",
      "source": [
        "# Arbitrary Keyword Arguments, **kwargs : Arbitrary Kword Arguments are often shortened to **kwargs in Python documentations.\n",
        "# If you do not know how many keyword arguments that will be passed into your function, add two asterisk: ** before the parameter name\n",
        "# in the function definition.\n",
        "\n",
        "# This way the function will receive a dictionary of arguments, and can access the items accordingly:\n",
        "def my_function(**kid):\n",
        "  print(\"His last name is \" + kid[\"lname\"]) # His last name is Refsnes\n",
        "\n",
        "my_function(fname = \"Tobias\", lname = \"Refsnes\")"
      ],
      "metadata": {
        "colab": {
          "base_uri": "https://localhost:8080/"
        },
        "id": "u3874_Ma72kP",
        "outputId": "59f05cad-a9c9-4d1a-bd62-fc8820419cc4"
      },
      "execution_count": null,
      "outputs": [
        {
          "output_type": "stream",
          "name": "stdout",
          "text": [
            "His last name is Refsnes\n"
          ]
        }
      ]
    },
    {
      "cell_type": "code",
      "source": [
        "# Default Parameter Value\n",
        "# If we call the function without argument, it uses the default value:\n",
        "def my_function(country = \"Norway\"):\n",
        "  print(\"I am from \" + country)\n",
        "\n",
        "my_function(\"Sweden\") # I am from Sweden\n",
        "my_function(\"India\") # I am from India\n",
        "my_function() # I am from Norway\n",
        "my_function #"
      ],
      "metadata": {
        "colab": {
          "base_uri": "https://localhost:8080/",
          "height": 159
        },
        "id": "W2RCWf8f8bfC",
        "outputId": "e017014b-7abf-4f46-e16d-c1adaefa818a"
      },
      "execution_count": null,
      "outputs": [
        {
          "output_type": "stream",
          "name": "stdout",
          "text": [
            "I am from Sweden\n",
            "I am from India\n",
            "I am from Norway\n"
          ]
        },
        {
          "output_type": "execute_result",
          "data": {
            "text/plain": [
              "<function __main__.my_function(country='Norway')>"
            ],
            "text/html": [
              "<div style=\"max-width:800px; border: 1px solid var(--colab-border-color);\"><style>\n",
              "      pre.function-repr-contents {\n",
              "        overflow-x: auto;\n",
              "        padding: 8px 12px;\n",
              "        max-height: 500px;\n",
              "      }\n",
              "\n",
              "      pre.function-repr-contents.function-repr-contents-collapsed {\n",
              "        cursor: pointer;\n",
              "        max-height: 100px;\n",
              "      }\n",
              "    </style>\n",
              "    <pre style=\"white-space: initial; background:\n",
              "         var(--colab-secondary-surface-color); padding: 8px 12px;\n",
              "         border-bottom: 1px solid var(--colab-border-color);\"><b>my_function</b><br/>def my_function(country=&#x27;Norway&#x27;)</pre><pre class=\"function-repr-contents function-repr-contents-collapsed\" style=\"\"><a class=\"filepath\" style=\"display:none\" href=\"#\">/content/&lt;ipython-input-9-3797e4fc0d77&gt;</a>&lt;no docstring&gt;</pre></div>"
            ]
          },
          "metadata": {},
          "execution_count": 9
        }
      ]
    },
    {
      "cell_type": "code",
      "source": [
        "# Passing a List as an Argument\n",
        "\n",
        "def my_function(food):\n",
        "  for x in food:\n",
        "    print(x)\n",
        "\n",
        "fruits = [\"apple\", \"banana\", \"cherry\"]\n",
        "\n",
        "my_function(fruits)\n"
      ],
      "metadata": {
        "colab": {
          "base_uri": "https://localhost:8080/"
        },
        "id": "Qxyvpe1R9qkK",
        "outputId": "5571f401-fed1-49b1-dbe3-3f8149d02c0b"
      },
      "execution_count": null,
      "outputs": [
        {
          "output_type": "stream",
          "name": "stdout",
          "text": [
            "apple\n",
            "banana\n",
            "cherry\n"
          ]
        }
      ]
    },
    {
      "cell_type": "code",
      "source": [
        "# Return Values\n",
        "# To let a function return a value, use the return statement:\n",
        "def my_function(x):\n",
        "  return 5 * x\n",
        "\n",
        "print(my_function(3))\n",
        "print(my_function(5))\n",
        "print(my_function(9))"
      ],
      "metadata": {
        "colab": {
          "base_uri": "https://localhost:8080/"
        },
        "id": "sioPyy0i-UJ0",
        "outputId": "12fc17e3-6015-431e-ac9c-8fb41798b36f"
      },
      "execution_count": null,
      "outputs": [
        {
          "output_type": "stream",
          "name": "stdout",
          "text": [
            "15\n",
            "25\n",
            "45\n"
          ]
        }
      ]
    },
    {
      "cell_type": "code",
      "source": [
        "# The pass Statement\n",
        "\n",
        "# function definitions cannot be empty, but if you for some reason have a function definition with no content,\n",
        "# put in the pass statement to avoid getting an error.\n",
        "def myfunction():\n",
        "  pass"
      ],
      "metadata": {
        "id": "ZOMFIZed-oVo"
      },
      "execution_count": null,
      "outputs": []
    },
    {
      "cell_type": "code",
      "source": [
        "# Positional-Only Arguments\n",
        "# You can specify that a function can have ONLY positional arguments, or ONLY keyword arguments.\n",
        "\n",
        "# To specify that a function can have only positional arguments, add , / after the arguments:\n",
        "\n",
        "def my_function(x, /):\n",
        "  print(x) # prints 3\n",
        "\n",
        "my_function(3)"
      ],
      "metadata": {
        "colab": {
          "base_uri": "https://localhost:8080/"
        },
        "id": "iIZPVuqT-rhs",
        "outputId": "f7308562-e634-4321-e75d-32b37655dcfc"
      },
      "execution_count": null,
      "outputs": [
        {
          "output_type": "stream",
          "name": "stdout",
          "text": [
            "3\n"
          ]
        }
      ]
    },
    {
      "cell_type": "code",
      "source": [
        "# Without the , / you are actually allowed to use keyword arguments even if the function expects positional arguments:\n",
        "def my_function(x):\n",
        "  print(x) # print 3\n",
        "\n",
        "my_function(x = 3)"
      ],
      "metadata": {
        "colab": {
          "base_uri": "https://localhost:8080/"
        },
        "id": "PjX8-0CE_vYN",
        "outputId": "62b07f57-2176-420a-8514-c1b93c5e5b20"
      },
      "execution_count": null,
      "outputs": [
        {
          "output_type": "stream",
          "name": "stdout",
          "text": [
            "3\n"
          ]
        }
      ]
    },
    {
      "cell_type": "code",
      "source": [
        "# But when adding the , / you will get an error if you try to send a keyword argument:\n",
        "def my_function(x, /):\n",
        "  print(x)\n",
        "\n",
        "my_function(x = 3) # error\n"
      ],
      "metadata": {
        "id": "jVr9FNGF_9Fy"
      },
      "execution_count": null,
      "outputs": []
    },
    {
      "cell_type": "code",
      "source": [
        "# Keyword-Only Arguments\n",
        "# To specify that a function can have only keyword arguments, add *, before the arguments:\n",
        "def my_function(*, x):\n",
        "  print(x) # prints 3\n",
        "\n",
        "my_function(x = 3)"
      ],
      "metadata": {
        "colab": {
          "base_uri": "https://localhost:8080/"
        },
        "id": "nrIh0cpxAKD3",
        "outputId": "c86690bf-6c5d-473f-c955-cadce13ba60c"
      },
      "execution_count": null,
      "outputs": [
        {
          "output_type": "stream",
          "name": "stdout",
          "text": [
            "3\n"
          ]
        }
      ]
    },
    {
      "cell_type": "code",
      "source": [
        "# Without the *, you are allowed to use positionale arguments even if the function expects keyword arguments:\n",
        "def my_function(x):\n",
        "  print(x) # prints 3\n",
        "\n",
        "my_function(3)"
      ],
      "metadata": {
        "colab": {
          "base_uri": "https://localhost:8080/"
        },
        "id": "AuRBTMlzAxEH",
        "outputId": "d7c2ad90-cd61-49b8-ebaf-fe092c7ad729"
      },
      "execution_count": null,
      "outputs": [
        {
          "output_type": "stream",
          "name": "stdout",
          "text": [
            "3\n"
          ]
        }
      ]
    },
    {
      "cell_type": "code",
      "source": [
        "# But when adding the *, / you will get an error if you try to send a positional argument:\n",
        "def my_function(*, x):\n",
        "  print(x)\n",
        "\n",
        "my_function(3) # error"
      ],
      "metadata": {
        "id": "O4B9Q0lRA_5G"
      },
      "execution_count": null,
      "outputs": []
    },
    {
      "cell_type": "code",
      "source": [
        "# Combine Positional-Only and Keyword-Only\n",
        "# You can combine the two argument types in the same function.\n",
        "\n",
        "# Any argument before the / , are positional-only, and any argument after the *, are keyword-only.\n",
        "\n",
        "def my_function(x, /, y, *, z):\n",
        "  print(x, y, z) # prints 1 2 3\n",
        "\n",
        "my_function(1, 2, z = 3)"
      ],
      "metadata": {
        "colab": {
          "base_uri": "https://localhost:8080/"
        },
        "id": "GOn8p0JDBmpN",
        "outputId": "f7a42770-c38f-4485-bb48-f3ec23ba170f"
      },
      "execution_count": null,
      "outputs": [
        {
          "output_type": "stream",
          "name": "stdout",
          "text": [
            "1 2 3\n"
          ]
        }
      ]
    },
    {
      "cell_type": "markdown",
      "source": [
        "### Recursion\n",
        "\n",
        "Python also accepts function recursion, which means a defined function can call itself.\n",
        "\n",
        "Recursion is a common mathematical and programming concept. It means that a function calls itself. This has the benefit of meaning that you can loop through data to reach a result.\n",
        "\n",
        "The developer should be very careful with recursion as it can be quite easy to slip into writing a function which never terminates, or one that uses excess amounts of memory or processor power. However, when written correctly recursion can be a very efficient and mathematically-elegant approach to programming.\n",
        "\n",
        "In this example, tri_recursion() is a function that we have defined to call itself (\"recurse\"). We use the k variable as the data, which decrements (-1) every time we recurse. The recursion ends when the condition is not greater than 0 (i.e. when it is 0).\n",
        "\n",
        "To a new developer it can take some time to work out how exactly this works, best way to find out is by testing and modifying it."
      ],
      "metadata": {
        "id": "gPdN-6Y3B6ew"
      }
    },
    {
      "cell_type": "code",
      "source": [
        "# Recursion Example\n",
        "def tri_recursion(k):\n",
        "  if(k > 0):\n",
        "    result = k + tri_recursion(k - 1)\n",
        "    print(result) # prints 1 3 6 10 15 21 21\n",
        "  else:\n",
        "    result = 0\n",
        "  return result\n",
        "\n",
        "  print(\"\\n\\nRecursion Example Results\")\n",
        "tri_recursion(6)"
      ],
      "metadata": {
        "colab": {
          "base_uri": "https://localhost:8080/"
        },
        "id": "jd3MC4NJB-ZT",
        "outputId": "8c48da4a-1ce3-418a-af33-738acff9e83b"
      },
      "execution_count": null,
      "outputs": [
        {
          "output_type": "stream",
          "name": "stdout",
          "text": [
            "1\n",
            "3\n",
            "6\n",
            "10\n",
            "15\n",
            "21\n"
          ]
        },
        {
          "output_type": "execute_result",
          "data": {
            "text/plain": [
              "21"
            ]
          },
          "metadata": {},
          "execution_count": 22
        }
      ]
    },
    {
      "cell_type": "markdown",
      "source": [
        "### Python Lambda\n",
        "A lambda function is a small anonymous function.\n",
        "\n",
        "A lambda function can take any number of arguments, but can only have one expression.\n",
        "\n",
        "Syntax:\n",
        "\n",
        " * lambda arguments : expression: The expression is executed and the result is returned\n",
        " * Lambda functions can take any number of arguments\n",
        " * The power of lambda is better shown when you use them as an anonymous function inside another function.\n",
        " * Use lambda functions when an anonymous function is required for a short period of time.\n",
        "\n",
        "\n"
      ],
      "metadata": {
        "id": "2htQgfZAaYof"
      }
    },
    {
      "cell_type": "code",
      "source": [
        "# Add 10 to argument a, and return the result:\n",
        "x = lambda a : a + 10\n",
        "print(x(5)) # prints 15"
      ],
      "metadata": {
        "colab": {
          "base_uri": "https://localhost:8080/"
        },
        "id": "U-YBpnKHa3F7",
        "outputId": "ee0b8908-242f-46da-d6c8-0839cbecacee"
      },
      "execution_count": null,
      "outputs": [
        {
          "output_type": "stream",
          "name": "stdout",
          "text": [
            "15\n"
          ]
        }
      ]
    },
    {
      "cell_type": "code",
      "source": [
        "# Multiply argument a with argument b and return the result:\n",
        "x = lambda a, b : a * b\n",
        "print(x(5, 6))# prints 30"
      ],
      "metadata": {
        "colab": {
          "base_uri": "https://localhost:8080/"
        },
        "id": "osp6dut1bAxs",
        "outputId": "69b4738c-079a-493d-a411-bf564e24402d"
      },
      "execution_count": null,
      "outputs": [
        {
          "output_type": "stream",
          "name": "stdout",
          "text": [
            "30\n"
          ]
        }
      ]
    },
    {
      "cell_type": "code",
      "source": [
        "# Summarize argument a, b, and c and return the result:\n",
        "x = lambda a, b, c : a + b + c\n",
        "print(x(5, 6, 2)) # prints 13"
      ],
      "metadata": {
        "colab": {
          "base_uri": "https://localhost:8080/"
        },
        "id": "0acTNJbBbG1y",
        "outputId": "2e1c130f-f52b-4b22-a7de-2d4ac0870b3d"
      },
      "execution_count": null,
      "outputs": [
        {
          "output_type": "stream",
          "name": "stdout",
          "text": [
            "13\n"
          ]
        }
      ]
    },
    {
      "cell_type": "code",
      "source": [
        "# you have a function definition that takes one argument,\n",
        "#  and that argument will be multiplied with an unknown number:\n",
        "def myfunc(n):\n",
        "  return lambda a : a * n\n"
      ],
      "metadata": {
        "id": "ULDYmxZWbaQc"
      },
      "execution_count": null,
      "outputs": []
    },
    {
      "cell_type": "code",
      "source": [
        "mydoubler = myfunc(2)\n",
        "mytripler = myfunc(3)\n",
        "\n",
        "print(mydoubler(11)) # prints 22\n",
        "print(mytripler(11)) # prints 33"
      ],
      "metadata": {
        "colab": {
          "base_uri": "https://localhost:8080/"
        },
        "id": "ttuHrznKbyFL",
        "outputId": "b978fea6-5746-4ae9-f2a3-3552f7a8232d"
      },
      "execution_count": null,
      "outputs": [
        {
          "output_type": "stream",
          "name": "stdout",
          "text": [
            "22\n",
            "33\n"
          ]
        }
      ]
    },
    {
      "cell_type": "markdown",
      "source": [
        "### Python Arrays\n",
        "Python does not have built-in support for Arrays, but Python Lists can be used instead.\n",
        "\n",
        "This page shows you how to use LISTS as ARRAYS, however, to work with arrays in Python you will have to import a library, like the NumPy library.\n",
        "\n",
        "Arrays are used to store multiple values in one single variable\n",
        "\n",
        "An array is a special variable, which can hold more than one value at a time.\n",
        "\n",
        "An array can hold many values under a single name, and you can access the values by referring to an index number."
      ],
      "metadata": {
        "id": "vkSIJNircgUM"
      }
    },
    {
      "cell_type": "code",
      "source": [
        "# Create an array containing car names:\n",
        "cars = [\"Ford\", \"Volvo\", \"BMW\"]\n",
        "print(cars)"
      ],
      "metadata": {
        "colab": {
          "base_uri": "https://localhost:8080/"
        },
        "id": "91p482pncqxT",
        "outputId": "bc33f728-737b-4eb9-eac5-b6db22bdb0fe"
      },
      "execution_count": null,
      "outputs": [
        {
          "output_type": "stream",
          "name": "stdout",
          "text": [
            "['Ford', 'Volvo', 'BMW']\n"
          ]
        }
      ]
    },
    {
      "cell_type": "code",
      "source": [
        "# If you have a list of items (a list of car names, for example),\n",
        "# storing the cars in single variables could look like this:\n",
        "\n",
        "car1 = \"Ford\"\n",
        "car2 = \"Volvo\"\n",
        "car3 = \"BMW\"\n",
        "\n",
        "# However, what if you want to loop through the cars and find a specific one?\n",
        "# And what if you had not 3 cars, but 300?\n",
        "\n",
        "# The solution is an array!"
      ],
      "metadata": {
        "id": "n0iwuaFGc6-b"
      },
      "execution_count": null,
      "outputs": []
    },
    {
      "cell_type": "code",
      "source": [
        "# Access the Elements of an Array\n",
        "# You refer to an array element by referring to the index number.\n",
        "# Get the value of the first array item\n",
        "x = cars[0]\n",
        "print(x) # prints Ford"
      ],
      "metadata": {
        "colab": {
          "base_uri": "https://localhost:8080/"
        },
        "id": "A9zwzdXcdrXh",
        "outputId": "5bd4fe50-be34-4549-c776-c76dfb245d01"
      },
      "execution_count": null,
      "outputs": [
        {
          "output_type": "stream",
          "name": "stdout",
          "text": [
            "Ford\n"
          ]
        }
      ]
    },
    {
      "cell_type": "code",
      "source": [
        "# Modify the value of the first array item:\n",
        "cars[0] = \"Toyota\"\n",
        "print(cars) # prints ['Toyota', 'Volvo', 'BMW']"
      ],
      "metadata": {
        "colab": {
          "base_uri": "https://localhost:8080/"
        },
        "id": "CtqfEqhdeCyy",
        "outputId": "1883d48c-0539-4477-cb5d-fb5e7a5068dd"
      },
      "execution_count": null,
      "outputs": [
        {
          "output_type": "stream",
          "name": "stdout",
          "text": [
            "['Toyota', 'Volvo', 'BMW']\n"
          ]
        }
      ]
    },
    {
      "cell_type": "code",
      "source": [
        "# Use the len() method to return the length of an array (the number of elements in an array).\n",
        "\n",
        "x = len(cars)\n",
        "print(x) # prints 3\n",
        "\n",
        "# Note: The length of an array is always one more than the highest array index."
      ],
      "metadata": {
        "colab": {
          "base_uri": "https://localhost:8080/"
        },
        "id": "6OAjIReneKzZ",
        "outputId": "b44226a5-9240-4fbd-d647-a8940550768b"
      },
      "execution_count": null,
      "outputs": [
        {
          "output_type": "stream",
          "name": "stdout",
          "text": [
            "3\n"
          ]
        }
      ]
    },
    {
      "cell_type": "code",
      "source": [
        "# Looping Array Elements\n",
        "# You can use the for in loop to loop through all the elements of an array.\n",
        "# Print each item in the cars array:\n",
        "for x in cars:\n",
        "  print(x) # prints Toyota Volvo BMW\n",
        "#"
      ],
      "metadata": {
        "colab": {
          "base_uri": "https://localhost:8080/"
        },
        "id": "HOQfZ0ggeWVs",
        "outputId": "9b202a3c-83df-4762-fa89-9f2195171fb1"
      },
      "execution_count": null,
      "outputs": [
        {
          "output_type": "stream",
          "name": "stdout",
          "text": [
            "Toyota\n",
            "Volvo\n",
            "BMW\n"
          ]
        }
      ]
    },
    {
      "cell_type": "code",
      "source": [
        "# Adding Array Elements\n",
        "# You can use the append() method to add an element to an array.\n",
        "# Add one more element to the cars array:\n",
        "cars.append(\"Honda\")\n",
        "print(cars) # prints ['Toyota', 'Volvo', 'BMW', 'Honda']"
      ],
      "metadata": {
        "colab": {
          "base_uri": "https://localhost:8080/"
        },
        "id": "ft-ih2Wfedoc",
        "outputId": "f2d61bcf-f8c2-469d-8be5-5be5790dbef7"
      },
      "execution_count": null,
      "outputs": [
        {
          "output_type": "stream",
          "name": "stdout",
          "text": [
            "['Toyota', 'Volvo', 'BMW', 'Honda']\n"
          ]
        }
      ]
    },
    {
      "cell_type": "code",
      "source": [
        "# Removing Array Elements\n",
        "#You can use the pop() method to remove an element from the array.\n",
        "# Delete the second element of the cars array:\n",
        "cars.pop(1)\n",
        "print(cars) # prints ['Toyota', 'BMW', 'Honda']\n"
      ],
      "metadata": {
        "colab": {
          "base_uri": "https://localhost:8080/"
        },
        "id": "es7CPcIMemGd",
        "outputId": "27f6edd6-8644-4787-dab6-04c8d21ed149"
      },
      "execution_count": null,
      "outputs": [
        {
          "output_type": "stream",
          "name": "stdout",
          "text": [
            "['Toyota', 'BMW', 'Honda']\n"
          ]
        }
      ]
    },
    {
      "cell_type": "code",
      "source": [
        "# You can also use the remove() method to remove an element from the array.\n",
        "# Delete the element that has the value \"Volvo\":\n",
        "# Note: The list's remove() method only removes the first occurrence of the specified value.\n",
        "cars.remove(\"BMW\")\n",
        "print(cars) # prints ['Toyota', 'Honda']"
      ],
      "metadata": {
        "colab": {
          "base_uri": "https://localhost:8080/"
        },
        "id": "3b3NTlkoeuzo",
        "outputId": "0c607564-e011-42c8-bad3-939e2c74583e"
      },
      "execution_count": null,
      "outputs": [
        {
          "output_type": "stream",
          "name": "stdout",
          "text": [
            "['Toyota', 'Honda']\n"
          ]
        }
      ]
    },
    {
      "cell_type": "markdown",
      "source": [
        "### Python Classes and Objects\n",
        "Python is an object oriented programming language.\n",
        "\n",
        "Almost everything in Python is an object, with its properties and methods.\n",
        "\n",
        "A Class is like an object constructor, or a \"blueprint\" for creating objects.\n",
        "\n",
        "The __init__() Function:\n",
        "* The examples above are classes and objects in their simplest form, and are not really useful in real life applications.\n",
        "\n",
        "* To understand the meaning of classes we have to understand the built-in __init__() function.\n",
        "\n",
        "* All classes have a function called __init__(), which is always executed when the class is being initiated.\n",
        "\n",
        "* Use the __init__() function to assign values to object properties, or other operations that are necessary to do when the object is being created\n",
        "\n",
        "Note: The __init__() function is called automatically every time the class is being used to create a new object."
      ],
      "metadata": {
        "id": "avt_PtTpe98S"
      }
    },
    {
      "cell_type": "code",
      "source": [
        "# Create a class named MyClass, with a property named x:\n",
        "class MyClass:\n",
        "  x = 5"
      ],
      "metadata": {
        "id": "UndCkfiyfi9I"
      },
      "execution_count": null,
      "outputs": []
    },
    {
      "cell_type": "code",
      "source": [
        "# Create an object named p1, and print the value of x:\n",
        "p1 = MyClass()\n",
        "print(p1.x) # prints 5"
      ],
      "metadata": {
        "colab": {
          "base_uri": "https://localhost:8080/"
        },
        "id": "xPGBw-FiflLc",
        "outputId": "4d0007e9-91ea-48c0-811b-d47a8ce037f9"
      },
      "execution_count": null,
      "outputs": [
        {
          "output_type": "stream",
          "name": "stdout",
          "text": [
            "5\n"
          ]
        }
      ]
    },
    {
      "cell_type": "code",
      "source": [
        "# Create a class named Person, use the __init__() function to assign values for name and age:\n",
        "class Person:\n",
        "  def __init__(self, name, age):\n",
        "    self.name = name\n",
        "    self.age = age\n",
        "\n",
        "p1 = Person(\"John\", 36)\n",
        "\n",
        "print(p1.name) # prints John\n",
        "print(p1.age) # prints 36"
      ],
      "metadata": {
        "colab": {
          "base_uri": "https://localhost:8080/"
        },
        "id": "Ds8v9GbCfrCQ",
        "outputId": "2aba62d4-4f12-43f0-84b6-2f96e08f3c6b"
      },
      "execution_count": null,
      "outputs": [
        {
          "output_type": "stream",
          "name": "stdout",
          "text": [
            "John\n",
            "36\n"
          ]
        }
      ]
    },
    {
      "cell_type": "code",
      "source": [
        "# The __str__() Function\n",
        "# The __str__() function controls what should be returned when the class object is represented as a string.\n",
        "\n",
        "# If the __str__() function is not set, the string representation of the object is returned:\n",
        "class Person:\n",
        "  def __init__(self, name, age):\n",
        "    self.name = name\n",
        "    self.age = age\n",
        "\n",
        "p1 = Person(\"John\", 36)\n",
        "\n",
        "print(p1) # prints <__main__.Person object at 0x7c502e6d91e0>"
      ],
      "metadata": {
        "colab": {
          "base_uri": "https://localhost:8080/"
        },
        "id": "2qMiNTACgkV9",
        "outputId": "7eeca29a-e5d4-4842-b17f-990d6caf94eb"
      },
      "execution_count": null,
      "outputs": [
        {
          "output_type": "stream",
          "name": "stdout",
          "text": [
            "<__main__.Person object at 0x7c502e6d91e0>\n"
          ]
        }
      ]
    },
    {
      "cell_type": "code",
      "source": [
        "# The string representation of an object WITH the __str__() function:\n",
        "class Person:\n",
        "  def __init__(self, name, age):\n",
        "    self.name = name\n",
        "    self.age = age\n",
        "\n",
        "  def __str__(self):\n",
        "    return f\"{self.name}({self.age})\"\n",
        "\n",
        "p1 = Person(\"John\", 36)\n",
        "\n",
        "print(p1) # prints  John(36)"
      ],
      "metadata": {
        "colab": {
          "base_uri": "https://localhost:8080/"
        },
        "id": "U6-vO-OAg0HX",
        "outputId": "c79576fe-de54-4b81-ce97-59613273581c"
      },
      "execution_count": null,
      "outputs": [
        {
          "output_type": "stream",
          "name": "stdout",
          "text": [
            "John(36)\n"
          ]
        }
      ]
    },
    {
      "cell_type": "code",
      "source": [
        "# Object Methods\n",
        "# Objects can also contain methods. Methods in objects are functions that belong to the object.\n",
        "\n",
        "# Note: The self parameter is a reference to the current instance of the class, and is used to access variables\n",
        "# that belong to the class.\n",
        "\n",
        "# Insert a function that prints a greeting, and execute it on the p1 object:\n",
        "\n",
        "class Person:\n",
        "  def __init__(self, name, age):\n",
        "    self.name = name\n",
        "    self.age = age\n",
        "\n",
        "  def myfunc(self):\n",
        "    print(\"Hello my name is \" + self.name)\n",
        "\n",
        "p1 = Person(\"John\", 36)\n",
        "p1.myfunc() # prints Hello my name is John\n",
        "\n"
      ],
      "metadata": {
        "colab": {
          "base_uri": "https://localhost:8080/"
        },
        "id": "ipT3uv7LhBSb",
        "outputId": "2f9829db-4a50-4042-c966-3fdecb39ae56"
      },
      "execution_count": null,
      "outputs": [
        {
          "output_type": "stream",
          "name": "stdout",
          "text": [
            "Hello my name is John\n"
          ]
        }
      ]
    },
    {
      "cell_type": "code",
      "source": [
        "# The self Parameter\n",
        "# The self parameter is a reference to the current instance of the class,\n",
        "# and is used to access variables that belongs to the class.\n",
        "\n",
        "# It does not have to be named self , you can call it whatever you like,\n",
        "# but it has to be the first parameter of any function in the class:\n",
        "\n",
        "# Use the words mysillyobject and abc instead of self:\n",
        "class Person:\n",
        "  def __init__(mysillyobject, name, age):\n",
        "    mysillyobject.name = name\n",
        "    mysillyobject.age = age\n",
        "\n",
        "  def myfunc(abc):\n",
        "    print(\"Hello my name is \" + abc.name)\n",
        "\n",
        "p1 = Person(\"John\", 36)\n",
        "p1.myfunc() # prints Hello my name is John"
      ],
      "metadata": {
        "colab": {
          "base_uri": "https://localhost:8080/"
        },
        "id": "fZJKcqrchp1Z",
        "outputId": "05608ce1-a3f0-486b-edca-8d3f4d97a7ad"
      },
      "execution_count": null,
      "outputs": [
        {
          "output_type": "stream",
          "name": "stdout",
          "text": [
            "Hello my name is John\n"
          ]
        }
      ]
    },
    {
      "cell_type": "code",
      "source": [
        "# Modify Object Properties\n",
        "# You can modify properties on objects like this:\n",
        "# Set the age of p1 to 40:\n",
        "p1.age = 40\n",
        "print(p1.age) # prints 40"
      ],
      "metadata": {
        "colab": {
          "base_uri": "https://localhost:8080/"
        },
        "id": "vsbWO8DXiQzG",
        "outputId": "3dabb251-72c5-4c81-d8f2-148e1aa3a068"
      },
      "execution_count": null,
      "outputs": [
        {
          "output_type": "stream",
          "name": "stdout",
          "text": [
            "40\n"
          ]
        }
      ]
    },
    {
      "cell_type": "code",
      "source": [
        "# Delete Object Properties\n",
        "# You can delete properties on objects by using the del keyword:\n",
        "# Delete the age property from the p1 object:\n",
        "del p1.age\n",
        "print(p1.age) # error"
      ],
      "metadata": {
        "id": "7Lzn_wqbiVjW"
      },
      "execution_count": null,
      "outputs": []
    },
    {
      "cell_type": "code",
      "source": [
        "# You can delete objects by using the del keyword:\n",
        "# Delete the p1 object:\n",
        "del p1\n",
        "print(p1) # error"
      ],
      "metadata": {
        "id": "CtDR7RYvibG4"
      },
      "execution_count": null,
      "outputs": []
    },
    {
      "cell_type": "code",
      "source": [
        "# The pass Statement\n",
        "# class definitions cannot be empty, but if you for some reason have a class definition with no content,\n",
        "# put in the pass statement to avoid getting an error.\n",
        "class Person:\n",
        "  pass"
      ],
      "metadata": {
        "id": "MSuUrjJOihvI"
      },
      "execution_count": null,
      "outputs": []
    },
    {
      "cell_type": "markdown",
      "source": [
        "### Python Inheritance\n",
        "**Inheritance** allows us to define a class that inherits all the methods and properties from another class.\n",
        "\n",
        "**Parent class** is the class being inherited from, also called base class.\n",
        "\n",
        "**Child class** is the class that inherits from another class, also called derived class.\n",
        "\n",
        "Note: Use the **pass** keyword when you do not want to add any other properties or methods to the class.\n",
        "\n",
        "Add the __init__() Function:\n",
        "\n",
        "* The __init__() function is called automatically every time the class is being used to create a new object.\n",
        "\n",
        "* The child's __init__() function overrides the inheritance of the parent's __init__() function.\n",
        "\n",
        "* Python also has a super() function that will make the child class inherit all the methods and properties from its parent\n",
        "\n",
        "* By using the super() function, you do not have to use the name of the parent element, it will automatically inherit the methods and properties from its parent.\n",
        "\n",
        "\n",
        "\n"
      ],
      "metadata": {
        "id": "iHdo5HVbi2Hw"
      }
    },
    {
      "cell_type": "code",
      "source": [
        "# Create a class named Person, with firstname and lastname properties, and a printname method:\n",
        "class Person:\n",
        "  def __init__(self, fname, lname):\n",
        "    self.firstname = fname\n",
        "    self.lastname = lname\n",
        "\n",
        "  def printname(self):\n",
        "    print(self.firstname, self.lastname)\n",
        "\n",
        "#Use the Person class to create an object, and then execute the printname method:\n",
        "\n",
        "x = Person(\"John\", \"Doe\")\n",
        "x.printname() # prints  John Doe\n"
      ],
      "metadata": {
        "colab": {
          "base_uri": "https://localhost:8080/"
        },
        "id": "rS7UvJ0Hj0DN",
        "outputId": "ad79f8eb-f778-4a17-ab3a-69a65b81568b"
      },
      "execution_count": null,
      "outputs": [
        {
          "output_type": "stream",
          "name": "stdout",
          "text": [
            "John Doe\n"
          ]
        }
      ]
    },
    {
      "cell_type": "code",
      "source": [
        "# Create a class named Student, which will inherit the properties and methods from the Person class:\n",
        "class Student(Person):\n",
        "  pass"
      ],
      "metadata": {
        "id": "OOFtW4ebkDmb"
      },
      "execution_count": null,
      "outputs": []
    },
    {
      "cell_type": "code",
      "source": [
        "# Now the Student class has the same properties and methods as the Person class.\n",
        "\n",
        "# Use the Student class to create an object, and then execute the printname method:\n",
        "\n",
        "x = Student(\"Mike\", \"Olsen\")\n",
        "x.printname() # prints Mike Olsen\n"
      ],
      "metadata": {
        "colab": {
          "base_uri": "https://localhost:8080/"
        },
        "id": "EgXEOdY0kIth",
        "outputId": "66adeda6-d180-47f5-a293-52f80a6df57e"
      },
      "execution_count": null,
      "outputs": [
        {
          "output_type": "stream",
          "name": "stdout",
          "text": [
            "Mike Olsen\n"
          ]
        }
      ]
    },
    {
      "cell_type": "code",
      "source": [
        "# Add the __init__() function to the Student class:\n",
        "class Student(Person):\n",
        "  def __init__(self, fname, lname):\n",
        "    #add properties etc.\n",
        "    pass\n",
        "\n"
      ],
      "metadata": {
        "id": "nsKdhZfjkXaM"
      },
      "execution_count": null,
      "outputs": []
    },
    {
      "cell_type": "code",
      "source": [
        "# When you add the __init__() function, the child class will no longer inherit the parent's __init__() function.\n",
        "\n",
        "# Note: The child's __init__() function overrides the inheritance of the parent's __init__() function.\n",
        "\n",
        "# To keep the inheritance of the parent's __init__() function, add a call to the parent's __init__() function\n",
        "\n",
        "class Student(Person):\n",
        "  def __init__(self, fname, lname):\n",
        "    Person.__init__(self, fname, lname)\n",
        "\n"
      ],
      "metadata": {
        "id": "4iYUUiA1kp_s"
      },
      "execution_count": null,
      "outputs": []
    },
    {
      "cell_type": "code",
      "source": [
        "# Python also has a super() function that will make the child class inherit all the methods\n",
        "# and properties from its parent:\n",
        "# By using the super() function, you do not have to use the name of the parent element,\n",
        "# it will automatically inherit the methods and properties from its parent.\n",
        "\n",
        "class Student(Person):\n",
        "  def __init__(self, fname, lname):\n",
        "    super().__init__(fname, lname)\n"
      ],
      "metadata": {
        "id": "DF3vg2Mik9pm"
      },
      "execution_count": null,
      "outputs": []
    },
    {
      "cell_type": "code",
      "source": [
        "# Add Properties\n",
        "# Add a property called graduationyear to the Student class:\n",
        "class Person:\n",
        "  def __init__(self, fname, lname):\n",
        "    self.firstname = fname\n",
        "    self.lastname = lname\n",
        "\n",
        "  def printname(self):\n",
        "    print(self.firstname, self.lastname)\n",
        "\n",
        "class Student(Person):\n",
        "  def __init__(self, fname, lname):\n",
        "    super().__init__(fname, lname)\n",
        "    self.graduationyear = 2019\n",
        "\n",
        "x = Student(\"Mike\", \"Olsen\")\n",
        "print(x.graduationyear) # prints 2019\n"
      ],
      "metadata": {
        "colab": {
          "base_uri": "https://localhost:8080/"
        },
        "id": "SFo_BdVXlUBK",
        "outputId": "66a7faa6-13db-4adb-ce29-8b13edd09406"
      },
      "execution_count": null,
      "outputs": [
        {
          "output_type": "stream",
          "name": "stdout",
          "text": [
            "2019\n"
          ]
        }
      ]
    },
    {
      "cell_type": "code",
      "source": [
        "# In the example below, the year 2019 should be a variable, and passed into the Student class\n",
        "# when creating student objects. To do so, add another parameter in the __init__() function:\n",
        "\n",
        "# Add a year parameter, and pass the correct year when creating objects:\n",
        "class Person:\n",
        "  def __init__(self, fname, lname):\n",
        "    self.firstname = fname\n",
        "    self.lastname = lname\n",
        "\n",
        "  def printname(self):\n",
        "    print(self.firstname, self.lastname)\n",
        "\n",
        "class Student(Person):\n",
        "  def __init__(self, fname, lname, year):\n",
        "    super().__init__(fname, lname)\n",
        "    self.graduationyear = year\n",
        "\n",
        "x = Student(\"Mike\", \"Olsen\", 2019)\n",
        "print(x.graduationyear) # prints 2019\n",
        "print(x.firstname)# prints Mike\n",
        "print(x.lastname)# prints Olsen"
      ],
      "metadata": {
        "colab": {
          "base_uri": "https://localhost:8080/"
        },
        "id": "zVx5Sd3RlxaO",
        "outputId": "512b89c6-db7e-447b-e59c-fb787249bf5e"
      },
      "execution_count": null,
      "outputs": [
        {
          "output_type": "stream",
          "name": "stdout",
          "text": [
            "2019\n",
            "Mike\n",
            "Olsen\n"
          ]
        }
      ]
    },
    {
      "cell_type": "code",
      "source": [
        "# Add Methods\n",
        "# Add a method called welcome to the Student class:\n",
        "class Person:\n",
        "  def __init__(self, fname, lname):\n",
        "    self.firstname = fname\n",
        "    self.lastname = lname\n",
        "\n",
        "  def printname(self):\n",
        "    print(self.firstname, self.lastname)\n",
        "\n",
        "class Student(Person):\n",
        "  def __init__(self, fname, lname, year):\n",
        "    super().__init__(fname, lname)\n",
        "    self.graduationyear = year\n",
        "\n",
        "  def welcome(self):\n",
        "    print(\"Welcome\", self.firstname, self.lastname, \"to the class of\", self.graduationyear)\n",
        "\n",
        "x = Student(\"Mike\", \"Olsen\", 2024)\n",
        "x.welcome() # prints Welcome Mike Olsen to the class of 2024\n"
      ],
      "metadata": {
        "colab": {
          "base_uri": "https://localhost:8080/"
        },
        "id": "qgDSbbolmdqZ",
        "outputId": "5f21ae7c-9659-47ea-919d-7097b8d0c148"
      },
      "execution_count": null,
      "outputs": [
        {
          "output_type": "stream",
          "name": "stdout",
          "text": [
            "Welcome Mike Olsen to the class of 2024\n"
          ]
        }
      ]
    },
    {
      "cell_type": "markdown",
      "source": [
        "### Python Iterators\n",
        "An iterator is an object that contains a countable number of values.\n",
        "\n",
        "An iterator is an object that can be iterated upon, meaning that you can traverse through all the values.\n",
        "\n",
        "Technically, in Python, an iterator is an object which implements the iterator protocol, which consist of the methods __iter__() and __next__().\n",
        "\n",
        "**Iterator vs Iterable:**\n",
        "* Lists, tuples, dictionaries, and sets are all iterable objects. They are iterable containers which you can get an iterator from.\n",
        "\n",
        "* All these objects have a iter() method which is used to get an iterator:\n",
        "\n",
        "* To create an object/class as an iterator you have to implement the methods __iter__() and __next__() to your object.\n",
        "\n",
        "* As you have learned in the Python Classes/Objects chapter, all classes have a function called __init__(), which allows you to do some initializing when the object is being created.\n",
        "\n",
        "* The __iter__() method acts similar, you can do operations (initializing etc.), but must always return the iterator object itself.\n",
        "\n",
        "* The __next__() method also allows you to do operations, and must return the next item in the sequence.\n",
        "\n",
        "**StopIteration:**\n",
        "* The example above would continue forever if you had enough next() statements, or if it was used in a for loop.\n",
        "\n",
        "* To prevent the iteration from going on forever, we can use the StopIteration statement.\n",
        "\n",
        "* In the __next__() method, we can add a terminating condition to raise an error if the iteration is done a specified number of times:"
      ],
      "metadata": {
        "id": "dyWFRUE4nKLM"
      }
    },
    {
      "cell_type": "code",
      "source": [
        "# Return an iterator from a tuple, and print each value:\n",
        "mytuple = (\"apple\", \"banana\", \"cherry\")\n",
        "myit = iter(mytuple)\n",
        "\n",
        "print(next(myit)) # prints apple\n",
        "print(next(myit)) # prints banana\n",
        "print(next(myit)) # prints cherry"
      ],
      "metadata": {
        "colab": {
          "base_uri": "https://localhost:8080/"
        },
        "id": "PsOwsE7eqJeg",
        "outputId": "8b4f1395-c9e0-4761-8a11-7570dacb91e9"
      },
      "execution_count": null,
      "outputs": [
        {
          "output_type": "stream",
          "name": "stdout",
          "text": [
            "apple\n",
            "banana\n",
            "cherry\n"
          ]
        }
      ]
    },
    {
      "cell_type": "code",
      "source": [
        "# Even strings are iterable objects, and can return an iterator:\n",
        "# Strings are also iterable objects, containing a sequence of characters:\n",
        "mystr = \"banana\"\n",
        "myit = iter(mystr)\n",
        "\n",
        "print(next(myit)) # prints b\n",
        "print(next(myit)) # prints a\n",
        "print(next(myit)) # prints n\n",
        "print(next(myit)) # prints a\n",
        "print(next(myit)) # prints n\n",
        "print(next(myit)) # prints a\n",
        "\n"
      ],
      "metadata": {
        "colab": {
          "base_uri": "https://localhost:8080/"
        },
        "id": "MNozndyGqQsC",
        "outputId": "97a2bf93-e0fb-499f-c9a8-f483d9c1a489"
      },
      "execution_count": null,
      "outputs": [
        {
          "output_type": "stream",
          "name": "stdout",
          "text": [
            "b\n",
            "a\n",
            "n\n",
            "a\n",
            "n\n",
            "a\n"
          ]
        }
      ]
    },
    {
      "cell_type": "code",
      "source": [
        "# Looping Through an Iterator\n",
        "# We can also use a for loop to iterate through an iterable object:\n",
        "\n",
        "# Iterate the values of a tuple:\n",
        "mytuple = (\"apple\", \"banana\", \"cherry\")\n",
        "\n",
        "for x in mytuple:\n",
        "  print(x)\n",
        "\n"
      ],
      "metadata": {
        "colab": {
          "base_uri": "https://localhost:8080/"
        },
        "id": "wVTfthfDqaZO",
        "outputId": "81422164-8f8d-41e7-e8f2-4d384a6af634"
      },
      "execution_count": null,
      "outputs": [
        {
          "output_type": "stream",
          "name": "stdout",
          "text": [
            "apple\n",
            "banana\n",
            "cherry\n"
          ]
        }
      ]
    },
    {
      "cell_type": "code",
      "source": [
        "# Iterate the characters of a string:\n",
        "# The for loop actually creates an iterator object and executes the next() method for each loop.\n",
        "\n",
        "mystr = \"banana\"\n",
        "\n",
        "for x in mystr:\n",
        "  print(x)"
      ],
      "metadata": {
        "colab": {
          "base_uri": "https://localhost:8080/"
        },
        "id": "DL56UgrMqoJu",
        "outputId": "b2aaf41e-eead-4b82-bc28-409fbc59c82d"
      },
      "execution_count": null,
      "outputs": [
        {
          "output_type": "stream",
          "name": "stdout",
          "text": [
            "b\n",
            "a\n",
            "n\n",
            "a\n",
            "n\n",
            "a\n"
          ]
        }
      ]
    },
    {
      "cell_type": "code",
      "source": [
        "# Create an iterator that returns numbers, starting with 1,\n",
        "# and each sequence will increase by one (returning 1,2,3,4,5 etc.):\n",
        "class MyNumbers:\n",
        "  def __iter__(self):\n",
        "    self.a = 1\n",
        "    return self\n",
        "\n",
        "  def __next__(self):\n",
        "    x = self.a\n",
        "    self.a += 1\n",
        "    return x\n",
        "\n",
        "myclass = MyNumbers()\n",
        "myiter = iter(myclass)\n",
        "\n",
        "print(next(myiter))# prints 1\n",
        "print(next(myiter))# prints 2\n",
        "print(next(myiter))# prints 3\n",
        "print(next(myiter))# prints 4\n",
        "print(next(myiter))# prints 5"
      ],
      "metadata": {
        "colab": {
          "base_uri": "https://localhost:8080/"
        },
        "id": "CzwWV_Z6rNAx",
        "outputId": "7380bcca-184f-40ed-e5db-892f32d7acca"
      },
      "execution_count": null,
      "outputs": [
        {
          "output_type": "stream",
          "name": "stdout",
          "text": [
            "1\n",
            "2\n",
            "3\n",
            "4\n",
            "5\n"
          ]
        }
      ]
    },
    {
      "cell_type": "code",
      "source": [
        "# Stop after 20 iterations:\n",
        "class MyNumbers:\n",
        "  def __iter__(self):\n",
        "    self.a = 1\n",
        "    return self\n",
        "\n",
        "  def __next__(self):\n",
        "    if self.a <= 20:\n",
        "      x = self.a\n",
        "      self.a += 1\n",
        "      return x\n",
        "    else:\n",
        "      raise StopIteration\n",
        "\n",
        "myclass = MyNumbers()\n",
        "myiter = iter(myclass)\n",
        "\n",
        "for x in myiter:\n",
        "  print(x) # prints 1 ... 20"
      ],
      "metadata": {
        "colab": {
          "base_uri": "https://localhost:8080/"
        },
        "id": "ULZ6AhLhr_Za",
        "outputId": "3ef65d8e-798e-44ad-d10d-f275c7f7eb79"
      },
      "execution_count": null,
      "outputs": [
        {
          "output_type": "stream",
          "name": "stdout",
          "text": [
            "1\n",
            "2\n",
            "3\n",
            "4\n",
            "5\n",
            "6\n",
            "7\n",
            "8\n",
            "9\n",
            "10\n",
            "11\n",
            "12\n",
            "13\n",
            "14\n",
            "15\n",
            "16\n",
            "17\n",
            "18\n",
            "19\n",
            "20\n"
          ]
        }
      ]
    },
    {
      "cell_type": "markdown",
      "source": [
        "### Python Polymorphism\n",
        "The word \"polymorphism\" means \"many forms\", and in programming it refers to methods/functions/operators with the same name that can be executed on many objects or classes.\n",
        "\n",
        "**Function Polymorphism**\n",
        "\n",
        "* An example of a Python function that can be used on different objects is the len() function.\n",
        "\n",
        "* For tuples len() returns the number of items in the tuple:\n",
        "\n",
        "* For dictionaries len() returns the number of key/value pairs in the dictionary\n",
        "\n",
        "**Class Polymorphism**\n",
        "\n",
        "* Polymorphism is often used in Class methods, where we can have multiple classes with the same method name.\n",
        "\n",
        "* For example, say we have three classes: Car, Boat, and Plane, and they all have a method called move()\n",
        "\n",
        "**Inheritance Class Polymorphism**\n",
        "\n",
        "* What about classes with child classes with the same name? Can we use polymorphism there?\n",
        "\n",
        "* Yes. If we use the example above and make a parent class called Vehicle, and make Car, Boat, Plane child classes of Vehicle, the child classes inherits the Vehicle methods, but can override them\n",
        "\n",
        "* Child classes inherits the properties and methods from the parent class."
      ],
      "metadata": {
        "id": "SeTzJfI5tBu5"
      }
    },
    {
      "cell_type": "code",
      "source": [
        "# Class Polymorphism\n",
        "# For example, say we have three classes: Car, Boat, and Plane, and they all have a method called move():\n",
        "# Different classes with the same method:\n",
        "class Car:\n",
        "  def __init__(self, brand, model):\n",
        "    self.brand = brand\n",
        "    self.model = model\n",
        "\n",
        "  def move(self):\n",
        "    print(\"Drive!\")\n",
        "\n",
        "class Boat:\n",
        "  def __init__(self, brand, model):\n",
        "    self.brand = brand\n",
        "    self.model = model\n",
        "\n",
        "  def move(self):\n",
        "    print(\"Sail!\")\n",
        "\n",
        "class Plane:\n",
        "  def __init__(self, brand, model):\n",
        "    self.brand = brand\n",
        "    self.model = model\n",
        "\n",
        "  def move(self):\n",
        "    print(\"Fly!\")\n",
        "\n",
        "car1 = Car(\"Ford\", \"Mustang\")       #Create a Car class\n",
        "boat1 = Boat(\"Ibiza\", \"Touring 20\") #Create a Boat class\n",
        "plane1 = Plane(\"Boeing\", \"747\")     #Create a Plane class\n",
        "\n",
        "for x in (car1, boat1, plane1):\n",
        "  x.move() # prints Drive! Sail! Fly!\n",
        "\n",
        "# Note: Look at the for loop at the end. Because of polymorphism we can execute the same method\n",
        "# for all three classes."
      ],
      "metadata": {
        "colab": {
          "base_uri": "https://localhost:8080/"
        },
        "id": "1J4QYi_huVUj",
        "outputId": "fbdde0cc-7f91-48f4-c0aa-96f682ec97af"
      },
      "execution_count": null,
      "outputs": [
        {
          "output_type": "stream",
          "name": "stdout",
          "text": [
            "Drive!\n",
            "Sail!\n",
            "Fly!\n"
          ]
        }
      ]
    },
    {
      "cell_type": "code",
      "source": [
        "# Inheritance Class Polymorphism\n",
        "\"\"\" If we use the example above and make a parent class called Vehicle, and make Car, Boat, \\\n",
        "Plane child classes of Vehicle, the child classes inherits the Vehicle methods, but can override them\"\"\"\n",
        "\n",
        "# Create a class called Vehicle and make Car, Boat, Plane child classes of Vehicle:\n",
        "\n",
        "class Vehicle:\n",
        "  def __init__(self, brand, model):\n",
        "    self.brand = brand\n",
        "    self.model = model\n",
        "\n",
        "  def move(self):\n",
        "    print(\"Move!\")\n",
        "\n",
        "class Car(Vehicle):\n",
        "  pass\n",
        "\n",
        "class Boat(Vehicle):\n",
        "  def move(self):\n",
        "    print(\"Sail!\")\n",
        "\n",
        "class Plane(Vehicle):\n",
        "  def move(self):\n",
        "    print(\"Fly!\")\n",
        "\n",
        "car1 = Car(\"Ford\", \"Mustang\") #Create a Car object\n",
        "boat1 = Boat(\"Ibiza\", \"Touring 20\") #Create a Boat object\n",
        "plane1 = Plane(\"Boeing\", \"747\") #Create a Plane object\n",
        "\n",
        "for x in (car1, boat1, plane1):\n",
        "  #print(x.brand) # prints Ford Ibiza Boeing\n",
        "  #print(x.model) # prints Mustang Touring 20 747\n",
        "  x.move() # prints Move! Sail! Fly!\n",
        "\n",
        " # Child classes inherits the properties and methods from the parent class.\n",
        "\n",
        "# In the example above you can see that the Car class is empty, but it inherits brand, model, and move()\n",
        "# from Vehicle.\n",
        "\n",
        "# The Boat and Plane classes also inherit brand, model, and move() from Vehicle, but they both override the move()\n",
        "# method.\n",
        "\n",
        "# Because of polymorphism we can execute the same method for all classes."
      ],
      "metadata": {
        "colab": {
          "base_uri": "https://localhost:8080/"
        },
        "id": "5TwSTZM_vewr",
        "outputId": "6817d7c8-98d9-4fa6-e6e0-44abec05b420"
      },
      "execution_count": null,
      "outputs": [
        {
          "output_type": "stream",
          "name": "stdout",
          "text": [
            "Move!\n",
            "Sail!\n",
            "Fly!\n"
          ]
        }
      ]
    },
    {
      "cell_type": "markdown",
      "source": [
        "### Python Scope\n",
        "A variable is only available from inside the region it is created. This is called scope.\n",
        "\n",
        "**Local Scope**\n",
        "\n",
        "* A variable created inside a function belongs to the local scope of that function, and can only be used inside that function.\n",
        "\n",
        "**Function Inside Function**\n",
        "\n",
        "* As explained in the example above, the variable x is not available outside the function, but it is available for any function inside the function:\n",
        "\n",
        "**Global Scope**\n",
        "\n",
        "* A variable created in the main body of the Python code is a global variable and belongs to the global scope.\n",
        "\n",
        "* Global variables are available from within any scope, global and local.\n",
        "\n",
        "**Naming Variables**\n",
        "\n",
        "* If you operate with the same variable name inside and outside of a function, Python will treat them as two separate variables, one available in the global scope (outside the function) and one available in the local scope (inside the function)\n",
        "\n",
        "**Global Keyword**\n",
        "\n",
        "* If you need to create a global variable, but are stuck in the local scope, you can use the global keyword.\n",
        "\n",
        "* The global keyword makes the variable global.\n",
        "\n",
        "* Also, use the global keyword if you want to make a change to a global variable inside a function.\n",
        "\n",
        "**Nonlocal Keyword**\n",
        "\n",
        "* The nonlocal keyword is used to work with variables inside nested functions.\n",
        "\n",
        "* The nonlocal keyword makes the variable belong to the outer function."
      ],
      "metadata": {
        "id": "F_PTOy4mxU-b"
      }
    },
    {
      "cell_type": "code",
      "source": [
        "# Local Scope\n",
        "\"\"\" A variable created inside a function belongs to the local scope of that function,\n",
        " and can only be used inside that function.\"\"\"\n",
        "\n",
        "# The local variable can be accessed from a function within the function:\n",
        "def myfunc():\n",
        "  x = 300\n",
        "  print(x)\n",
        "\n",
        "myfunc() # prints 300"
      ],
      "metadata": {
        "colab": {
          "base_uri": "https://localhost:8080/"
        },
        "id": "NCZlD7oVymbD",
        "outputId": "83e93f01-9afb-4987-a1ef-bb9bb95ec026"
      },
      "execution_count": null,
      "outputs": [
        {
          "output_type": "stream",
          "name": "stdout",
          "text": [
            "300\n"
          ]
        }
      ]
    },
    {
      "cell_type": "code",
      "source": [
        "# Function Inside Function\n",
        "# The local variable can be accessed from a function within the function:\n",
        "\n",
        "def myfunc():\n",
        "  x = 300\n",
        "  def myinnerfunc():\n",
        "    print(x)\n",
        "  myinnerfunc()\n",
        "\n",
        "myfunc()"
      ],
      "metadata": {
        "colab": {
          "base_uri": "https://localhost:8080/"
        },
        "id": "bz6AcoIzyzh-",
        "outputId": "180892ee-4a20-48ee-b29a-ad15f363794b"
      },
      "execution_count": null,
      "outputs": [
        {
          "output_type": "stream",
          "name": "stdout",
          "text": [
            "300\n"
          ]
        }
      ]
    },
    {
      "cell_type": "code",
      "source": [
        "# Global Scope\n",
        "# A variable created outside of a function is global and can be used by anyone:\n",
        "\n",
        "x = 300\n",
        "\n",
        "def myfunc():\n",
        "  print(x)\n",
        "\n",
        "myfunc() # prints 300\n",
        "print(x) # prints 300"
      ],
      "metadata": {
        "colab": {
          "base_uri": "https://localhost:8080/"
        },
        "id": "6WX4MEbKzHdz",
        "outputId": "91444731-cda6-4a4d-b35c-39c620371132"
      },
      "execution_count": null,
      "outputs": [
        {
          "output_type": "stream",
          "name": "stdout",
          "text": [
            "300\n",
            "300\n"
          ]
        }
      ]
    },
    {
      "cell_type": "code",
      "source": [
        "# Naming Variables\n",
        "\"\"\" If you operate with the same variable name inside and outside of a function, \\\n",
        "Python will treat them as two separate variables, one available in the global scope (outside the function) \\\n",
        "and one available in the local scope (inside the function) \"\"\"\n",
        "\n",
        "x = 300\n",
        "\n",
        "def myfunc():\n",
        "  x = 200\n",
        "  print(x)\n",
        "\n",
        "myfunc() # prints 200\n",
        "print(x) # prints 300\n"
      ],
      "metadata": {
        "colab": {
          "base_uri": "https://localhost:8080/"
        },
        "id": "HSgYhDNVzask",
        "outputId": "f47f5ff8-5382-4717-8ecd-e1d588e09942"
      },
      "execution_count": null,
      "outputs": [
        {
          "output_type": "stream",
          "name": "stdout",
          "text": [
            "200\n",
            "300\n"
          ]
        }
      ]
    },
    {
      "cell_type": "code",
      "source": [
        "# Global Keyword\n",
        "\"\"\"If you need to create a global variable, but are stuck in the local scope, you can use the global keyword.\n",
        "The global keyword makes the variable global.\"\"\"\n",
        "\n",
        "def myfunc():\n",
        "  global x\n",
        "  x = 300\n",
        "\n",
        "myfunc()\n",
        "\n",
        "print(x) # prints 300"
      ],
      "metadata": {
        "colab": {
          "base_uri": "https://localhost:8080/"
        },
        "id": "09mweKjE0aEv",
        "outputId": "bab54269-df85-40c2-b5db-c5a6c3086d40"
      },
      "execution_count": null,
      "outputs": [
        {
          "output_type": "stream",
          "name": "stdout",
          "text": [
            "300\n"
          ]
        }
      ]
    },
    {
      "cell_type": "code",
      "source": [
        "# Also, use the global keyword if you want to make a change to a global variable inside a function.\n",
        "# To change the value of a global variable inside a function, refer to the variable by using the global keyword:\n",
        "\n",
        "x = 300\n",
        "\n",
        "def myfunc():\n",
        "  global x\n",
        "  x = 200\n",
        "\n",
        "myfunc()\n",
        "\n",
        "print(x) # prints 200\n"
      ],
      "metadata": {
        "colab": {
          "base_uri": "https://localhost:8080/"
        },
        "id": "J4kiaCgI0xGM",
        "outputId": "4f216470-dc90-4c31-d565-ab23c6897d38"
      },
      "execution_count": null,
      "outputs": [
        {
          "output_type": "stream",
          "name": "stdout",
          "text": [
            "200\n"
          ]
        }
      ]
    },
    {
      "cell_type": "code",
      "source": [
        "# Nonlocal Keyword\n",
        "\"\"\" The nonlocal keyword is used to work with variables inside nested functions.\n",
        "The nonlocal keyword makes the variable belong to the outer function.\"\"\"\n",
        "\n",
        "def myfunc1():\n",
        "  x = 300\n",
        "  def myfunc2():\n",
        "    nonlocal x\n",
        "    x = 200\n",
        "  myfunc2()\n",
        "  print(x)\n",
        "\n",
        "myfunc1() # prints 200"
      ],
      "metadata": {
        "id": "NEnlvUoB08WP"
      },
      "execution_count": null,
      "outputs": []
    }
  ]
}