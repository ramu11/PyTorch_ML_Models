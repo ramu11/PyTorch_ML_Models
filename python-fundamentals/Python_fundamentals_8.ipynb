{
  "nbformat": 4,
  "nbformat_minor": 0,
  "metadata": {
    "colab": {
      "provenance": [],
      "toc_visible": true,
      "authorship_tag": "ABX9TyPYUDBNXbsoZEioZN2QBgyu",
      "include_colab_link": true
    },
    "kernelspec": {
      "name": "python3",
      "display_name": "Python 3"
    },
    "language_info": {
      "name": "python"
    }
  },
  "cells": [
    {
      "cell_type": "markdown",
      "metadata": {
        "id": "view-in-github",
        "colab_type": "text"
      },
      "source": [
        "<a href=\"https://colab.research.google.com/github/ramu11/PyTorch_ML_Models/blob/main/python-fundamentals/Python_fundamentals_8.ipynb\" target=\"_parent\"><img src=\"https://colab.research.google.com/assets/colab-badge.svg\" alt=\"Open In Colab\"/></a>"
      ]
    },
    {
      "cell_type": "markdown",
      "source": [
        "### Python NumPy Tutorial\n",
        "\n",
        "NumPy is a Python library.\n",
        "\n",
        "NumPy is used for working with arrays.\n",
        "\n",
        "NumPy is short for \"Numerical Python\".\n",
        "\n",
        "**Learning by Reading**\n",
        "\n",
        "* We have created 43 tutorial pages for you to learn more about NumPy.\n",
        "\n",
        "* Starting with a basic introduction and ends up with creating and plotting random data sets, and working with [NumPy](https://www.w3schools.com/python/numpy/default.asp) functions\n",
        "\n",
        "\n",
        "\n",
        "\n",
        "\n"
      ],
      "metadata": {
        "id": "dRssJAuyK84V"
      }
    },
    {
      "cell_type": "code",
      "source": [
        "# Create a NumPy array:\n",
        "\n",
        "import numpy as np\n",
        "\n",
        "arr = np.array([1, 2, 3, 4, 5])\n",
        "\n",
        "print(arr) # prints [1 2 3 4 5]\n",
        "\n",
        "print(type(arr)) # prints <class 'numpy.ndarray'>\n"
      ],
      "metadata": {
        "colab": {
          "base_uri": "https://localhost:8080/"
        },
        "id": "hXBIV7VxL-3_",
        "outputId": "7e0db674-bd65-46ad-fbff-9eefeaee737e"
      },
      "execution_count": null,
      "outputs": [
        {
          "output_type": "stream",
          "name": "stdout",
          "text": [
            "[1 2 3 4 5]\n",
            "<class 'numpy.ndarray'>\n"
          ]
        }
      ]
    },
    {
      "cell_type": "markdown",
      "source": [
        "### NumPy Introduction\n",
        "\n",
        "**What is NumPy?**\n",
        "\n",
        "* **NumPy** is a Python library used for working with arrays.\n",
        "\n",
        "* It also has functions for working in domain of linear algebra, fourier transform, and matrices.\n",
        "\n",
        "* **NumPy** was created in 2005 by Travis Oliphant. It is an open source project and you can use it freely.\n",
        "\n",
        "* **NumPy** stands for Numerical Python.\n",
        "\n",
        "**Why Use NumPy?**\n",
        "\n",
        "* In Python we have **lists** that serve the purpose of **arrays**, but they are slow to process.\n",
        "\n",
        "* **NumPy** aims to provide an **array** object that is up to **50x** faster than traditional Python **lists**.\n",
        "\n",
        "* The **array** object in **NumPy** is called **ndarray**, it provides a lot of supporting functions that make working with **ndarray** very easy.\n",
        "\n",
        "* **Arrays** are very frequently used in data science, where speed and resources are very important.\n",
        "\n",
        "* **Data Science:**  is a branch of computer science where we study how to store, use and analyze data for deriving information from it.\n",
        "\n",
        "**Why is NumPy Faster Than Lists?:**  \n",
        "\n",
        "* **NumPy arrays** are stored at one continuous place in memory unlike lists, so processes can access and manipulate them very efficiently.\n",
        "\n",
        "* This behavior is called locality of reference in computer science.\n",
        "\n",
        "* This is the main reason why **NumPy** is faster than lists. Also it is optimized to work with latest **CPU** architectures.\n",
        "\n",
        "**Which Language is NumPy written in?**\n",
        "\n",
        "* NumPy is a Python library and is written partially in Python, but most of the parts that require fast computation are written in C or C++.\n",
        "\n",
        "**Where is the NumPy Codebase?**\n",
        "\n",
        "* The source code for NumPy is located at this github repository https://github.com/numpy/numpy\n"
      ],
      "metadata": {
        "id": "ixrcUBN6MPDr"
      }
    },
    {
      "cell_type": "markdown",
      "source": [
        "### NumPy Getting Started\n",
        "**Installation of NumPy**\n",
        "* If you have Python and PIP already installed on a system, then installation of NumPy is very easy.\n",
        "\n",
        "**Install it using this command:**\n",
        " * !pip install numpy\n",
        "\n",
        "**Import NumPy**\n",
        "\n",
        "* Once NumPy is installed, import it in your applications by adding the import keyword:\n",
        "\n",
        "  import numpy"
      ],
      "metadata": {
        "id": "_neKOP6GOJ4q"
      }
    },
    {
      "cell_type": "code",
      "source": [
        "import numpy\n",
        "\n",
        "arr = numpy.array([1, 2, 3, 4, 5])\n",
        "\n",
        "print(arr)"
      ],
      "metadata": {
        "colab": {
          "base_uri": "https://localhost:8080/"
        },
        "id": "pOBOn59gOpn0",
        "outputId": "9682bdb1-e404-409f-fd63-7c20d88812c8"
      },
      "execution_count": null,
      "outputs": [
        {
          "output_type": "stream",
          "name": "stdout",
          "text": [
            "[1 2 3 4 5]\n"
          ]
        }
      ]
    },
    {
      "cell_type": "code",
      "source": [
        "# NumPy as np\n",
        "# alias: In Python alias are an alternate name for referring to the same thing.\n",
        "#Now the NumPy package can be referred to as np instead of numpy.\n",
        "import numpy as np\n",
        "arr = np.array([1, 2, 3, 4, 5])\n",
        "\n",
        "print(arr)\n"
      ],
      "metadata": {
        "colab": {
          "base_uri": "https://localhost:8080/"
        },
        "id": "TZAceXeIOvEL",
        "outputId": "4d8911c5-4f3f-4a1e-87bf-c81b3b15da10"
      },
      "execution_count": null,
      "outputs": [
        {
          "output_type": "stream",
          "name": "stdout",
          "text": [
            "[1 2 3 4 5]\n"
          ]
        }
      ]
    },
    {
      "cell_type": "code",
      "source": [
        "# Checking NumPy Version\n",
        "import numpy as np\n",
        "\n",
        "print(np.__version__)"
      ],
      "metadata": {
        "colab": {
          "base_uri": "https://localhost:8080/"
        },
        "id": "oVHdptR7PCl3",
        "outputId": "8aae3b4e-cd4c-4195-b989-c33a3591966b"
      },
      "execution_count": null,
      "outputs": [
        {
          "output_type": "stream",
          "name": "stdout",
          "text": [
            "1.26.4\n"
          ]
        }
      ]
    },
    {
      "cell_type": "markdown",
      "source": [
        "### NumPy Creating Arrays\n",
        "**Create a NumPy ndarray Object**\n",
        "\n",
        "* NumPy is used to work with arrays. The array object in NumPy is called ndarray.\n",
        "\n",
        "* We can create a NumPy ndarray object by using the array() function.\n",
        "\n",
        "* **type()**: This built-in Python function tells us the type of the object passed to it. Like in above code it shows that arr is **numpy.ndarray** type.\n",
        "\n",
        "* To create an **ndarray**, we can pass a list, tuple or any array-like object into the **array()** method, and it will be converted into an **ndarray**\n"
      ],
      "metadata": {
        "id": "wN_-XdVNPHx_"
      }
    },
    {
      "cell_type": "code",
      "source": [
        "# create numpy array\n",
        "import numpy as np\n",
        "\n",
        "arr = np.array([1, 2, 3, 4, 5])\n",
        "\n",
        "print(arr)\n",
        "\n",
        "print(type(arr))"
      ],
      "metadata": {
        "colab": {
          "base_uri": "https://localhost:8080/"
        },
        "id": "WIZJd0glPVg5",
        "outputId": "4ac3d14c-eb2d-4c58-d2b4-480304fc85a3"
      },
      "execution_count": null,
      "outputs": [
        {
          "output_type": "stream",
          "name": "stdout",
          "text": [
            "[1 2 3 4 5]\n",
            "<class 'numpy.ndarray'>\n"
          ]
        }
      ]
    },
    {
      "cell_type": "code",
      "source": [
        "# Use a tuple to create a NumPy array:\n",
        "\n",
        "import numpy as np\n",
        "\n",
        "arr = np.array((1, 2, 3, 4, 5))\n",
        "\n",
        "print(arr) # prints [1 2 3 4 5]"
      ],
      "metadata": {
        "colab": {
          "base_uri": "https://localhost:8080/"
        },
        "id": "dsVFBI_dPtOa",
        "outputId": "331d9c65-5db7-4307-a647-dfe976a7c7fd"
      },
      "execution_count": null,
      "outputs": [
        {
          "output_type": "stream",
          "name": "stdout",
          "text": [
            "[1 2 3 4 5]\n"
          ]
        }
      ]
    },
    {
      "cell_type": "code",
      "source": [
        "# Dimensions in Arrays\n",
        "\"\"\"\n",
        "A dimension in arrays is one level of array depth (nested arrays).\n",
        "\n",
        "nested array: are arrays that have arrays as their elements.\n",
        "\"\"\"\n",
        "\n"
      ],
      "metadata": {
        "id": "NJ-qaoaiP8nG"
      },
      "execution_count": null,
      "outputs": []
    },
    {
      "cell_type": "code",
      "source": [
        "# 0-D Arrays\n",
        "\"\"\"\n",
        " 0-D arrays, or Scalars, are the elements in an array. Each value in an array is a 0-D array.\n",
        " Create a 0-D array with value 42\n",
        " \"\"\"\n",
        "\n",
        "import numpy as np\n",
        "\n",
        "arr = np.array(42)\n",
        "\n",
        "print(arr)"
      ],
      "metadata": {
        "colab": {
          "base_uri": "https://localhost:8080/"
        },
        "id": "IdnaLVPUQFUR",
        "outputId": "8288d96b-6097-40e1-92a5-7d76360bfa72"
      },
      "execution_count": null,
      "outputs": [
        {
          "output_type": "stream",
          "name": "stdout",
          "text": [
            "42\n"
          ]
        }
      ]
    },
    {
      "cell_type": "code",
      "source": [
        "# 1-D Arrays\n",
        "\"\"\"\n",
        "An array that has 0-D arrays as its elements is called uni-dimensional or 1-D array.\n",
        "\n",
        "These are the most common and basic arrays.\n",
        "\"\"\"\n",
        "import numpy as np\n",
        "\n",
        "arr = np.array([1, 2, 3, 4, 5])\n",
        "\n",
        "print(arr)\n",
        "\n"
      ],
      "metadata": {
        "colab": {
          "base_uri": "https://localhost:8080/"
        },
        "id": "kFt5bcqqQUiK",
        "outputId": "4b7e4764-ed74-4f2e-d14a-baee5e280729"
      },
      "execution_count": null,
      "outputs": [
        {
          "output_type": "stream",
          "name": "stdout",
          "text": [
            "[1 2 3 4 5]\n"
          ]
        }
      ]
    },
    {
      "cell_type": "code",
      "source": [
        "# 2-D Arrays\n",
        "\"\"\"\n",
        "An array that has 1-D arrays as its elements is called a 2-D array.\n",
        "\n",
        "These are often used to represent matrix or 2nd order tensors.\n",
        "\n",
        "NumPy has a whole sub module dedicated towards matrix operations called numpy.mat\n",
        "\"\"\"\n",
        "import numpy as np\n",
        "\n",
        "arr = np.array([[1, 2, 3], [4, 5, 6]])\n",
        "\n",
        "print(arr)\n",
        "\"\"\" prints [[1 2 3]\n",
        "            [4 5 6]] \"\"\""
      ],
      "metadata": {
        "colab": {
          "base_uri": "https://localhost:8080/"
        },
        "id": "WeIHXDIKQcIM",
        "outputId": "f7e48454-db45-420f-f23e-23160e5c6b2d"
      },
      "execution_count": null,
      "outputs": [
        {
          "output_type": "stream",
          "name": "stdout",
          "text": [
            "[[1 2 3]\n",
            " [4 5 6]]\n"
          ]
        }
      ]
    },
    {
      "cell_type": "code",
      "source": [
        "# 3-D arrays\n",
        "\"\"\"\n",
        "An array that has 2-D arrays (matrices) as its elements is called 3-D array.\n",
        "\n",
        "These are often used to represent a 3rd order tensor.\n",
        "\n",
        "Example\n",
        "Create a 3-D array with two 2-D arrays, both containing two arrays with the values 1,2,3 and 4,5,6:\n",
        "\"\"\"\n",
        "import numpy as np\n",
        "\n",
        "arr = np.array([[[1, 2, 3], [4, 5, 6]], [[1, 2, 3], [4, 5, 6]]])\n",
        "\n",
        "print(arr)\n",
        "\"\"\"\n",
        "prints [[[1 2 3]\n",
        "            [4 5 6]]\n",
        "\n",
        "           [[1 2 3]\n",
        "            [4 5 6]]]\n",
        "            \"\"\""
      ],
      "metadata": {
        "colab": {
          "base_uri": "https://localhost:8080/"
        },
        "id": "RGlpazWqQy11",
        "outputId": "8a0cefe4-264f-4d8b-ca10-6a0253ecb53a"
      },
      "execution_count": null,
      "outputs": [
        {
          "output_type": "stream",
          "name": "stdout",
          "text": [
            "[[[1 2 3]\n",
            "  [4 5 6]]\n",
            "\n",
            " [[1 2 3]\n",
            "  [4 5 6]]]\n"
          ]
        }
      ]
    },
    {
      "cell_type": "code",
      "source": [
        "# Check Number of Dimensions?\n",
        "\"\"\"\n",
        "NumPy Arrays provides the ndim attribute that returns an integer that tells us\n",
        "how many dimensions the array have.\n",
        "\n",
        "Check how many dimensions the arrays have:\n",
        "\"\"\"\n",
        "import numpy as np\n",
        "\n",
        "a = np.array(42)\n",
        "b = np.array([1, 2, 3, 4, 5])\n",
        "c = np.array([[1, 2, 3], [4, 5, 6]])\n",
        "d = np.array([[[1, 2, 3], [4, 5, 6]], [[1, 2, 3], [4, 5, 6]]])\n",
        "\n",
        "print(a.ndim) # prints 0\n",
        "print(b.ndim) # prints 1\n",
        "print(c.ndim) # prints 2\n",
        "print(d.ndim) # prints 3"
      ],
      "metadata": {
        "colab": {
          "base_uri": "https://localhost:8080/"
        },
        "id": "m-Zrp9s_RBLb",
        "outputId": "c3d49a1c-3d9b-415b-8a99-42442afa9295"
      },
      "execution_count": null,
      "outputs": [
        {
          "output_type": "stream",
          "name": "stdout",
          "text": [
            "0\n",
            "1\n",
            "2\n",
            "3\n"
          ]
        }
      ]
    },
    {
      "cell_type": "code",
      "source": [
        "# Higher Dimensional Arrays\n",
        "\"\"\"\n",
        "An array can have any number of dimensions.\n",
        "\n",
        "When the array is created, you can define the number of dimensions by using the ndmin argument.\n",
        "\n",
        "\"\"\"\n",
        "import numpy as np\n",
        "\n",
        "arr = np.array([1, 2, 3, 4], ndmin=5)\n",
        "\n",
        "print(arr) # prins [[[[[1 2 3 4]]]]]\n",
        "print('number of dimensions :', arr.ndim) # prints number of dimensions : 5\n",
        "\n",
        "\"\"\"\n",
        "In this array the innermost dimension (5th dim) has 4 elements, the 4th dim has 1 element that is the vector,\n",
        "the 3rd dim has 1 element that is the matrix with the vector,\n",
        "the 2nd dim has 1 element that is 3D array and 1st dim has 1 element that is a 4D array.\n",
        "\"\"\""
      ],
      "metadata": {
        "colab": {
          "base_uri": "https://localhost:8080/"
        },
        "id": "TEmcIkuCRexG",
        "outputId": "9eb1da5c-039a-4b38-e8af-776baca06bfb"
      },
      "execution_count": null,
      "outputs": [
        {
          "output_type": "stream",
          "name": "stdout",
          "text": [
            "[[[[[1 2 3 4]]]]]\n",
            "number of dimensions : 5\n"
          ]
        }
      ]
    },
    {
      "cell_type": "markdown",
      "source": [
        "### NumPy Array Indexing\n",
        "\n",
        "**Access Array Elements**\n",
        "\n",
        "* Array indexing is the same as accessing an array element.\n",
        "\n",
        "* You can access an array element by referring to its index number.\n",
        "\n",
        "* The indexes in NumPy arrays start with 0, meaning that the first element has index 0, and the second has index 1 etc."
      ],
      "metadata": {
        "id": "JzotRj51R_uZ"
      }
    },
    {
      "cell_type": "code",
      "source": [
        "# Get the first element from the following array:\n",
        "import numpy as np\n",
        "\n",
        "arr = np.array([1, 2, 3, 4])\n",
        "\n",
        "print(arr[0]) # prints 1"
      ],
      "metadata": {
        "colab": {
          "base_uri": "https://localhost:8080/"
        },
        "id": "fD-CR4QeSLnq",
        "outputId": "7b7c5c74-2c10-4d35-a4d0-34d59e9c9431"
      },
      "execution_count": null,
      "outputs": [
        {
          "output_type": "stream",
          "name": "stdout",
          "text": [
            "1\n"
          ]
        }
      ]
    },
    {
      "cell_type": "code",
      "source": [
        "# Get third and fourth elements from the following array and add them.\n",
        "import numpy as np\n",
        "\n",
        "arr = np.array([1, 2, 3, 4])\n",
        "\n",
        "print(arr[2] + arr[3]) # prints 7"
      ],
      "metadata": {
        "colab": {
          "base_uri": "https://localhost:8080/"
        },
        "id": "xMuQ8x1tSR8p",
        "outputId": "5e4e9551-5aed-451e-b778-8288707da991"
      },
      "execution_count": null,
      "outputs": [
        {
          "output_type": "stream",
          "name": "stdout",
          "text": [
            "7\n"
          ]
        }
      ]
    },
    {
      "cell_type": "code",
      "source": [
        "# Access 2-D Arrays\n",
        "\"\"\"\n",
        "To access elements from 2-D arrays we can use comma separated integers representing\n",
        "the dimension and the index of the element.\n",
        "\n",
        "Think of 2-D arrays like a table with rows and columns, where the dimension represents\n",
        "the row and the index represents the column.\n",
        "\n",
        "Access the element on the first row, second column:\n",
        "\n",
        "\"\"\"\n",
        "import numpy as np\n",
        "\n",
        "arr = np.array([[1,2,3,4,5], [6,7,8,9,10]])\n",
        "\n",
        "print('2nd element on 1st row: ', arr[0, 1]) # prints 2\n"
      ],
      "metadata": {
        "id": "zfhGEZdAc-HC"
      },
      "execution_count": null,
      "outputs": []
    },
    {
      "cell_type": "code",
      "source": [
        "# Access the element on the 2nd row, 5th column:\n",
        "\n",
        "import numpy as np\n",
        "\n",
        "arr = np.array([[1,2,3,4,5], [6,7,8,9,10]])\n",
        "\n",
        "print('5th element on 2nd row: ', arr[1, 4])\n"
      ],
      "metadata": {
        "colab": {
          "base_uri": "https://localhost:8080/"
        },
        "id": "nRbIwwvMdYG7",
        "outputId": "e998d6f3-491f-4519-8bcf-753bcf04757f"
      },
      "execution_count": null,
      "outputs": [
        {
          "output_type": "stream",
          "name": "stdout",
          "text": [
            "5th element on 2nd row:  10\n"
          ]
        }
      ]
    },
    {
      "cell_type": "code",
      "source": [
        "# Access 3-D Arrays\n",
        "\"\"\"\n",
        "To access elements from 3-D arrays we can use comma separated integers representing\n",
        "the dimensions and the index of the element.\n",
        "\n",
        "Access the third element of the second array of the first array:\n",
        "\n",
        "arr[0, 1, 2] prints the value 6.\n",
        "\n",
        "And this is why:\n",
        "\n",
        "The first number represents the first dimension, which contains two arrays:\n",
        "[[1, 2, 3], [4, 5, 6]]\n",
        "and:\n",
        "[[7, 8, 9], [10, 11, 12]]\n",
        "Since we selected 0, we are left with the first array:\n",
        "[[1, 2, 3], [4, 5, 6]]\n",
        "\n",
        "The second number represents the second dimension, which also contains two arrays:\n",
        "[1, 2, 3]\n",
        "and:\n",
        "[4, 5, 6]\n",
        "Since we selected 1, we are left with the second array:\n",
        "[4, 5, 6]\n",
        "\n",
        "The third number represents the third dimension, which contains three values:\n",
        "4\n",
        "5\n",
        "6\n",
        "Since we selected 2, we end up with the third value:\n",
        "6\n",
        "\n",
        "\"\"\"\n",
        "\n",
        "import numpy as np\n",
        "\n",
        "arr = np.array([[[1, 2, 3], [4, 5, 6]], [[7, 8, 9], [10, 11, 12]]])\n",
        "\n",
        "print(arr[0, 1, 2]) # prints 6\n",
        "print(arr[1, 0, 0]) # prints 7\n",
        "\n"
      ],
      "metadata": {
        "colab": {
          "base_uri": "https://localhost:8080/"
        },
        "id": "uf0JTdYDdj0o",
        "outputId": "2f354d78-7be7-4bae-c615-8e5538e9f853"
      },
      "execution_count": null,
      "outputs": [
        {
          "output_type": "stream",
          "name": "stdout",
          "text": [
            "6\n",
            "7\n"
          ]
        }
      ]
    },
    {
      "cell_type": "code",
      "source": [
        "# Negative Indexing\n",
        "\"\"\"\n",
        "Use negative indexing to access an array from the end.\n",
        "\n",
        "Print the last element from the 2nd dim:\n",
        "\"\"\"\n",
        "import numpy as np\n",
        "\n",
        "arr = np.array([[1,2,3,4,5], [6,7,8,9,10]])\n",
        "\n",
        "print('Last element from 2nd dim: ', arr[1, -1]) # prints 10"
      ],
      "metadata": {
        "colab": {
          "base_uri": "https://localhost:8080/"
        },
        "id": "ve9_hNaYeOaG",
        "outputId": "db9617e9-f036-4439-e71b-c3e0651ca183"
      },
      "execution_count": null,
      "outputs": [
        {
          "output_type": "stream",
          "name": "stdout",
          "text": [
            "Last element from 2nd dim:  10\n"
          ]
        }
      ]
    },
    {
      "cell_type": "markdown",
      "source": [
        "### NumPy Array Slicing\n",
        "**Slicing arrays**\n",
        "\n",
        "* Slicing in python means taking elements from one given index to another given index.\n",
        "\n",
        "* We pass slice instead of index like this: [start:end].\n",
        "\n",
        "* We can also define the step, like this: [start:end:step].\n",
        "\n",
        "* If we don't pass start its considered 0\n",
        "\n",
        "* If we don't pass end its considered length of array in that dimension\n",
        "\n",
        "* If we don't pass step its considered 1"
      ],
      "metadata": {
        "id": "9KBnvg1bWZVs"
      }
    },
    {
      "cell_type": "code",
      "source": [
        "# Slice elements from index 1 to index 5 from the following array:\n",
        "# Note: The result includes the start index, but excludes the end index.\n",
        "import numpy as np\n",
        "\n",
        "arr = np.array([1, 2, 3, 4, 5, 6, 7])\n",
        "\n",
        "print(arr[1:5]) # prints [2 3 4 5]"
      ],
      "metadata": {
        "colab": {
          "base_uri": "https://localhost:8080/"
        },
        "id": "Kkr8wQuKWwmJ",
        "outputId": "645f39e2-015e-4fd4-a136-d348764c3968"
      },
      "execution_count": null,
      "outputs": [
        {
          "output_type": "stream",
          "name": "stdout",
          "text": [
            "[2 3 4 5]\n"
          ]
        }
      ]
    },
    {
      "cell_type": "code",
      "source": [
        "# Slice elements from index 4 to the end of the array:\n",
        "\n",
        "import numpy as np\n",
        "\n",
        "arr = np.array([1, 2, 3, 4, 5, 6, 7])\n",
        "\n",
        "print(arr[4:]) # prints [5 6 7]"
      ],
      "metadata": {
        "colab": {
          "base_uri": "https://localhost:8080/"
        },
        "id": "HQc6cMyDW-RM",
        "outputId": "aec2fe33-1bee-414f-f70e-2409576073c8"
      },
      "execution_count": null,
      "outputs": [
        {
          "output_type": "stream",
          "name": "stdout",
          "text": [
            "[5 6 7]\n"
          ]
        }
      ]
    },
    {
      "cell_type": "code",
      "source": [
        "# Slice elements from the beginning to index 4 (not included):\n",
        "import numpy as np\n",
        "\n",
        "arr = np.array([1, 2, 3, 4, 5, 6, 7])\n",
        "\n",
        "print(arr[:4])"
      ],
      "metadata": {
        "colab": {
          "base_uri": "https://localhost:8080/"
        },
        "id": "_gCqfBX-XPB2",
        "outputId": "a1fc776b-38a5-4175-8819-18ab34875c9c"
      },
      "execution_count": null,
      "outputs": [
        {
          "output_type": "stream",
          "name": "stdout",
          "text": [
            "[1 2 3 4]\n"
          ]
        }
      ]
    },
    {
      "cell_type": "code",
      "source": [
        "# Negative Slicing\n",
        "# Use the minus operator to refer to an index from the end:\n",
        "# Slice from the index 3 from the end to index 1 from the end\n",
        "import numpy as np\n",
        "\n",
        "arr = np.array([1, 2, 3, 4, 5, 6, 7])\n",
        "\n",
        "print(arr[-3:-1]) # prints [5 6]\n"
      ],
      "metadata": {
        "colab": {
          "base_uri": "https://localhost:8080/"
        },
        "id": "ynffBPCaXdnb",
        "outputId": "7f758653-951c-4525-8aa0-7e84f28e5035"
      },
      "execution_count": null,
      "outputs": [
        {
          "output_type": "stream",
          "name": "stdout",
          "text": [
            "[5 6]\n"
          ]
        }
      ]
    },
    {
      "cell_type": "code",
      "source": [
        "# STEP\n",
        "# Use the step value to determine the step of the slicing:\n",
        "# Return every other element from index 1 to index 5:\n",
        "\n",
        "import numpy as np\n",
        "\n",
        "arr = np.array([1, 2, 3, 4, 5, 6, 7])\n",
        "\n",
        "print(arr[1:5:2]) # prints [2 4]"
      ],
      "metadata": {
        "colab": {
          "base_uri": "https://localhost:8080/"
        },
        "id": "HiKL6F5aXr31",
        "outputId": "1c47c41a-1876-4b14-be2c-88a98d4d4d8a"
      },
      "execution_count": null,
      "outputs": [
        {
          "output_type": "stream",
          "name": "stdout",
          "text": [
            "[2 4]\n"
          ]
        }
      ]
    },
    {
      "cell_type": "code",
      "source": [
        "# Return every other element from the entire array:\n",
        "\n",
        "import numpy as np\n",
        "\n",
        "arr = np.array([1, 2, 3, 4, 5, 6, 7])\n",
        "\n",
        "print(arr[::2]) # prints [1 3 5 7]\n"
      ],
      "metadata": {
        "colab": {
          "base_uri": "https://localhost:8080/"
        },
        "id": "i-bJoVPoX9Hp",
        "outputId": "d16a2e0e-d727-4dc8-b0f6-8b4c87ba8403"
      },
      "execution_count": null,
      "outputs": [
        {
          "output_type": "stream",
          "name": "stdout",
          "text": [
            "[1 3 5 7]\n"
          ]
        }
      ]
    },
    {
      "cell_type": "code",
      "source": [
        "# Slicing 2-D Arrays\n",
        "# From the second element, slice elements from index 1 to index 4 (not included):\n",
        "# Note: Remember that second element has index 1.\n",
        "import numpy as np\n",
        "\n",
        "arr = np.array([[1, 2, 3, 4, 5], [6, 7, 8, 9, 10]])\n",
        "\n",
        "print(arr[1, 1:4]) # prints [7 8 9]\n"
      ],
      "metadata": {
        "colab": {
          "base_uri": "https://localhost:8080/"
        },
        "id": "R0JzxHkMYXZ7",
        "outputId": "d181ba4e-e858-410f-d80f-ca1f9f1c64bc"
      },
      "execution_count": null,
      "outputs": [
        {
          "output_type": "stream",
          "name": "stdout",
          "text": [
            "[7 8 9]\n"
          ]
        }
      ]
    },
    {
      "cell_type": "code",
      "source": [
        "# From both elements, return index 2:\n",
        "import numpy as np\n",
        "\n",
        "arr = np.array([[1, 2, 3, 4, 5], [6, 7, 8, 9, 10]])\n",
        "\n",
        "print(arr[0:2, 2]) # prints [3 8]"
      ],
      "metadata": {
        "colab": {
          "base_uri": "https://localhost:8080/"
        },
        "id": "Z3Ajz0rOZCoH",
        "outputId": "c0b97b21-33fd-40f2-ab76-3f12e28a5f3e"
      },
      "execution_count": null,
      "outputs": [
        {
          "output_type": "stream",
          "name": "stdout",
          "text": [
            "[3 8]\n"
          ]
        }
      ]
    },
    {
      "cell_type": "code",
      "source": [
        "# From both elements, slice index 1 to index 4 (not included), this will return a 2-D array:\n",
        "import numpy as np\n",
        "\n",
        "arr = np.array([[1, 2, 3, 4, 5], [6, 7, 8, 9, 10]])\n",
        "\n",
        "print(arr[0:2, 1:4])\n",
        "\"\"\"\n",
        "prints [[2 3 4]\n",
        "        [7 8 9]]\n",
        "\"\"\""
      ],
      "metadata": {
        "colab": {
          "base_uri": "https://localhost:8080/"
        },
        "id": "tjELeeofa_1x",
        "outputId": "e086efe4-72e0-4ddc-af5f-5a651719ad0c"
      },
      "execution_count": null,
      "outputs": [
        {
          "output_type": "stream",
          "name": "stdout",
          "text": [
            "[[2 3 4]\n",
            " [7 8 9]]\n"
          ]
        }
      ]
    },
    {
      "cell_type": "markdown",
      "source": [
        "### NumPy Data Types\n",
        "\n",
        "**Data Types in Python**\n",
        "\n",
        "By default Python have these data types:\n",
        "\n",
        "\n",
        "```\n",
        "strings - used to represent text data, the text is given under quote marks. e.g. \"ABCD\"\n",
        "\n",
        "integer - used to represent integer numbers. e.g. -1, -2, -3\n",
        "\n",
        "float - used to represent real numbers. e.g. 1.2, 42.42\n",
        "\n",
        "boolean - used to represent True or False.\n",
        "\n",
        "complex - used to represent complex numbers. e.g. 1.0 + 2.0j, 1.5 + 2.5j\n",
        "```\n",
        "\n",
        "**Data Types in NumPy**\n",
        "\n",
        "* NumPy has some extra data types, and refer to data types with one character, like i for integers, u for unsigned integers etc.\n",
        "\n",
        "* Below is a list of all data types in NumPy and the characters used to represent them.\n",
        "\n",
        "\n",
        "\n",
        "```\n",
        "i - integer\n",
        "b - boolean\n",
        "u - unsigned integer\n",
        "f - float\n",
        "c - complex float\n",
        "m - timedelta\n",
        "M - datetime\n",
        "O - object\n",
        "S - string\n",
        "U - unicode string\n",
        "V - fixed chunk of memory for other type ( void )\n",
        "```\n",
        "\n",
        "\n",
        "\n",
        "\n",
        "\n"
      ],
      "metadata": {
        "id": "keNaAHS9bnZf"
      }
    },
    {
      "cell_type": "code",
      "source": [
        "# Checking the Data Type of an Array\n",
        "\n",
        "# The NumPy array object has a property called dtype that returns the data type of the array:\n",
        "\n",
        "# Get the data type of an array object:\n",
        "import numpy as np\n",
        "\n",
        "arr = np.array([1, 2, 3, 4])\n",
        "\n",
        "print(arr.dtype) # prints int64"
      ],
      "metadata": {
        "colab": {
          "base_uri": "https://localhost:8080/"
        },
        "id": "Sf9n9i9ZcK-8",
        "outputId": "b8853702-19b9-4e70-8635-695161817a09"
      },
      "execution_count": null,
      "outputs": [
        {
          "output_type": "stream",
          "name": "stdout",
          "text": [
            "int64\n"
          ]
        }
      ]
    },
    {
      "cell_type": "code",
      "source": [
        "# Get the data type of an array containing strings:\n",
        "import numpy as np\n",
        "\n",
        "arr = np.array(['apple', 'banana', 'cherry'])\n",
        "\n",
        "print(arr.dtype) # prints <U6"
      ],
      "metadata": {
        "colab": {
          "base_uri": "https://localhost:8080/"
        },
        "id": "bwyI9q0pcQzf",
        "outputId": "4068244f-9fda-4623-d9a8-34c9d53531ef"
      },
      "execution_count": null,
      "outputs": [
        {
          "output_type": "stream",
          "name": "stdout",
          "text": [
            "<U6\n"
          ]
        }
      ]
    },
    {
      "cell_type": "code",
      "source": [
        "# Creating Arrays With a Defined Data Type\n",
        "'''\n",
        "We use the array() function to create arrays, this function can take an optional argument: dtype that allows us\n",
        "to define the expected data type of the array elements:\n",
        "'''\n",
        "#Create an array with data type string:\n",
        "import numpy as np\n",
        "\n",
        "arr = np.array([1, 2, 3, 4], dtype='S')\n",
        "\n",
        "print(arr) # prints [b'1' b'2' b'3' b'4']\n",
        "print(arr.dtype) # prints <S1\n"
      ],
      "metadata": {
        "colab": {
          "base_uri": "https://localhost:8080/"
        },
        "id": "Sxaw2XdccZNy",
        "outputId": "a95a151c-559f-4ff6-fad4-7fe31c48bf27"
      },
      "execution_count": null,
      "outputs": [
        {
          "output_type": "stream",
          "name": "stdout",
          "text": [
            "[b'1' b'2' b'3' b'4']\n",
            "|S1\n"
          ]
        }
      ]
    },
    {
      "cell_type": "code",
      "source": [
        "# Create an array with data type 4 bytes integer:\n",
        "import numpy as np\n",
        "\n",
        "arr = np.array([1, 2, 3, 4], dtype='i4')\n",
        "\n",
        "print(arr)\n",
        "print(arr.dtype) # prints int32"
      ],
      "metadata": {
        "colab": {
          "base_uri": "https://localhost:8080/"
        },
        "id": "iCS6lJ8Gc1lc",
        "outputId": "06e31284-34d4-444f-e9a8-a76af57e170b"
      },
      "execution_count": null,
      "outputs": [
        {
          "output_type": "stream",
          "name": "stdout",
          "text": [
            "[1 2 3 4]\n",
            "int32\n"
          ]
        }
      ]
    },
    {
      "cell_type": "code",
      "source": [
        "# What if a Value Can Not Be Converted?\n",
        "'''\n",
        "If a type is given in which elements can't be casted then NumPy will raise a ValueError.\n",
        "\n",
        "ValueError: In Python ValueError is raised when the type of passed argument to a function is\n",
        "unexpected/incorrect.\n",
        "'''\n",
        "#A non integer string like 'a' can not be converted to integer (will raise an error):\n",
        "import numpy as np\n",
        "\n",
        "arr = np.array(['a', '2', '3'], dtype='i') # ValueError: invalid literal for int() with base 10: 'a'\n"
      ],
      "metadata": {
        "id": "Ft45vudXc_bO"
      },
      "execution_count": null,
      "outputs": []
    },
    {
      "cell_type": "code",
      "source": [
        "# Converting Data Type on Existing Arrays\n",
        "'''\n",
        "The best way to change the data type of an existing array, is to make a copy of the array with the astype() method.\n",
        "\n",
        "The astype() function creates a copy of the array, and allows you to specify the data type as a parameter.\n",
        "\n",
        "The data type can be specified using a string, like 'f' for float, 'i' for integer etc. or you can use the data type directly\n",
        "like float for float and int for integer.\n",
        "'''\n",
        "# Change data type from float to integer by using 'i'\n",
        "import numpy as np\n",
        "\n",
        "arr = np.array([1.1, 2.1, 3.1])\n",
        "\n",
        "newarr = arr.astype('i')\n",
        "\n",
        "print(newarr)# prints [1 2 3]\n",
        "print(newarr.dtype) # prints int32"
      ],
      "metadata": {
        "colab": {
          "base_uri": "https://localhost:8080/"
        },
        "id": "rPtV3tundQkK",
        "outputId": "82fbeaff-21f4-40c7-a4ed-49532caf3397"
      },
      "execution_count": null,
      "outputs": [
        {
          "output_type": "stream",
          "name": "stdout",
          "text": [
            "[1 2 3]\n",
            "int32\n"
          ]
        }
      ]
    },
    {
      "cell_type": "code",
      "source": [
        "# Change data type from integer to boolean:\n",
        "import numpy as np\n",
        "\n",
        "arr = np.array([1, 0, 3])\n",
        "\n",
        "newarr = arr.astype(bool)\n",
        "\n",
        "print(newarr) # prints [ True False  True]\n",
        "print(newarr.dtype) # prints bool"
      ],
      "metadata": {
        "colab": {
          "base_uri": "https://localhost:8080/"
        },
        "id": "xh6yI6RdeEYC",
        "outputId": "ffd6f97d-25ab-4ca7-b27c-a69a1ebb52a2"
      },
      "execution_count": null,
      "outputs": [
        {
          "output_type": "stream",
          "name": "stdout",
          "text": [
            "[ True False  True]\n",
            "bool\n"
          ]
        }
      ]
    },
    {
      "cell_type": "markdown",
      "source": [
        "### NumPy Array Copy vs View\n",
        "**The Difference Between Copy and View**\n",
        "\n",
        "* The main difference between a copy and a view of an array is that the copy is a new array, and the view is just a view of the original array.\n",
        "\n",
        "* The copy owns the data and any changes made to the copy will not affect original array, and any changes made to the original array will not affect the copy.\n",
        "\n",
        "* The view does not own the data and any changes made to the view will affect the original array, and any changes made to the original array will affect the view."
      ],
      "metadata": {
        "id": "dzpZPo2Y8WgS"
      }
    },
    {
      "cell_type": "code",
      "source": [
        "# COPY:\n",
        "'''\n",
        "Make a copy, change the original array, and display both arrays:\n",
        "The copy SHOULD NOT be affected by the changes made to the original array.\n",
        "'''\n",
        "import numpy as np\n",
        "\n",
        "arr = np.array([1, 2, 3, 4, 5])\n",
        "x = arr.copy()\n",
        "arr[0] = 42\n",
        "\n",
        "print(arr)# prints [42  2  3  4  5]\n",
        "print(x)# prints [1 2 3 4 5]"
      ],
      "metadata": {
        "colab": {
          "base_uri": "https://localhost:8080/"
        },
        "id": "zEyImrRE8nNP",
        "outputId": "a0d4ebe7-dba7-4d07-d719-edd65f8b6c0c"
      },
      "execution_count": null,
      "outputs": [
        {
          "output_type": "stream",
          "name": "stdout",
          "text": [
            "[42  2  3  4  5]\n",
            "[1 2 3 4 5]\n"
          ]
        }
      ]
    },
    {
      "cell_type": "code",
      "source": [
        "# VIEW:\n",
        "'''\n",
        "Make a view, change the original array, and display both arrays:\n",
        "The view SHOULD be affected by the changes made to the original array.\n",
        "'''\n",
        "import numpy as np\n",
        "\n",
        "arr = np.array([1, 2, 3, 4, 5])\n",
        "x = arr.view()\n",
        "arr[0] = 42\n",
        "\n",
        "print(arr)# prints [42  2  3  4  5]\n",
        "print(x)# prints [42  2  3  4  5]"
      ],
      "metadata": {
        "colab": {
          "base_uri": "https://localhost:8080/"
        },
        "id": "_cBrFIXf9CeN",
        "outputId": "b1a1696c-d926-4d9f-f116-5a5f8ce1c660"
      },
      "execution_count": null,
      "outputs": [
        {
          "output_type": "stream",
          "name": "stdout",
          "text": [
            "[42  2  3  4  5]\n",
            "[42  2  3  4  5]\n"
          ]
        }
      ]
    },
    {
      "cell_type": "code",
      "source": [
        "# Make Changes in the VIEW:\n",
        "# Make a view, change the view, and display both arrays:\n",
        "# The original array SHOULD be affected by the changes made to the view.\n",
        "\n",
        "import numpy as np\n",
        "\n",
        "arr = np.array([1, 2, 3, 4, 5])\n",
        "x = arr.view()\n",
        "x[0] = 31\n",
        "\n",
        "print(arr) # prints [31  2  3  4  5]\n",
        "print(x) # prints [31  2  3  4  5]\n"
      ],
      "metadata": {
        "colab": {
          "base_uri": "https://localhost:8080/"
        },
        "id": "hWfwku9K9OxQ",
        "outputId": "831eb567-75ee-4bee-be08-bd08fc22431e"
      },
      "execution_count": null,
      "outputs": [
        {
          "output_type": "stream",
          "name": "stdout",
          "text": [
            "[31  2  3  4  5]\n",
            "[31  2  3  4  5]\n"
          ]
        }
      ]
    },
    {
      "cell_type": "code",
      "source": [
        "# Check if Array Owns its Data\n",
        "'''\n",
        "As mentioned above, copies owns the data, and views does not own the data, but how can we check this?\n",
        "\n",
        "Every NumPy array has the attribute base that returns None if the array owns the data.\n",
        "\n",
        "Otherwise, the base  attribute refers to the original object.\n",
        "'''\n",
        "# Print the value of the base attribute to check if an array owns it's data or not:\n",
        "import numpy as np\n",
        "\n",
        "arr = np.array([1, 2, 3, 4, 5])\n",
        "\n",
        "x = arr.copy()\n",
        "y = arr.view()\n",
        "\n",
        "print(x.base) # None\n",
        "print(y.base) # [1 2 3 4 5]"
      ],
      "metadata": {
        "colab": {
          "base_uri": "https://localhost:8080/"
        },
        "id": "ypcoIMZ_9mom",
        "outputId": "96c87596-41bd-4b83-b475-030aca57374e"
      },
      "execution_count": null,
      "outputs": [
        {
          "output_type": "stream",
          "name": "stdout",
          "text": [
            "None\n",
            "[1 2 3 4 5]\n"
          ]
        }
      ]
    },
    {
      "cell_type": "markdown",
      "source": [
        "### NumPy Array Shape\n",
        "\n",
        "**Shape of an Array**\n",
        "* The shape of an array is the number of elements in each dimension.\n",
        "\n",
        "**Get the Shape of an Array**\n",
        "* NumPy arrays have an attribute called shape that returns a tuple with each index having the number of corresponding elements.\n",
        "\n",
        "**What does the shape tuple represent?**\n",
        "* Integers at every index tells about the number of elements the corresponding dimension has.\n"
      ],
      "metadata": {
        "id": "eW68paCQ-QZW"
      }
    },
    {
      "cell_type": "code",
      "source": [
        "# Print the shape of a 2-D array:\n",
        "'''\n",
        "The example above returns (2, 4), which means that the array has 2 dimensions,\n",
        "where the first dimension has 2 elements and the second has 4.\n",
        "'''\n",
        "import numpy as np\n",
        "\n",
        "arr = np.array([[1, 2, 3, 4], [5, 6, 7, 8]])\n",
        "\n",
        "print(arr.shape) # prints (2, 4)"
      ],
      "metadata": {
        "colab": {
          "base_uri": "https://localhost:8080/"
        },
        "id": "kVfoOjub-rZh",
        "outputId": "cc81610c-0d97-4034-bd0a-1bbe793161a1"
      },
      "execution_count": null,
      "outputs": [
        {
          "output_type": "stream",
          "name": "stdout",
          "text": [
            "(2, 4)\n"
          ]
        }
      ]
    },
    {
      "cell_type": "code",
      "source": [
        "'''\n",
        "Create an array with 5 dimensions using ndmin using a vector\n",
        "with values 1,2,3,4 and verify that last dimension has value 4:\n",
        "\n",
        "In the example below at index-4 we have value 4, so we can say that 5th ( 4 + 1 th) dimension has 4 elements.\n",
        "'''\n",
        "import numpy as np\n",
        "\n",
        "arr = np.array([1, 2, 3, 4], ndmin=5)\n",
        "\n",
        "print(arr)\n",
        "print('shape of array :', arr.shape)"
      ],
      "metadata": {
        "colab": {
          "base_uri": "https://localhost:8080/"
        },
        "id": "gUvgml2j-zOm",
        "outputId": "633ec7c2-cb1a-4005-ad9a-3a780c7aded0"
      },
      "execution_count": null,
      "outputs": [
        {
          "output_type": "stream",
          "name": "stdout",
          "text": [
            "[[[[[1 2 3 4]]]]]\n",
            "shape of array : (1, 1, 1, 1, 4)\n"
          ]
        }
      ]
    },
    {
      "cell_type": "markdown",
      "source": [
        "### NumPy Array Reshaping\n",
        "**Reshaping arrays**\n",
        "* Reshaping means changing the shape of an array.\n",
        "\n",
        "* The shape of an array is the number of elements in each dimension.\n",
        "\n",
        "* By reshaping we can add or remove dimensions or change number of elements in each dimension.\n",
        "\n",
        "* Note: There are a lot of functions for changing the shapes of arrays in numpy flatten, ravel and also for rearranging the elements rot90, flip, fliplr, flipud etc. These fall under Intermediate to Advanced section of numpy."
      ],
      "metadata": {
        "id": "rJ41nTwu_8sH"
      }
    },
    {
      "cell_type": "code",
      "source": [
        "# Reshape From 1-D to 2-D\n",
        "'''\n",
        "Convert the following 1-D array with 12 elements into a 2-D array.\n",
        "\n",
        "The outermost dimension will have 4 arrays, each with 3 elements:\n",
        "\n",
        "'''\n",
        "import numpy as np\n",
        "\n",
        "arr = np.array([1, 2, 3, 4, 5, 6, 7, 8, 9, 10, 11, 12])\n",
        "\n",
        "newarr = arr.reshape(4, 3)\n",
        "\n",
        "print(newarr)\n",
        "'''\n",
        "prints [[ 1  2  3]\n",
        "        [ 4  5  6]\n",
        "        [ 7  8  9]\n",
        "        [10 11 12]]\n",
        "'''\n"
      ],
      "metadata": {
        "colab": {
          "base_uri": "https://localhost:8080/"
        },
        "id": "d-Nj_JdeA3fc",
        "outputId": "5e4fe48c-1614-44c6-cb23-96c6c80087c8"
      },
      "execution_count": null,
      "outputs": [
        {
          "output_type": "stream",
          "name": "stdout",
          "text": [
            "[[ 1  2  3]\n",
            " [ 4  5  6]\n",
            " [ 7  8  9]\n",
            " [10 11 12]]\n"
          ]
        }
      ]
    },
    {
      "cell_type": "code",
      "source": [
        "# Reshape From 1-D to 3-D\n",
        "'''\n",
        "Convert the following 1-D array with 12 elements into a 3-D array.\n",
        "\n",
        "The outermost dimension will have 2 arrays that contains 3 arrays, each with 2 elements:\n",
        "'''\n",
        "import numpy as np\n",
        "\n",
        "arr = np.array([1, 2, 3, 4, 5, 6, 7, 8, 9, 10, 11, 12])\n",
        "\n",
        "newarr = arr.reshape(2, 3, 2)\n",
        "\n",
        "print(newarr)\n",
        "'''\n",
        "prints [[[ 1  2]\n",
        "        [ 3  4]\n",
        "        [ 5  6]]\n",
        "\n",
        "       [[ 7  8]\n",
        "        [ 9 10]\n",
        "        [11 12]]]\n",
        "'''"
      ],
      "metadata": {
        "colab": {
          "base_uri": "https://localhost:8080/"
        },
        "id": "dbKCISDgBTuj",
        "outputId": "a5849b2b-87c2-4f2d-b04b-c49e7cb03e54"
      },
      "execution_count": null,
      "outputs": [
        {
          "output_type": "stream",
          "name": "stdout",
          "text": [
            "[[[ 1  2]\n",
            "  [ 3  4]\n",
            "  [ 5  6]]\n",
            "\n",
            " [[ 7  8]\n",
            "  [ 9 10]\n",
            "  [11 12]]]\n"
          ]
        }
      ]
    },
    {
      "cell_type": "code",
      "source": [
        "# Can We Reshape Into any Shape?\n",
        "'''\n",
        "Yes, as long as the elements required for reshaping are equal in both shapes.\n",
        "\n",
        "We can reshape an 8 elements 1D array into 4 elements in 2 rows 2D array\n",
        "but we cannot reshape it into a 3 elements 3 rows 2D array as that would require 3x3 = 9 elements.\n",
        "\n",
        "Try converting 1D array with 8 elements to a 2D array with 3 elements in each dimension (will raise an error):\n",
        "'''\n",
        "import numpy as np\n",
        "\n",
        "arr = np.array([1, 2, 3, 4, 5, 6, 7, 8])\n",
        "\n",
        "newarr = arr.reshape(3, 3)\n",
        "\n",
        "print(newarr) # ValueError: cannot reshape array of size 8 into shape (3,3)\n",
        "\n"
      ],
      "metadata": {
        "id": "46NV__jjBwnV"
      },
      "execution_count": null,
      "outputs": []
    },
    {
      "cell_type": "code",
      "source": [
        "# Returns Copy or View?\n",
        "# Check if the returned array is a copy or a view:\n",
        "# The example below returns the original array, so it is a view.\n",
        "import numpy as np\n",
        "\n",
        "arr = np.array([1, 2, 3, 4, 5, 6, 7, 8])\n",
        "\n",
        "print(arr.reshape(2, 4).base) # prints [1 2 3 4 5 6 7 8]"
      ],
      "metadata": {
        "colab": {
          "base_uri": "https://localhost:8080/"
        },
        "id": "g1d0MxsvCImB",
        "outputId": "ffc70124-ea27-4016-83c5-e82f2a212108"
      },
      "execution_count": null,
      "outputs": [
        {
          "output_type": "stream",
          "name": "stdout",
          "text": [
            "[1 2 3 4 5 6 7 8]\n"
          ]
        }
      ]
    },
    {
      "cell_type": "code",
      "source": [
        "# Unknown Dimension\n",
        "'''\n",
        "You are allowed to have one \"unknown\" dimension.\n",
        "\n",
        "Meaning that you do not have to specify an exact number for one of the dimensions in the reshape method.\n",
        "\n",
        "Pass -1 as the value, and NumPy will calculate this number for you.\n",
        "\n",
        "Note: We can not pass -1 to more than one dimension.\n",
        "\n",
        "Convert 1D array with 8 elements to 3D array with 2x2 elements:\n",
        "\n",
        "Result:\n",
        "[[[1 2]\n",
        "  [3 4]]\n",
        "\n",
        " [[5 6]\n",
        "  [7 8]]]\n",
        "'''\n",
        "import numpy as np\n",
        "\n",
        "arr = np.array([1, 2, 3, 4, 5, 6, 7, 8])\n",
        "\n",
        "newarr = arr.reshape(2, 2, -1)\n",
        "\n",
        "print(newarr)\n",
        "\n"
      ],
      "metadata": {
        "colab": {
          "base_uri": "https://localhost:8080/"
        },
        "id": "xb_ISuTXCgUq",
        "outputId": "6203826f-046c-4c83-96a2-3818d605917a"
      },
      "execution_count": null,
      "outputs": [
        {
          "output_type": "stream",
          "name": "stdout",
          "text": [
            "[[[1 2]\n",
            "  [3 4]]\n",
            "\n",
            " [[5 6]\n",
            "  [7 8]]]\n"
          ]
        }
      ]
    },
    {
      "cell_type": "code",
      "source": [
        "# Flattening the arrays\n",
        "'''\n",
        "Flattening array means converting a multidimensional array into a 1D array.\n",
        "\n",
        "We can use reshape(-1) to do this.\n",
        "\n",
        "Convert the array into a 1D array:\n",
        "'''\n",
        "\n",
        "import numpy as np\n",
        "\n",
        "arr = np.array([[1, 2, 3], [4, 5, 6]])\n",
        "\n",
        "newarr = arr.reshape(-1)\n",
        "\n",
        "print(arr.shape) # (2, 3)\n",
        "print(newarr) # [1 2 3 4 5 6]\n",
        "print(newarr.shape) # (6,)"
      ],
      "metadata": {
        "colab": {
          "base_uri": "https://localhost:8080/"
        },
        "id": "MI-_GHCIDNKj",
        "outputId": "9c38572e-c819-4615-db85-2e8c6cb8c467"
      },
      "execution_count": null,
      "outputs": [
        {
          "output_type": "stream",
          "name": "stdout",
          "text": [
            "(2, 3)\n",
            "[1 2 3 4 5 6]\n",
            "(6,)\n"
          ]
        }
      ]
    },
    {
      "cell_type": "markdown",
      "source": [
        "### Iterating means going through elements one by one.\n",
        "\n",
        "As we deal with multi-dimensional arrays in numpy, we can do this using basic for loop of python.\n",
        "\n",
        "If we iterate on a 1-D array it will go through each element one by one.\n",
        "\n",
        "**Iterating Arrays Using nditer()**\n",
        "\n",
        "* The function **nditer()** is a helping function that can be used from very basic to very advanced iterations. It solves some basic issues which we face in iteration, lets go through it with examples.\n",
        "\n",
        "**Iterating on Each Scalar Element**\n",
        "\n",
        "* In basic for loops, iterating through each scalar of an array we need to use n for loops which can be difficult to write for arrays with very high dimensionality.\n",
        "\n",
        "**Iterating Array With Different Data Types**\n",
        "\n",
        "* We can use **op_dtypes** argument and pass it the expected datatype to change the datatype of elements while iterating.\n",
        "\n",
        "* **NumPy** does not change the data type of the element in-place (where the element is in **array**) so it needs some other space to perform this action, that extra space is called buffer, and in order to enable it in **nditer()** we pass flags=['buffered']."
      ],
      "metadata": {
        "id": "Op3D6mGvFNvj"
      }
    },
    {
      "cell_type": "code",
      "source": [
        "# Iterate on the elements of the following 1-D array:\n",
        "import numpy as np\n",
        "\n",
        "arr = np.array([1, 2, 3])\n",
        "\n",
        "for x in arr:\n",
        "  print(x)"
      ],
      "metadata": {
        "colab": {
          "base_uri": "https://localhost:8080/"
        },
        "id": "d4fkylCLFSEV",
        "outputId": "279212be-f2b9-40d9-a987-a7b6f92d5ac0"
      },
      "execution_count": null,
      "outputs": [
        {
          "output_type": "stream",
          "name": "stdout",
          "text": [
            "1\n",
            "2\n",
            "3\n"
          ]
        }
      ]
    },
    {
      "cell_type": "code",
      "source": [
        "# Iterating 2-D Arrays\n",
        "# In a 2-D array it will go through all the rows.\n",
        "# Iterate on the elements of the following 2-D array:\n",
        "# If we iterate on a n-D array it will go through n-1th dimension one by one.\n",
        "import numpy as np\n",
        "\n",
        "arr = np.array([[1, 2, 3], [4, 5, 6]])\n",
        "\n",
        "for x in arr:\n",
        "  print(x)"
      ],
      "metadata": {
        "colab": {
          "base_uri": "https://localhost:8080/"
        },
        "id": "WRRqtc1UFUdk",
        "outputId": "651a302b-6bad-4469-fbae-7dbb4816db9d"
      },
      "execution_count": null,
      "outputs": [
        {
          "output_type": "stream",
          "name": "stdout",
          "text": [
            "[1 2 3]\n",
            "[4 5 6]\n"
          ]
        }
      ]
    },
    {
      "cell_type": "code",
      "source": [
        "# Iterate on each scalar element of the 2-D array:\n",
        "import numpy as np\n",
        "\n",
        "arr = np.array([[1, 2, 3], [4, 5, 6]])\n",
        "\n",
        "for x in arr:\n",
        "  for y in x:\n",
        "    print(y) # prints 1...6"
      ],
      "metadata": {
        "colab": {
          "base_uri": "https://localhost:8080/"
        },
        "id": "OYtGtx_TFxlP",
        "outputId": "ab9c3cab-1a05-4b03-f1e2-0489f0803494"
      },
      "execution_count": null,
      "outputs": [
        {
          "output_type": "stream",
          "name": "stdout",
          "text": [
            "1\n",
            "2\n",
            "3\n",
            "4\n",
            "5\n",
            "6\n"
          ]
        }
      ]
    },
    {
      "cell_type": "code",
      "source": [
        "#Iterating 3-D Arrays\n",
        "'''\n",
        "In a 3-D array it will go through all the 2-D arrays.\n",
        "\n",
        "Iterate on the elements of the following 3-D array:\n",
        "\n",
        "Result:\n",
        "[[1 2 3]\n",
        " [4 5 6]]\n",
        "[[ 7  8  9]\n",
        " [10 11 12]]\n",
        "'''\n",
        "import numpy as np\n",
        "\n",
        "arr = np.array([[[1, 2, 3], [4, 5, 6]], [[7, 8, 9], [10, 11, 12]]])\n",
        "\n",
        "for x in arr:\n",
        "  print(x)"
      ],
      "metadata": {
        "colab": {
          "base_uri": "https://localhost:8080/"
        },
        "id": "hi2F_YKHF7hN",
        "outputId": "f17a4d57-de0a-47b8-fa04-cccf6ff6deda"
      },
      "execution_count": null,
      "outputs": [
        {
          "output_type": "stream",
          "name": "stdout",
          "text": [
            "[[1 2 3]\n",
            " [4 5 6]]\n",
            "[[ 7  8  9]\n",
            " [10 11 12]]\n"
          ]
        }
      ]
    },
    {
      "cell_type": "code",
      "source": [
        "# Iterate down to the scalars:\n",
        "import numpy as np\n",
        "\n",
        "arr = np.array([[[1, 2, 3], [4, 5, 6]], [[7, 8, 9], [10, 11, 12]]])\n",
        "\n",
        "for x in arr:\n",
        "  for y in x:\n",
        "    for z in y:\n",
        "      print(z) # prints 1 -----12"
      ],
      "metadata": {
        "colab": {
          "base_uri": "https://localhost:8080/"
        },
        "id": "a9quH9GpGbur",
        "outputId": "7081a6c1-488f-4bb9-95ea-de92e90758f9"
      },
      "execution_count": null,
      "outputs": [
        {
          "output_type": "stream",
          "name": "stdout",
          "text": [
            "1\n",
            "2\n",
            "3\n",
            "4\n",
            "5\n",
            "6\n",
            "7\n",
            "8\n",
            "9\n",
            "10\n",
            "11\n",
            "12\n"
          ]
        }
      ]
    },
    {
      "cell_type": "code",
      "source": [
        "# Iterate through the following 3-D array:\n",
        "import numpy as np\n",
        "\n",
        "arr = np.array([[[1, 2], [3, 4]], [[5, 6], [7, 8]]])\n",
        "\n",
        "for x in np.nditer(arr):\n",
        "  print(x) # prints 1 ...8\n"
      ],
      "metadata": {
        "colab": {
          "base_uri": "https://localhost:8080/"
        },
        "id": "ztHFCNlsGq5J",
        "outputId": "8465c926-8698-4971-a340-28d4260e5d5d"
      },
      "execution_count": null,
      "outputs": [
        {
          "output_type": "stream",
          "name": "stdout",
          "text": [
            "1\n",
            "2\n",
            "3\n",
            "4\n",
            "5\n",
            "6\n",
            "7\n",
            "8\n"
          ]
        }
      ]
    },
    {
      "cell_type": "code",
      "source": [
        "# Iterate through the array as a string:\n",
        "'''\n",
        "We can use op_dtypes argument and pass it the expected datatype to change the datatype of elements while iterating.\n",
        "\n",
        "NumPy does not change the data type of the element in-place (where the element is in array)\n",
        "so it needs some other space to perform this action, that extra space is called buffer,\n",
        " and in order to enable it in nditer() we pass flags=['buffered'].\n",
        "'''\n",
        "\n",
        "import numpy as np\n",
        "\n",
        "arr = np.array([1, 2, 3])\n",
        "\n",
        "for x in np.nditer(arr, flags=['buffered'], op_dtypes=['S']):\n",
        "  print(x) # prints b'1' b'2' b'3"
      ],
      "metadata": {
        "colab": {
          "base_uri": "https://localhost:8080/"
        },
        "id": "Kg1ccCLKHe04",
        "outputId": "3eabe51f-13c6-4fa3-d9d6-1bddc88e353d"
      },
      "execution_count": null,
      "outputs": [
        {
          "output_type": "stream",
          "name": "stdout",
          "text": [
            "b'1'\n",
            "b'2'\n",
            "b'3'\n"
          ]
        }
      ]
    },
    {
      "cell_type": "code",
      "source": [
        "# Iterating With Different Step Size\n",
        "'''\n",
        "We can use filtering and followed by iteration.\n",
        "\n",
        "Iterate through every scalar element of the 2D array skipping 1 element:\n",
        "'''\n",
        "import numpy as np\n",
        "\n",
        "arr = np.array([[1, 2, 3, 4], [5, 6, 7, 8]])\n",
        "\n",
        "for x in np.nditer(arr[:, ::2]):\n",
        "  print(x) # prints 1 3 5 7"
      ],
      "metadata": {
        "colab": {
          "base_uri": "https://localhost:8080/"
        },
        "id": "rp6lIIIqH_Ck",
        "outputId": "477e39d0-d1b7-4eaa-b435-c53846a55299"
      },
      "execution_count": null,
      "outputs": [
        {
          "output_type": "stream",
          "name": "stdout",
          "text": [
            "1\n",
            "3\n",
            "5\n",
            "7\n"
          ]
        }
      ]
    },
    {
      "cell_type": "code",
      "source": [
        "# Enumerated Iteration Using ndenumerate()\n",
        "'''\n",
        "Enumeration means mentioning sequence number of somethings one by one.\n",
        "\n",
        "Sometimes we require corresponding index of the element while iterating,\n",
        "the ndenumerate() method can be used for those usecases.\n",
        "\n",
        "Result:\n",
        "(0,) 1\n",
        "(1,) 2\n",
        "(2,) 3\n",
        "'''\n",
        "import numpy as np\n",
        "\n",
        "arr = np.array([1, 2, 3])\n",
        "\n",
        "for idx, x in np.ndenumerate(arr):\n",
        "  print(idx, x)"
      ],
      "metadata": {
        "colab": {
          "base_uri": "https://localhost:8080/"
        },
        "id": "9w4PC3a8IWqu",
        "outputId": "b4c511e7-57fb-4b2a-c778-0666d90edadd"
      },
      "execution_count": null,
      "outputs": [
        {
          "output_type": "stream",
          "name": "stdout",
          "text": [
            "(0,) 1\n",
            "(1,) 2\n",
            "(2,) 3\n"
          ]
        }
      ]
    },
    {
      "cell_type": "markdown",
      "source": [
        "### NumPy Joining Array\n",
        "**Joining NumPy Arrays**\n",
        "\n",
        "* Joining means putting contents of two or more arrays in a single array.\n",
        "\n",
        "* In SQL we join tables based on a key, whereas in NumPy we join arrays by axes.\n",
        "\n",
        "* We pass a sequence of arrays that we want to join to the concatenate() function, along with the axis. If axis is not explicitly passed, it is taken as 0.\n",
        "\n",
        "**Joining Arrays Using Stack Functions**\n",
        "\n",
        "* **Stacking** is same as concatenation, the only difference is that stacking is done along a new axis.\n",
        "\n",
        "* We can **concatenate** two **1-D arrays** along the second axis which would result in putting them one over the other, ie. stacking.\n",
        "\n",
        "* We pass a sequence of arrays that we want to join to the **stack()** method along with the **axis**. If **axis** is not explicitly passed it is taken as **0**."
      ],
      "metadata": {
        "id": "Qj6VTbGZIwcj"
      }
    },
    {
      "cell_type": "code",
      "source": [
        "# Join two arrays\n",
        "import numpy as np\n",
        "\n",
        "arr1 = np.array([1, 2, 3])\n",
        "\n",
        "arr2 = np.array([4, 5, 6])\n",
        "\n",
        "arr = np.concatenate((arr1, arr2))\n",
        "\n",
        "print(arr) # prints [1 2 3 4 5 6]"
      ],
      "metadata": {
        "colab": {
          "base_uri": "https://localhost:8080/"
        },
        "id": "bQzrhbnzI6jx",
        "outputId": "1a12badb-f7bc-4bb6-e5a8-e43d0e7c4c3d"
      },
      "execution_count": null,
      "outputs": [
        {
          "output_type": "stream",
          "name": "stdout",
          "text": [
            "[1 2 3 4 5 6]\n"
          ]
        }
      ]
    },
    {
      "cell_type": "code",
      "source": [
        "# Join two 2-D arrays along rows (axis=1):\n",
        "'''\n",
        "Result:\n",
        "[[1 2 5 6]\n",
        " [3 4 7 8]]\n",
        " '''\n",
        "\n",
        "import numpy as np\n",
        "\n",
        "arr1 = np.array([[1, 2], [3, 4]])\n",
        "\n",
        "arr2 = np.array([[5, 6], [7, 8]])\n",
        "\n",
        "arr = np.concatenate((arr1, arr2), axis=1)\n",
        "\n",
        "print(arr)"
      ],
      "metadata": {
        "colab": {
          "base_uri": "https://localhost:8080/"
        },
        "id": "sqIXZrunJDAu",
        "outputId": "6b95f600-5e08-4651-e34f-447a2cd32f5f"
      },
      "execution_count": null,
      "outputs": [
        {
          "output_type": "stream",
          "name": "stdout",
          "text": [
            "[[1 2 5 6]\n",
            " [3 4 7 8]]\n"
          ]
        }
      ]
    },
    {
      "cell_type": "code",
      "source": [
        "# Joining Arrays Using Stack Functions\n",
        "\"\"\"\n",
        "Stacking is same as concatenation, the only difference is that stacking is done along a new axis.\n",
        "\n",
        "We can concatenate two 1-D arrays along the second axis which would result in putting them one over the other,\n",
        "ie. stacking.\n",
        "\n",
        "We pass a sequence of arrays that we want to join to the stack() method along with the axis.\n",
        "If axis is not explicitly passed it is taken as 0.\n",
        "\n",
        "Result:\n",
        "[[1 4]\n",
        " [2 5]\n",
        " [3 6]]\n",
        "\"\"\"\n",
        "import numpy as np\n",
        "\n",
        "arr1 = np.array([1, 2, 3])\n",
        "\n",
        "arr2 = np.array([4, 5, 6])\n",
        "\n",
        "arr = np.stack((arr1, arr2), axis=1)\n",
        "\n",
        "print(arr)\n"
      ],
      "metadata": {
        "colab": {
          "base_uri": "https://localhost:8080/"
        },
        "id": "l1r6o5IYPImV",
        "outputId": "9744fe10-141d-4882-b288-d480e4b3c23d"
      },
      "execution_count": null,
      "outputs": [
        {
          "output_type": "stream",
          "name": "stdout",
          "text": [
            "[[1 4]\n",
            " [2 5]\n",
            " [3 6]]\n"
          ]
        }
      ]
    },
    {
      "cell_type": "code",
      "source": [
        "'''\n",
        "stack the arrays along  axis=0\n",
        "Result:\n",
        " [[1 2 3]\n",
        " [4 5 6]]\n",
        "import numpy as np\n",
        "\n",
        "arr1 = np.array([1, 2, 3])\n",
        "\n",
        "arr2 = np.array([4, 5, 6])\n",
        "\n",
        "arr = np.stack((arr1, arr2), axis=0)\n",
        "\n",
        "print(arr)"
      ],
      "metadata": {
        "colab": {
          "base_uri": "https://localhost:8080/"
        },
        "id": "5MuxtZ5gPoGY",
        "outputId": "e2713f05-c522-465c-fa30-0023423983bb"
      },
      "execution_count": null,
      "outputs": [
        {
          "output_type": "stream",
          "name": "stdout",
          "text": [
            "[[1 2 3]\n",
            " [4 5 6]]\n"
          ]
        }
      ]
    },
    {
      "cell_type": "code",
      "source": [
        "# Stacking Along Rows\n",
        "\n",
        "'''\n",
        "NumPy provides a helper function: hstack() to stack along rows.\n",
        "\n",
        "Result:\n",
        "[1 2 3 4 5 6]\n",
        "'''\n",
        "\n",
        "import numpy as np\n",
        "\n",
        "arr1 = np.array([1, 2, 3])\n",
        "\n",
        "arr2 = np.array([4, 5, 6])\n",
        "\n",
        "arr = np.hstack((arr1, arr2))\n",
        "\n",
        "print(arr)"
      ],
      "metadata": {
        "colab": {
          "base_uri": "https://localhost:8080/"
        },
        "id": "PJM7tt0zQfKl",
        "outputId": "c37418f5-3dee-4927-8414-bd6fe90db0b0"
      },
      "execution_count": null,
      "outputs": [
        {
          "output_type": "stream",
          "name": "stdout",
          "text": [
            "[1 2 3 4 5 6]\n"
          ]
        }
      ]
    },
    {
      "cell_type": "code",
      "source": [
        "# Stacking Along Columns\n",
        "'''\n",
        "NumPy provides a helper function: vstack()  to stack along columns.\n",
        "\n",
        "Result:\n",
        "[[1 2 3]\n",
        " [4 5 6]]\n",
        "'''\n",
        "import numpy as np\n",
        "\n",
        "arr1 = np.array([1, 2, 3])\n",
        "\n",
        "arr2 = np.array([4, 5, 6])\n",
        "\n",
        "arr = np.vstack((arr1, arr2))\n",
        "\n",
        "print(arr)\n"
      ],
      "metadata": {
        "colab": {
          "base_uri": "https://localhost:8080/"
        },
        "id": "G92XsrFEQzfG",
        "outputId": "4cb0bea4-55ed-4057-9972-5e3cea93fcc0"
      },
      "execution_count": null,
      "outputs": [
        {
          "output_type": "stream",
          "name": "stdout",
          "text": [
            "[[1 2 3]\n",
            " [4 5 6]]\n"
          ]
        }
      ]
    },
    {
      "cell_type": "code",
      "source": [
        "# Stacking Along Height (depth)\n",
        "'''\n",
        "NumPy provides a helper function: dstack() to stack along height, which is the same as depth.\n",
        "'''\n",
        "\n",
        "import numpy as np\n",
        "\n",
        "arr1 = np.array([1, 2, 3])\n",
        "\n",
        "arr2 = np.array([4, 5, 6])\n",
        "\n",
        "arr = np.dstack((arr1, arr2))\n",
        "\n",
        "print(arr)"
      ],
      "metadata": {
        "colab": {
          "base_uri": "https://localhost:8080/"
        },
        "id": "FionfHjARCQ0",
        "outputId": "d77c75c1-a539-41be-d2c2-612ed61699ca"
      },
      "execution_count": null,
      "outputs": [
        {
          "output_type": "stream",
          "name": "stdout",
          "text": [
            "[[[1 4]\n",
            "  [2 5]\n",
            "  [3 6]]]\n"
          ]
        }
      ]
    },
    {
      "cell_type": "markdown",
      "source": [
        "### NumPy Splitting Array\n",
        "**Splitting NumPy Arrays**\n",
        "\n",
        "* Splitting is reverse operation of Joining.\n",
        "\n",
        "* Joining merges multiple arrays into one and Splitting breaks one array into multiple.\n",
        "\n",
        "* We use **array_split()** for splitting arrays, we pass it the array we want to split and the number of splits."
      ],
      "metadata": {
        "id": "yUz_5GS1RakZ"
      }
    },
    {
      "cell_type": "code",
      "source": [
        "# Split the array in 3 parts:\n",
        "# Note: The return value is a list containing three arrays.\n",
        "import numpy as np\n",
        "\n",
        "arr = np.array([1, 2, 3, 4, 5, 6])\n",
        "\n",
        "newarr = np.array_split(arr, 3)\n",
        "\n",
        "print(newarr) # prints [array([1, 2]), array([3, 4]), array([5, 6])]"
      ],
      "metadata": {
        "colab": {
          "base_uri": "https://localhost:8080/"
        },
        "id": "xwRCbFveRo6C",
        "outputId": "a519d98a-ab0c-491b-f0b0-50f2545ff90a"
      },
      "execution_count": null,
      "outputs": [
        {
          "output_type": "stream",
          "name": "stdout",
          "text": [
            "[array([1, 2]), array([3, 4]), array([5, 6])]\n"
          ]
        }
      ]
    },
    {
      "cell_type": "code",
      "source": [
        "# If the array has less elements than required, it will adjust from the end accordingly.\n",
        "# Split the array in 4 parts:\n",
        "\n",
        "import numpy as np\n",
        "\n",
        "arr = np.array([1, 2, 3, 4, 5, 6])\n",
        "\n",
        "newarr = np.array_split(arr, 4)\n",
        "\n",
        "print(newarr) # prints print(newarr) # prints [array([1, 2]), array([3]), array([4]), array([5, 6])]\n"
      ],
      "metadata": {
        "colab": {
          "base_uri": "https://localhost:8080/"
        },
        "id": "w53NAwitRvYg",
        "outputId": "e093603b-b9d4-4159-db5e-31bf50363d24"
      },
      "execution_count": null,
      "outputs": [
        {
          "output_type": "stream",
          "name": "stdout",
          "text": [
            "[array([1, 2]), array([3, 4]), array([5]), array([6])]\n"
          ]
        }
      ]
    },
    {
      "cell_type": "code",
      "source": [
        "# Split Into Arrays\n",
        "\"\"\"\n",
        "The return value of the array_split() method is an array containing each of the split as an array.\n",
        "\n",
        "If you split an array into 3 arrays, you can access them from the result just like any array element:\n",
        "\n",
        "Access the splitted arrays:\n",
        "\"\"\"\n",
        "\n",
        "import numpy as np\n",
        "\n",
        "arr = np.array([1, 2, 3, 4, 5, 6])\n",
        "\n",
        "newarr = np.array_split(arr, 3)\n",
        "\n",
        "print(newarr[0]) # [1 2]\n",
        "print(newarr[1]) # [3 4]\n",
        "print(newarr[2]) # [5 6]\n"
      ],
      "metadata": {
        "colab": {
          "base_uri": "https://localhost:8080/"
        },
        "id": "wLDOh5qaSQtb",
        "outputId": "8c1ddc74-f5ba-49a5-8f3e-babbdb647632"
      },
      "execution_count": null,
      "outputs": [
        {
          "output_type": "stream",
          "name": "stdout",
          "text": [
            "[1 2]\n",
            "[3 4]\n",
            "[5 6]\n"
          ]
        }
      ]
    },
    {
      "cell_type": "code",
      "source": [
        "# Splitting 2-D Arrays\n",
        "\"\"\"\n",
        "Use the same syntax when splitting 2-D arrays.\n",
        "\n",
        "Use the array_split() method, pass in the array you want to split and the number of splits you want to do.\n",
        "\n",
        "Split the 2-D array into three 2-D arrays.\n",
        "\n",
        "Result:\n",
        "[array([[1, 2],\n",
        "       [3, 4]]), array([[5, 6],\n",
        "       [7, 8]]), array([[ 9, 10],\n",
        "       [11, 12]])]\n",
        "\"\"\"\n",
        "\n",
        "import numpy as np\n",
        "\n",
        "arr = np.array([[1, 2], [3, 4], [5, 6], [7, 8], [9, 10], [11, 12]])\n",
        "\n",
        "newarr = np.array_split(arr, 3)\n",
        "\n",
        "print(newarr)"
      ],
      "metadata": {
        "colab": {
          "base_uri": "https://localhost:8080/"
        },
        "id": "6glwsZ8TSjST",
        "outputId": "109762ce-a4cc-4e70-d57c-1d18cbff4762"
      },
      "execution_count": null,
      "outputs": [
        {
          "output_type": "stream",
          "name": "stdout",
          "text": [
            "[array([[1, 2],\n",
            "       [3, 4]]), array([[5, 6],\n",
            "       [7, 8]]), array([[ 9, 10],\n",
            "       [11, 12]])]\n"
          ]
        }
      ]
    },
    {
      "cell_type": "code",
      "source": [
        "\"\"\"\n",
        "Let's look at another example, this time each element in the 2-D arrays contains 3 elements.\n",
        "\n",
        "Split the 2-D array into three 2-D arrays.\n",
        "\n",
        "Result:\n",
        "[array([[1, 2, 3],\n",
        "       [4, 5, 6]]), array([[ 7,  8,  9],\n",
        "       [10, 11, 12]]), array([[13, 14, 15],\n",
        "       [16, 17, 18]])]\n",
        "\n",
        "\"\"\"\n",
        "import numpy as np\n",
        "\n",
        "arr = np.array([[1, 2, 3], [4, 5, 6], [7, 8, 9], [10, 11, 12], [13, 14, 15], [16, 17, 18]])\n",
        "\n",
        "newarr = np.array_split(arr, 3)\n",
        "\n",
        "print(newarr)"
      ],
      "metadata": {
        "colab": {
          "base_uri": "https://localhost:8080/"
        },
        "id": "DAdyTuqaS5ms",
        "outputId": "db286637-b191-4034-853f-30ec9fbfcbbd"
      },
      "execution_count": null,
      "outputs": [
        {
          "output_type": "stream",
          "name": "stdout",
          "text": [
            "[array([[1, 2, 3],\n",
            "       [4, 5, 6]]), array([[ 7,  8,  9],\n",
            "       [10, 11, 12]]), array([[13, 14, 15],\n",
            "       [16, 17, 18]])]\n"
          ]
        }
      ]
    },
    {
      "cell_type": "code",
      "source": [
        "# In addition, you can specify which axis you want to do the split around.\n",
        "\n",
        "\"\"\"\n",
        "The example below also returns three 2-D arrays, but they are split along the row (axis=1).\n",
        "\n",
        "Split the 2-D array into three 2-D arrays along rows.\n",
        "\n",
        "Result:\n",
        "[array([[ 1],\n",
        "       [ 4],\n",
        "       [ 7],\n",
        "       [10],\n",
        "       [13],\n",
        "       [16]]), array([[ 2],\n",
        "       [ 5],\n",
        "       [ 8],\n",
        "       [11],\n",
        "       [14],\n",
        "       [17]]), array([[ 3],\n",
        "       [ 6],\n",
        "       [ 9],\n",
        "       [12],\n",
        "       [15],\n",
        "       [18]])]\n",
        "\n",
        "\"\"\"\n",
        "import numpy as np\n",
        "\n",
        "arr = np.array([[1, 2, 3], [4, 5, 6], [7, 8, 9], [10, 11, 12], [13, 14, 15], [16, 17, 18]])\n",
        "\n",
        "newarr = np.array_split(arr, 3, axis=1)\n",
        "\n",
        "print(newarr)"
      ],
      "metadata": {
        "colab": {
          "base_uri": "https://localhost:8080/"
        },
        "id": "OHOIjUtJTR-d",
        "outputId": "a7e2be9f-aaad-4c87-fd1d-0d04661ec429"
      },
      "execution_count": null,
      "outputs": [
        {
          "output_type": "stream",
          "name": "stdout",
          "text": [
            "[array([[ 1],\n",
            "       [ 4],\n",
            "       [ 7],\n",
            "       [10],\n",
            "       [13],\n",
            "       [16]]), array([[ 2],\n",
            "       [ 5],\n",
            "       [ 8],\n",
            "       [11],\n",
            "       [14],\n",
            "       [17]]), array([[ 3],\n",
            "       [ 6],\n",
            "       [ 9],\n",
            "       [12],\n",
            "       [15],\n",
            "       [18]])]\n"
          ]
        }
      ]
    },
    {
      "cell_type": "code",
      "source": [
        "# An alternate solution is using hsplit() opposite of hstack()\n",
        "\"\"\"\n",
        "Use the hsplit() method to split the 2-D array\n",
        "\n",
        "Result:\n",
        "[array([[ 1],\n",
        "       [ 4],\n",
        "       [ 7],\n",
        "       [10],\n",
        "       [13],\n",
        "       [16]]), array([[ 2],\n",
        "       [ 5],\n",
        "       [ 8],\n",
        "       [11],\n",
        "       [14],\n",
        "       [17]]), array([[ 3],\n",
        "       [ 6],\n",
        "       [ 9],\n",
        "       [12],\n",
        "       [15],\n",
        "       [18]])]\n",
        "\n",
        "\"\"\"\n",
        "import numpy as np\n",
        "\n",
        "arr = np.array([[1, 2, 3], [4, 5, 6], [7, 8, 9], [10, 11, 12], [13, 14, 15], [16, 17, 18]])\n",
        "\n",
        "newarr = np.hsplit(arr, 3)\n",
        "\n",
        "print(newarr)"
      ],
      "metadata": {
        "colab": {
          "base_uri": "https://localhost:8080/"
        },
        "id": "QbKo2FZuTk9z",
        "outputId": "625975f6-aefd-4eed-8da2-9fbc6380c895"
      },
      "execution_count": null,
      "outputs": [
        {
          "output_type": "stream",
          "name": "stdout",
          "text": [
            "[array([[ 1],\n",
            "       [ 4],\n",
            "       [ 7],\n",
            "       [10],\n",
            "       [13],\n",
            "       [16]]), array([[ 2],\n",
            "       [ 5],\n",
            "       [ 8],\n",
            "       [11],\n",
            "       [14],\n",
            "       [17]]), array([[ 3],\n",
            "       [ 6],\n",
            "       [ 9],\n",
            "       [12],\n",
            "       [15],\n",
            "       [18]])]\n"
          ]
        }
      ]
    },
    {
      "cell_type": "code",
      "source": [
        "# Note: Similar alternates to vstack() and dstack() are available as vsplit() and dsplit()."
      ],
      "metadata": {
        "id": "Z0poZYnmTzPW"
      },
      "execution_count": null,
      "outputs": []
    },
    {
      "cell_type": "markdown",
      "source": [
        "### NumPy Searching Arrays\n",
        "**Searching Arrays**\n",
        "\n",
        "* You can search an array for a certain value, and return the indexes that get a match.\n",
        "\n",
        "* To search an array, use the where() method."
      ],
      "metadata": {
        "id": "gevKozTDT_ek"
      }
    },
    {
      "cell_type": "code",
      "source": [
        "# Find the indexes where the value is 4:\n",
        "'''\n",
        "The example above will return a tuple: (array([3, 5, 6],)\n",
        "\n",
        "Which means that the value 4 is present at index 3, 5, and 6.\n",
        "'''\n",
        "\n",
        "import numpy as np\n",
        "\n",
        "arr = np.array([1, 2, 3, 4, 5, 4, 4])\n",
        "\n",
        "x = np.where(arr == 4)\n",
        "\n",
        "print(x)"
      ],
      "metadata": {
        "colab": {
          "base_uri": "https://localhost:8080/"
        },
        "id": "nb66ouDX5muA",
        "outputId": "3b0c7149-c112-4b7c-c43f-0d649c1161a2"
      },
      "execution_count": null,
      "outputs": [
        {
          "output_type": "stream",
          "name": "stdout",
          "text": [
            "(array([3, 5, 6]),)\n"
          ]
        }
      ]
    },
    {
      "cell_type": "code",
      "source": [
        "# Find the indexes where the values are even:\n",
        "\n",
        "import numpy as np\n",
        "\n",
        "arr = np.array([1, 2, 3, 4, 5, 6, 7, 8])\n",
        "\n",
        "x = np.where(arr%2 == 0)\n",
        "\n",
        "print(x) # prints (array([1, 3, 5, 7]),)\n"
      ],
      "metadata": {
        "colab": {
          "base_uri": "https://localhost:8080/"
        },
        "id": "zxnZSCV456Re",
        "outputId": "ba70b330-8b0e-4bb2-fa29-60d113f04304"
      },
      "execution_count": null,
      "outputs": [
        {
          "output_type": "stream",
          "name": "stdout",
          "text": [
            "(array([1, 3, 5, 7]),)\n"
          ]
        }
      ]
    },
    {
      "cell_type": "code",
      "source": [
        "# Find the indexes where the values are odd:\n",
        "import numpy as np\n",
        "\n",
        "arr = np.array([1, 2, 3, 4, 5, 6, 7, 8])\n",
        "\n",
        "x = np.where(arr%2 == 1)\n",
        "\n",
        "print(x) # prints (array([0, 2, 4, 6]),)"
      ],
      "metadata": {
        "colab": {
          "base_uri": "https://localhost:8080/"
        },
        "id": "eVPOOwCW6Krr",
        "outputId": "4f52d1a4-e38c-4e25-bfbb-4cb91f276b89"
      },
      "execution_count": null,
      "outputs": [
        {
          "output_type": "stream",
          "name": "stdout",
          "text": [
            "(array([0, 2, 4, 6]),)\n"
          ]
        }
      ]
    },
    {
      "cell_type": "code",
      "source": [
        "# Search Sorted\n",
        "\"\"\"\n",
        "There is a method called searchsorted() which performs a binary search in the array,\n",
        " and returns the index where the specified value would be inserted to maintain the search order.\n",
        "\n",
        "The searchsorted() method is assumed to be used on sorted arrays.\n",
        "\n",
        "Find the indexes where the value 7 should be inserted:\n",
        "\n",
        "Example explained: The number 7 should be inserted on index 1 to remain the sort order.\n",
        "\n",
        "The method starts the search from the left and returns the first index\n",
        "where the number 7 is no longer larger than the next value.\n",
        "\"\"\"\n",
        "import numpy as np\n",
        "\n",
        "arr = np.array([6, 7, 8, 9])\n",
        "\n",
        "x = np.searchsorted(arr, 7)\n",
        "\n",
        "print(x) # prints 1"
      ],
      "metadata": {
        "colab": {
          "base_uri": "https://localhost:8080/"
        },
        "id": "9UZ76Cs06kLd",
        "outputId": "6777070d-166e-4dec-b5e5-79da51cc8d9a"
      },
      "execution_count": null,
      "outputs": [
        {
          "output_type": "stream",
          "name": "stdout",
          "text": [
            "1\n"
          ]
        }
      ]
    },
    {
      "cell_type": "code",
      "source": [
        "# Search From the Right Side\n",
        "\"\"\"\n",
        "By default the left most index is returned, but we can give side='right'\n",
        "to return the right most index instead.\n",
        "Find the indexes where the value 7 should be inserted, starting from the right:\n",
        "\n",
        "Example explained: The number 7 should be inserted on index 2 to remain the sort order.\n",
        "\n",
        "The method starts the search from the right and returns the first index\n",
        "where the number 7 is no longer less than the next value\n",
        "\"\"\"\n",
        "import numpy as np\n",
        "\n",
        "arr = np.array([6, 7, 8, 9])\n",
        "\n",
        "x = np.searchsorted(arr, 7, side='right')\n",
        "\n",
        "print(x) # prints 2\n"
      ],
      "metadata": {
        "colab": {
          "base_uri": "https://localhost:8080/"
        },
        "id": "l7JxuNRG7DEv",
        "outputId": "8b5f1fd3-7f48-4e49-8615-bed9d20b5960"
      },
      "execution_count": null,
      "outputs": [
        {
          "output_type": "stream",
          "name": "stdout",
          "text": [
            "2\n"
          ]
        }
      ]
    },
    {
      "cell_type": "code",
      "source": [
        "# Multiple Values\n",
        "\"\"\"\n",
        "To search for more than one value, use an array with the specified values.\n",
        "\n",
        "Find the indexes where the values 2, 4, and 6 should be inserted:\n",
        "\n",
        "The return value is an array: [1 2 3] containing the three indexes\n",
        "where 2, 4, 6 would be inserted in the original array to maintain the order.\n",
        "\"\"\"\n",
        "import numpy as np\n",
        "\n",
        "arr = np.array([1, 3, 5, 7])\n",
        "\n",
        "x = np.searchsorted(arr, [2, 4, 6])\n",
        "\n",
        "print(x) # prints [1 2 3]\n"
      ],
      "metadata": {
        "colab": {
          "base_uri": "https://localhost:8080/"
        },
        "id": "hpEL0VYt-a8U",
        "outputId": "33a5f920-0d45-49e8-e15b-adc0b0b797c7"
      },
      "execution_count": null,
      "outputs": [
        {
          "output_type": "stream",
          "name": "stdout",
          "text": [
            "[1 2 3]\n"
          ]
        }
      ]
    },
    {
      "cell_type": "markdown",
      "source": [
        "### NumPy Sorting Arrays\n",
        "**Sorting Arrays**\n",
        "\n",
        "* Sorting means putting elements in an ordered sequence.\n",
        "\n",
        "* Ordered sequence is any sequence that has an order corresponding to elements, like numeric or alphabetical, ascending or descending.\n",
        "\n",
        "* The **NumPy ndarray** object has a function called sort(), that will sort a specified array."
      ],
      "metadata": {
        "id": "HJb-cyJ9DUrb"
      }
    },
    {
      "cell_type": "code",
      "source": [
        "# Sort the array:\n",
        "# Note: This method returns a copy of the array, leaving the original array unchanged.\n",
        "\n",
        "import numpy as np\n",
        "\n",
        "arr = np.array([3, 2, 0, 1])\n",
        "\n",
        "print(np.sort(arr))# prints [0 1 2 3]"
      ],
      "metadata": {
        "colab": {
          "base_uri": "https://localhost:8080/"
        },
        "id": "xKOrW4EWDlFU",
        "outputId": "1247251d-6cc6-4698-e9e6-1b68c1c1f2fb"
      },
      "execution_count": null,
      "outputs": [
        {
          "output_type": "stream",
          "name": "stdout",
          "text": [
            "[0 1 2 3]\n"
          ]
        }
      ]
    },
    {
      "cell_type": "code",
      "source": [
        "# You can also sort arrays of strings, or any other data type:\n",
        "# Sort the array alphabetically:\n",
        "import numpy as np\n",
        "\n",
        "arr = np.array(['banana', 'cherry', 'apple'])\n",
        "\n",
        "print(np.sort(arr)) # prints ['apple' 'banana' 'cherry']"
      ],
      "metadata": {
        "colab": {
          "base_uri": "https://localhost:8080/"
        },
        "id": "MusD3s-gDtpW",
        "outputId": "f928c879-a5b1-4d42-ce57-3adaeb6b4a79"
      },
      "execution_count": null,
      "outputs": [
        {
          "output_type": "stream",
          "name": "stdout",
          "text": [
            "['apple' 'banana' 'cherry']\n"
          ]
        }
      ]
    },
    {
      "cell_type": "code",
      "source": [
        "# Sort a boolean array:\n",
        "import numpy as np\n",
        "\n",
        "arr = np.array([True, False, True])\n",
        "\n",
        "print(np.sort(arr)) # prints [False  True  True]"
      ],
      "metadata": {
        "colab": {
          "base_uri": "https://localhost:8080/"
        },
        "id": "QB93GrE9D7zO",
        "outputId": "7adadb4d-27c6-4b6c-bae6-68e604203695"
      },
      "execution_count": null,
      "outputs": [
        {
          "output_type": "stream",
          "name": "stdout",
          "text": [
            "[False  True  True]\n"
          ]
        }
      ]
    },
    {
      "cell_type": "code",
      "source": [
        "# Sorting a 2-D Array\n",
        "\"\"\"\n",
        "If you use the sort() method on a 2-D array, both arrays will be sorted:\n",
        "\n",
        "Sort a 2-D array:\n",
        "\n",
        "Result:\n",
        "[[2 3 4]\n",
        " [0 1 5]]\n",
        "\"\"\"\n",
        "import numpy as np\n",
        "\n",
        "arr = np.array([[3, 2, 4], [5, 0, 1]])\n",
        "\n",
        "print(np.sort(arr))\n",
        "\n"
      ],
      "metadata": {
        "colab": {
          "base_uri": "https://localhost:8080/"
        },
        "id": "Cc3NqmanEBpu",
        "outputId": "3c2ee270-515e-4e23-d8f3-9052e59eb676"
      },
      "execution_count": null,
      "outputs": [
        {
          "output_type": "stream",
          "name": "stdout",
          "text": [
            "[[2 3 4]\n",
            " [0 1 5]]\n"
          ]
        }
      ]
    },
    {
      "cell_type": "code",
      "source": [
        "### NumPy Filter Array\n",
        "\"\"\"\n",
        "Filtering Arrays\n",
        "Getting some elements out of an existing array and creating a new array out of them is called filtering.\n",
        "\n",
        "In NumPy, you filter an array using a boolean index list.\n",
        "\n",
        "A boolean index list is a list of booleans corresponding to indexes in the array.\n",
        "\n",
        "If the value at an index is True that element is contained in the filtered array,\n",
        "if the value at that index is False that element is excluded from the filtered array.\n",
        "\n",
        "Because the new array contains only the values\n",
        "where the filter array had the value True, in this case, index 0 and 2.\n",
        "\"\"\"\n",
        "# Create an array from the elements on index 0 and 2\n",
        "import numpy as np\n",
        "\n",
        "arr = np.array([41, 42, 43, 44])\n",
        "\n",
        "x = [True, False, True, False]\n",
        "\n",
        "newarr = arr[x]\n",
        "\n",
        "print(newarr) # prints [41 43]"
      ],
      "metadata": {
        "colab": {
          "base_uri": "https://localhost:8080/"
        },
        "id": "mp1r9qQiEZpn",
        "outputId": "4037a549-0063-439a-8f5c-708d40996ed6"
      },
      "execution_count": null,
      "outputs": [
        {
          "output_type": "stream",
          "name": "stdout",
          "text": [
            "[41 43]\n"
          ]
        }
      ]
    },
    {
      "cell_type": "code",
      "source": [
        "# Creating the Filter Array\n",
        "\"\"\"\n",
        "In the example above we hard-coded the True and False values,\n",
        "but the common use is to create a filter array based on conditions.\n",
        "\"\"\"\n",
        "# Create a filter array that will return only values higher than 42:\n",
        "\n",
        "import numpy as np\n",
        "\n",
        "arr = np.array([41, 42, 43, 44])\n",
        "\n",
        "# Create an empty list\n",
        "filter_arr = []\n",
        "\n",
        "# go through each element in arr\n",
        "for element in arr:\n",
        "  # if the element is higher than 42, set the value to True, otherwise False:\n",
        "  if element > 42:\n",
        "    filter_arr.append(True)\n",
        "  else:\n",
        "    filter_arr.append(False)\n",
        "\n",
        "newarr = arr[filter_arr]\n",
        "\n",
        "print(filter_arr)# prints [False, False, True, True]\n",
        "print(newarr) # [43 44]"
      ],
      "metadata": {
        "colab": {
          "base_uri": "https://localhost:8080/"
        },
        "id": "ezu1NljlFXqc",
        "outputId": "a948967d-f61e-4b0f-ca4f-c5778e0ea8b5"
      },
      "execution_count": null,
      "outputs": [
        {
          "output_type": "stream",
          "name": "stdout",
          "text": [
            "[False, False, True, True]\n",
            "[43 44]\n"
          ]
        }
      ]
    },
    {
      "cell_type": "code",
      "source": [
        "# Create a filter array that will return only even elements from the original array:\n",
        "\n",
        "import numpy as np\n",
        "\n",
        "arr = np.array([1, 2, 3, 4, 5, 6, 7])\n",
        "\n",
        "# Create an empty list\n",
        "filter_arr = []\n",
        "\n",
        "# go through each element in arr\n",
        "for element in arr:\n",
        "  # if the element is completely divisble by 2, set the value to True, otherwise False\n",
        "  if element % 2 == 0:\n",
        "    filter_arr.append(True)\n",
        "  else:\n",
        "    filter_arr.append(False)\n",
        "\n",
        "newarr = arr[filter_arr]\n",
        "\n",
        "print(filter_arr)# prints [False, True, False, True, False, True, False]\n",
        "print(newarr)# prints [2 4 6]"
      ],
      "metadata": {
        "colab": {
          "base_uri": "https://localhost:8080/"
        },
        "id": "CN1rqnpxF88N",
        "outputId": "5262a853-d6c4-4c2e-c5f2-9cd75c5f0684"
      },
      "execution_count": null,
      "outputs": [
        {
          "output_type": "stream",
          "name": "stdout",
          "text": [
            "[False, True, False, True, False, True, False]\n",
            "[2 4 6]\n"
          ]
        }
      ]
    },
    {
      "cell_type": "code",
      "source": [
        "# Creating Filter Directly From Array\n",
        "\"\"\"\n",
        "The above example is quite a common task in NumPy and NumPy provides a nice way to tackle it.\n",
        "\n",
        "We can directly substitute the array instead of the\n",
        "iterable variable in our condition and it will work just as we expect it to.\n",
        "\"\"\"\n",
        "# Create a filter array that will return only values higher than 42:\n",
        "import numpy as np\n",
        "\n",
        "arr = np.array([41, 42, 43, 44])\n",
        "\n",
        "filter_arr = arr > 42\n",
        "\n",
        "newarr = arr[filter_arr]\n",
        "\n",
        "print(filter_arr)# prints [False False  True  True]\n",
        "print(newarr)# prints [43 44]"
      ],
      "metadata": {
        "colab": {
          "base_uri": "https://localhost:8080/"
        },
        "id": "ywnEtL-uGeP-",
        "outputId": "3b45826f-3a8c-4b62-8032-4ba1f290fee5"
      },
      "execution_count": null,
      "outputs": [
        {
          "output_type": "stream",
          "name": "stdout",
          "text": [
            "[False False  True  True]\n",
            "[43 44]\n"
          ]
        }
      ]
    }
  ]
}