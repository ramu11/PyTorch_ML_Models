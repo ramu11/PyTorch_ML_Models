{
  "nbformat": 4,
  "nbformat_minor": 0,
  "metadata": {
    "colab": {
      "provenance": [],
      "authorship_tag": "ABX9TyNyd28ZiAV8TeHbHHUDxDTw",
      "include_colab_link": true
    },
    "kernelspec": {
      "name": "python3",
      "display_name": "Python 3"
    },
    "language_info": {
      "name": "python"
    }
  },
  "cells": [
    {
      "cell_type": "markdown",
      "metadata": {
        "id": "view-in-github",
        "colab_type": "text"
      },
      "source": [
        "<a href=\"https://colab.research.google.com/github/ramu11/PyTorch_ML_Models/blob/main/python-fundamentals/Python_fundamentals_7.ipynb\" target=\"_parent\"><img src=\"https://colab.research.google.com/assets/colab-badge.svg\" alt=\"Open In Colab\"/></a>"
      ]
    },
    {
      "cell_type": "markdown",
      "source": [
        "### Python File handling\n",
        "File handling is an important part of any web application.\n",
        "\n",
        "Python has several functions for creating, reading, updating, and deleting files.\n",
        "\n",
        "The key function for working with files in Python is the open() function.\n",
        "\n",
        "The open() function takes two parameters; filename, and mode.\n",
        "\n",
        "There are four different methods (modes) for opening a file:\n",
        "\n",
        "\n",
        "\n",
        "```\n",
        "\"r\" - Read - Default value. Opens a file for reading, error if the file does not exist\n",
        "\n",
        "\"a\" - Append - Opens a file for appending, creates the file if it does not exist\n",
        "\n",
        "\"w\" - Write - Opens a file for writing, creates the file if it does not exist\n",
        "\n",
        "\"x\" - Create - Creates the specified file, returns an error if the file exists\n",
        "```\n",
        "\n",
        "In addition you can specify if the file should be handled as binary or text mode\n",
        "\n",
        "\n",
        "\n",
        "```\n",
        "\"t\" - Text - Default value. Text mode\n",
        "\n",
        "\"b\" - Binary - Binary mode (e.g. images)\n",
        "\n",
        "\n",
        "```\n",
        "\n",
        "\n"
      ],
      "metadata": {
        "id": "J9y6QiZAFX-w"
      }
    },
    {
      "cell_type": "code",
      "source": [
        "# To open a file for reading it is enough to specify the name of the file:\n",
        "f = open(\"demofile.txt\")\n",
        "# The code above is the same as:\n",
        "f = open(\"demofile.txt\", \"rt\")\n",
        "# Because \"r\" for read, and \"t\" for text are the default values, you do not need to specify them.\n",
        "# Note: Make sure the file exists, or else you will get an error."
      ],
      "metadata": {
        "id": "NUB10VfcGiTX"
      },
      "execution_count": null,
      "outputs": []
    },
    {
      "cell_type": "markdown",
      "source": [
        "### Python Read Files\n",
        "* To open the file, use the built-in open() function.\n",
        "\n",
        "* The open() function returns a file object, which has a read() method for reading the content of the file:\n",
        "\n",
        "* If the file is located in a different location, you will have to specify the file path, like this:\n",
        "\n",
        "* By default the read() method returns the whole text, but you can also specify how many characters you want to return\n",
        "\n",
        "* It is a good practice to always close the file when you are done with it.\n",
        "\n",
        "Note: You should always close your files, in some cases, due to buffering, changes made to a file may not show until you close the file."
      ],
      "metadata": {
        "id": "betZsGU_G2Ie"
      }
    },
    {
      "cell_type": "code",
      "source": [
        "# Assume we have the following file, located in the same folder as Python:\n",
        "\n",
        "# demofile.txt\n",
        "# Hello! Welcome to demofile.txt\n",
        "# This file is for testing purposes.\n",
        "# Good Luck!"
      ],
      "metadata": {
        "id": "8oJ3rbomHiCw"
      },
      "execution_count": null,
      "outputs": []
    },
    {
      "cell_type": "code",
      "source": [
        "\"\"\"\n",
        "To open the file, use the built-in open() function.\n",
        "\n",
        "The open() function returns a file object, which has a read() method for reading the content of the file:\n",
        "\"\"\"\n",
        "\n",
        "f = open(\"demofile.txt\", \"r\")\n",
        "print(f.read())"
      ],
      "metadata": {
        "id": "AvigUo6DHogH"
      },
      "execution_count": null,
      "outputs": []
    },
    {
      "cell_type": "code",
      "source": [
        "# Open a file on a different location:\n",
        "\n",
        "f = open(\"//path/welcome.txt\", \"r\")\n",
        "print(f.read())"
      ],
      "metadata": {
        "id": "q2l7JqPZHsSK"
      },
      "execution_count": null,
      "outputs": []
    },
    {
      "cell_type": "code",
      "source": [
        "\"\"\"\n",
        "Read Only Parts of the File\n",
        "By default the read() method returns the whole text, but you can also specify how many characters you want to return:\n",
        "\n",
        "\"\"\"\n",
        "\n",
        "# Return the 5 first characters of the file:\n",
        "\n",
        "f = open(\"demofile.txt\", \"r\")\n",
        "print(f.read(5))"
      ],
      "metadata": {
        "id": "ua0kwh_kH880"
      },
      "execution_count": null,
      "outputs": []
    },
    {
      "cell_type": "code",
      "source": [
        "# Read Lines\n",
        "\"\"\"\n",
        "You can return one line by using the readline() method:\n",
        "\"\"\"\n",
        "\n",
        "# Read one line of the file:\n",
        "\n",
        "f = open(\"demofile.txt\", \"r\")\n",
        "print(f.readline())\n",
        "\n"
      ],
      "metadata": {
        "id": "wH11YnFJIDJR"
      },
      "execution_count": null,
      "outputs": []
    },
    {
      "cell_type": "code",
      "source": [
        "# By calling readline() two times, you can read the two first lines:\n",
        "\n",
        "f = open(\"demofile.txt\", \"r\")\n",
        "print(f.readline())\n",
        "print(f.readline())"
      ],
      "metadata": {
        "id": "_lZgQdayIHnH"
      },
      "execution_count": null,
      "outputs": []
    },
    {
      "cell_type": "code",
      "source": [
        "# By looping through the lines of the file, you can read the whole file, line by line:\n",
        "\n",
        "f = open(\"demofile.txt\", \"r\")\n",
        "for x in f:\n",
        "  print(x)\n"
      ],
      "metadata": {
        "id": "FK1Ud9jRIRym"
      },
      "execution_count": null,
      "outputs": []
    },
    {
      "cell_type": "code",
      "source": [
        "# Close Files\n",
        "# Close the file when you are finish with it:\n",
        "\n",
        "f = open(\"demofile.txt\", \"r\")\n",
        "print(f.readline())\n",
        "f.close()"
      ],
      "metadata": {
        "id": "YfL44hA4IX71"
      },
      "execution_count": null,
      "outputs": []
    },
    {
      "cell_type": "markdown",
      "source": [
        "### Python write/Create files\n",
        "Write to an Existing File\n",
        "To write to an existing file, you must add a parameter to the open() function:\n",
        "\n",
        "\"a\" - Append - will append to the end of the file\n",
        "\n",
        "\"w\" - Write - will overwrite any existing content\n",
        "\n",
        "**Create a New File**\n",
        "\n",
        "* To create a new file in Python, use the open() method, with one of the following parameters:\n",
        "\n",
        "* \"x\" - Create - will create a file, returns an error if the file exist\n",
        "\n",
        "* \"a\" - Append - will create a file if the specified file does not exist\n",
        "\n",
        "* \"w\" - Write - will create a file if the specified file does not exist"
      ],
      "metadata": {
        "id": "EXu6h1jeIvzi"
      }
    },
    {
      "cell_type": "code",
      "source": [
        "# Open the file \"demofile2.txt\" and append content to the file:\n",
        "f = open(\"demofile2.txt\", \"a\")\n",
        "f.write(\"Now the file has more content!\")\n",
        "f.close()\n",
        "\n",
        "#open and read the file after the appending:\n",
        "f = open(\"demofile2.txt\", \"r\")\n",
        "print(f.read())"
      ],
      "metadata": {
        "id": "GsRCHZnLI3v7"
      },
      "execution_count": null,
      "outputs": []
    },
    {
      "cell_type": "code",
      "source": [
        "# Open the file \"demofile3.txt\" and overwrite the content:\n",
        "# Note: the \"w\" method will overwrite the entire file.\n",
        "\n",
        "f = open(\"demofile3.txt\", \"w\")\n",
        "f.write(\"Woops! I have deleted the content!\")\n",
        "f.close()\n",
        "\n",
        "#open and read the file after the overwriting:\n",
        "f = open(\"demofile3.txt\", \"r\")\n",
        "print(f.read())"
      ],
      "metadata": {
        "id": "f9PBQJ1DJAqE"
      },
      "execution_count": null,
      "outputs": []
    },
    {
      "cell_type": "code",
      "source": [
        "# Create a file called \"myfile.txt\":\n",
        "f = open(\"myfile.txt\", \"x\")\n"
      ],
      "metadata": {
        "id": "otQ8GSuGJD1U"
      },
      "execution_count": null,
      "outputs": []
    },
    {
      "cell_type": "code",
      "source": [
        "# Create a new file if it does not exist:\n",
        "f = open(\"myfile.txt\", \"w\")\n"
      ],
      "metadata": {
        "id": "ul78Wnk-JdEj"
      },
      "execution_count": null,
      "outputs": []
    },
    {
      "cell_type": "markdown",
      "source": [
        "### Python delete files\n",
        "\n",
        "**Delete a File **\n",
        "\n",
        "* To delete a file, you must import the OS module, and run its os.remove() function\n",
        "\n",
        "\n"
      ],
      "metadata": {
        "id": "E8_EqWxvJxGY"
      }
    },
    {
      "cell_type": "code",
      "source": [
        "# Remove the file \"demofile.txt\":\n",
        "import os\n",
        "f = open(\"demofile.txt\", \"x\")\n",
        "os.remove(\"demofile.txt\")\n"
      ],
      "metadata": {
        "id": "PRa9sUqfJ_JX"
      },
      "execution_count": null,
      "outputs": []
    },
    {
      "cell_type": "code",
      "source": [
        "# Check if File exist:\n",
        "\"\"\"\n",
        "To avoid getting an error, you might want to check if the file exists before you try to delete it:\n",
        "\"\"\"\n",
        "import os\n",
        "if os.path.exists(\"demofile.txt\"):\n",
        "  os.remove(\"demofile.txt\")\n",
        "else:\n",
        "  print(\"The file does not exist\")"
      ],
      "metadata": {
        "colab": {
          "base_uri": "https://localhost:8080/"
        },
        "id": "uaHrgE2JKMSN",
        "outputId": "59a32197-715d-4cbe-c226-01311149bb4b"
      },
      "execution_count": null,
      "outputs": [
        {
          "output_type": "stream",
          "name": "stdout",
          "text": [
            "The file does not exist\n"
          ]
        }
      ]
    },
    {
      "cell_type": "code",
      "source": [
        "# Delete Folder\n",
        "\"\"\"\n",
        "To delete an entire folder, use the os.rmdir() method:\n",
        "\n",
        "Example\n",
        "Remove the folder \"myfolder\":\n",
        "\n",
        "Note: You can only remove empty folders.\n",
        "\"\"\"\n",
        "\n",
        "import os\n",
        "os.rmdir(\"myfolder\") #  No such file or directory: 'myfolder'"
      ],
      "metadata": {
        "id": "SgE25gJKKU7V"
      },
      "execution_count": null,
      "outputs": []
    }
  ]
}