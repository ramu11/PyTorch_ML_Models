{
  "nbformat": 4,
  "nbformat_minor": 0,
  "metadata": {
    "colab": {
      "provenance": [],
      "toc_visible": true,
      "authorship_tag": "ABX9TyPa8CbCZsJICqfj8p0tT8wT",
      "include_colab_link": true
    },
    "kernelspec": {
      "name": "python3",
      "display_name": "Python 3"
    },
    "language_info": {
      "name": "python"
    }
  },
  "cells": [
    {
      "cell_type": "markdown",
      "metadata": {
        "id": "view-in-github",
        "colab_type": "text"
      },
      "source": [
        "<a href=\"https://colab.research.google.com/github/ramu11/PyTorch_ML_Models/blob/main/python-fundamentals/Python_fundamentals_2.ipynb\" target=\"_parent\"><img src=\"https://colab.research.google.com/assets/colab-badge.svg\" alt=\"Open In Colab\"/></a>"
      ]
    },
    {
      "cell_type": "markdown",
      "source": [],
      "metadata": {
        "id": "BYP4ubz7muSH"
      }
    },
    {
      "cell_type": "markdown",
      "source": [
        "### Python Booleans\n",
        "In programming you often need to know if an expression is True or False.\n",
        "\n",
        "You can evaluate any expression in Python, and get one of two answers, True or False.\n",
        "\n",
        "When you compare two values, the expression is evaluated and Python returns the Boolean answer:"
      ],
      "metadata": {
        "id": "hWcfms-dmwBc"
      }
    },
    {
      "cell_type": "code",
      "source": [
        "# Print a message based on whether the condition is True or False:\n",
        "print(10 > 9)\n",
        "print(10 == 9)\n",
        "print(10 < 9)"
      ],
      "metadata": {
        "colab": {
          "base_uri": "https://localhost:8080/"
        },
        "id": "FOgTaA-lm5J2",
        "outputId": "5eaa1b3f-44ed-4667-91f4-5a584007f332"
      },
      "execution_count": null,
      "outputs": [
        {
          "output_type": "stream",
          "name": "stdout",
          "text": [
            "True\n",
            "False\n",
            "False\n"
          ]
        }
      ]
    },
    {
      "cell_type": "code",
      "source": [
        "a = 200\n",
        "b = 33\n",
        "\n",
        "if b > a:\n",
        "  print(\"b is greater than a\")\n",
        "else:\n",
        "  print(\"b is not greater than a\")"
      ],
      "metadata": {
        "colab": {
          "base_uri": "https://localhost:8080/"
        },
        "id": "UnpJEgaZnYpk",
        "outputId": "a4b2df9a-5e84-4de3-9e50-95ac815bf683"
      },
      "execution_count": null,
      "outputs": [
        {
          "output_type": "stream",
          "name": "stdout",
          "text": [
            "b is not greater than a\n"
          ]
        }
      ]
    },
    {
      "cell_type": "code",
      "source": [
        "# The bool() function allows you to evaluate any value, and give you True or False in return,\n",
        "print(bool(\"Hello\"))\n",
        "print(bool(15))"
      ],
      "metadata": {
        "colab": {
          "base_uri": "https://localhost:8080/"
        },
        "id": "f3BnlcFfnc5S",
        "outputId": "09f9fc76-e248-445a-e72d-cc9569f866a2"
      },
      "execution_count": null,
      "outputs": [
        {
          "output_type": "stream",
          "name": "stdout",
          "text": [
            "True\n",
            "True\n"
          ]
        }
      ]
    },
    {
      "cell_type": "code",
      "source": [
        "# In fact, there are not many values that evaluate to False, except empty values, such as (), [], {}, \"\", the number 0, and the value None. And of course the value False evaluates to False.\n",
        "print(bool(False))\n",
        "print(bool(None))\n",
        "print(bool(0))\n",
        "print(bool(\"\"))\n",
        "print(bool(()))\n",
        "print(bool([]))\n",
        "print(bool({}))"
      ],
      "metadata": {
        "colab": {
          "base_uri": "https://localhost:8080/"
        },
        "id": "xrvgEVljnn_B",
        "outputId": "2b1724fd-b63d-4d6e-a059-8b451c51a0c6"
      },
      "execution_count": null,
      "outputs": [
        {
          "output_type": "stream",
          "name": "stdout",
          "text": [
            "False\n",
            "False\n",
            "False\n",
            "False\n",
            "False\n",
            "False\n",
            "False\n"
          ]
        }
      ]
    },
    {
      "cell_type": "code",
      "source": [
        "# One more value, or object in this case, evaluates to False, and that is if you have an object that is made from a class with a __len__ function\n",
        "#that returns 0 or False:\n",
        "class myclass():\n",
        "  def __len__(self):\n",
        "    return 0\n",
        "\n",
        "myobj = myclass()\n",
        "print(bool(myobj))\n"
      ],
      "metadata": {
        "colab": {
          "base_uri": "https://localhost:8080/"
        },
        "id": "HWTppZEUnvbm",
        "outputId": "989d3054-020c-4ece-fccf-85e9802f173c"
      },
      "execution_count": null,
      "outputs": [
        {
          "output_type": "stream",
          "name": "stdout",
          "text": [
            "False\n"
          ]
        }
      ]
    },
    {
      "cell_type": "code",
      "source": [
        "# You can create functions that returns a Boolean Value:\n",
        "\n",
        "def myFunction() :\n",
        "  return True\n",
        "\n",
        "print(myFunction())\n"
      ],
      "metadata": {
        "colab": {
          "base_uri": "https://localhost:8080/"
        },
        "id": "-Y0sxq2_n9iu",
        "outputId": "52e17be3-7eee-4690-e102-4dd3fffdb2bb"
      },
      "execution_count": null,
      "outputs": [
        {
          "output_type": "stream",
          "name": "stdout",
          "text": [
            "True\n"
          ]
        }
      ]
    },
    {
      "cell_type": "code",
      "source": [
        "# Print \"YES!\" if the function returns True, otherwise print \"NO!\":\n",
        "def myFunction() :\n",
        "  return True\n",
        "\n",
        "if myFunction():\n",
        "  print(\"YES!\")\n",
        "else:\n",
        "  print(\"NO!\")"
      ],
      "metadata": {
        "colab": {
          "base_uri": "https://localhost:8080/"
        },
        "id": "e9DkhgRPoE8z",
        "outputId": "bde21891-8965-4d0f-94d9-7217888366b2"
      },
      "execution_count": null,
      "outputs": [
        {
          "output_type": "stream",
          "name": "stdout",
          "text": [
            "YES!\n"
          ]
        }
      ]
    },
    {
      "cell_type": "code",
      "source": [
        "# Check if an object is an integer or not:\n",
        "\n",
        "x = 200\n",
        "print(isinstance(x, int))\n",
        "\n"
      ],
      "metadata": {
        "colab": {
          "base_uri": "https://localhost:8080/"
        },
        "id": "ga6rYrKAo6Ib",
        "outputId": "e03f3c6e-be23-46e1-81fb-b1f48b4d2393"
      },
      "execution_count": null,
      "outputs": [
        {
          "output_type": "stream",
          "name": "stdout",
          "text": [
            "True\n"
          ]
        }
      ]
    },
    {
      "cell_type": "markdown",
      "source": [
        "### Python Operators\n",
        "Operators are used to perform operations on variables and values.\n",
        "\n",
        "Python divides the operators in the following groups:\n",
        "\n",
        "* Arithmetic operators\n",
        "* Assignment operators\n",
        "* Comparison operators\n",
        "* Logical operators\n",
        "* Identity operators\n",
        "* Membership operators\n",
        "* Bitwise operators\n",
        "\n",
        "Arithmetic operators are used with numeric values to perform common mathematical operations:\n",
        "\n"
      ],
      "metadata": {
        "id": "RWNtbOIBpDRL"
      }
    },
    {
      "cell_type": "code",
      "source": [
        "# python Arithmetic operators\n",
        "print(10+5)\n",
        "print(10-5)\n",
        "print(10*5)\n",
        "print(10/5)\n",
        "print(10%5)\n",
        "print(10**5) #same as 10*10*10*10*10\n",
        "print(10//5) ##the floor division // rounds the result down to the nearest whole number\n",
        "\n"
      ],
      "metadata": {
        "colab": {
          "base_uri": "https://localhost:8080/"
        },
        "id": "ZdRlPuyhpfjK",
        "outputId": "d3e8c308-f2fd-46b3-e5d7-0e1f98147651"
      },
      "execution_count": null,
      "outputs": [
        {
          "output_type": "stream",
          "name": "stdout",
          "text": [
            "15\n",
            "5\n",
            "50\n",
            "2.0\n",
            "0\n",
            "100000\n",
            "2\n"
          ]
        }
      ]
    },
    {
      "cell_type": "code",
      "source": [
        "# Python Assignment Operators\n",
        "# Assignment operators are used to assign values to variables:\n",
        "\n",
        "x = 5\n",
        "print(x)\n",
        "\n",
        "x = 5\n",
        "x += 3\n",
        "print(x)\n",
        "\n",
        "x = 5\n",
        "x -= 3\n",
        "print(x)\n",
        "\n",
        "x = 5\n",
        "x *= 3\n",
        "print(x)\n",
        "\n",
        "x = 5\n",
        "x /= 3\n",
        "print(x)\n",
        "\n",
        "x = 5\n",
        "x%=3\n",
        "print(x)\n",
        "\n",
        "x = 5\n",
        "x//=3\n",
        "print(x)\n",
        "\n",
        "x = 5\n",
        "x **= 3\n",
        "print(x)\n",
        "\n",
        "x = 5\n",
        "x &= 3\n",
        "print(x)\n",
        "\n",
        "x = 5\n",
        "x |= 3\n",
        "print(x)\n",
        "\n",
        "x = 5\n",
        "x ^= 3\n",
        "print(x)\n",
        "\n",
        "x = 5\n",
        "x >>= 3 # shift right by 3 bits\n",
        "print(x)\n",
        "\n",
        "x = 2\n",
        "x <<= 5 # shift left by 5 bits ie 0b10 -> 0b1000000\n",
        "print(x)\n"
      ],
      "metadata": {
        "colab": {
          "base_uri": "https://localhost:8080/"
        },
        "id": "9qQOfX4tqHpk",
        "outputId": "1f61ec52-f6f1-4831-8bbd-8c335ec1f168"
      },
      "execution_count": null,
      "outputs": [
        {
          "output_type": "stream",
          "name": "stdout",
          "text": [
            "5\n",
            "8\n",
            "2\n",
            "15\n",
            "1.6666666666666667\n",
            "2\n",
            "1\n",
            "125\n",
            "1\n",
            "7\n",
            "6\n",
            "0\n",
            "64\n"
          ]
        }
      ]
    },
    {
      "cell_type": "code",
      "source": [
        "# python comparision operators\n",
        "x = 5\n",
        "y = 3\n",
        "\n",
        "print(x == y)\n",
        "print(x != y)\n",
        "print(x > y)\n",
        "print(x < y)\n",
        "print(x >= y)\n",
        "print(x <= y)"
      ],
      "metadata": {
        "colab": {
          "base_uri": "https://localhost:8080/"
        },
        "id": "AyWJlyoRAVrm",
        "outputId": "4dfc004a-c6ea-4607-c0bf-6e19fec0cd7f"
      },
      "execution_count": null,
      "outputs": [
        {
          "output_type": "stream",
          "name": "stdout",
          "text": [
            "False\n",
            "True\n",
            "True\n",
            "False\n",
            "True\n",
            "False\n"
          ]
        }
      ]
    },
    {
      "cell_type": "code",
      "source": [
        "# python Logical operators\n",
        "# Logical operators are used to combine conditional statements:\n",
        "x = 5\n",
        "\n",
        "print(x > 3 and x < 10)\n",
        "print(x > 3 or x < 4)\n",
        "print(not(x > 3 and x < 10))"
      ],
      "metadata": {
        "colab": {
          "base_uri": "https://localhost:8080/"
        },
        "id": "bOtzdjbRAeKh",
        "outputId": "8eabe83f-2bae-4d5a-ebcd-a7230425dbbc"
      },
      "execution_count": null,
      "outputs": [
        {
          "output_type": "stream",
          "name": "stdout",
          "text": [
            "True\n",
            "True\n",
            "False\n"
          ]
        }
      ]
    },
    {
      "cell_type": "code",
      "source": [
        "# python identity operators\n",
        "# Identity operators are used to compare the objects, not if they are equal, but if they are actually the same object, with the same memory location:\n",
        "x = [\"apple\", \"banana\"]\n",
        "y = [\"apple\", \"banana\"]\n",
        "z = x\n",
        "\n",
        "print(x is z)\n",
        "print(x is y)\n",
        "print(x == y)"
      ],
      "metadata": {
        "colab": {
          "base_uri": "https://localhost:8080/"
        },
        "id": "m2AiEXKNAsfw",
        "outputId": "3c4624d0-4842-4653-e5b5-33d130e71a01"
      },
      "execution_count": null,
      "outputs": [
        {
          "output_type": "stream",
          "name": "stdout",
          "text": [
            "True\n",
            "False\n",
            "True\n"
          ]
        }
      ]
    },
    {
      "cell_type": "code",
      "source": [
        "# Python Membership Operators\n",
        "#Membership operators are used to test if a sequence is presented in an object:\n",
        "x = [\"apple\", \"banana\"]\n",
        "\n",
        "print(\"banana\" in x)\n",
        "print(\"pineapple\" not in x)\n"
      ],
      "metadata": {
        "colab": {
          "base_uri": "https://localhost:8080/"
        },
        "id": "bTpleEPmBKnb",
        "outputId": "46d300dd-7422-4eb6-b2ff-e906303c071a"
      },
      "execution_count": null,
      "outputs": [
        {
          "output_type": "stream",
          "name": "stdout",
          "text": [
            "True\n",
            "True\n"
          ]
        }
      ]
    },
    {
      "cell_type": "code",
      "source": [
        "# Python Bitwise Operators\n",
        "# Bitwise operators are used to compare (binary) numbers:\n",
        "\n",
        "x  = 10\n",
        "y = 4\n",
        "\n",
        "print(x & y) # Sets each bit to 1 if both bits are 1\n",
        "print(x | y) # \tSets each bit to 1 if one of two bits is 1\n",
        "print(x ^ y) # Sets each bit to 1 if only one of two bits is 1\n",
        "print(~x) # Inverts all the bits\n",
        "print(x << 2) # 0000 1010 << 2 = 0010 1000\n",
        "print(x >> 2) # 0000 1010 >> 2 = 0000 0010\n"
      ],
      "metadata": {
        "colab": {
          "base_uri": "https://localhost:8080/"
        },
        "id": "w3b-GjCrBSZz",
        "outputId": "ea3c4cab-6c32-462b-bb7f-cb035d7370e7"
      },
      "execution_count": null,
      "outputs": [
        {
          "output_type": "stream",
          "name": "stdout",
          "text": [
            "0\n",
            "14\n",
            "14\n",
            "-11\n",
            "40\n",
            "2\n"
          ]
        }
      ]
    },
    {
      "cell_type": "code",
      "source": [
        "# Operator Precedence\n",
        "# Operator precedence describes the order in which operations are performed\n",
        "# Parentheses has the highest precedence, meaning that expressions inside parentheses must be evaluated first:\n",
        "# If two operators have the same precedence, the expression is evaluated from left to right.\n",
        "print(100 + 5 * 3)\n",
        "print((100 + 5) * 3)\n",
        "\n"
      ],
      "metadata": {
        "colab": {
          "base_uri": "https://localhost:8080/"
        },
        "id": "CJiKLiMgCKRa",
        "outputId": "934b4443-d89a-4d27-f09a-811c55e35a3a"
      },
      "execution_count": null,
      "outputs": [
        {
          "output_type": "stream",
          "name": "stdout",
          "text": [
            "115\n",
            "315\n"
          ]
        }
      ]
    },
    {
      "cell_type": "code",
      "source": [
        "# Multiplication * has higher precedence than addition +, and therefor multiplications are evaluated before additions:\n",
        "x = 5\n",
        "print(x + 3 * 2)\n",
        "print((x + 3) * 2)"
      ],
      "metadata": {
        "colab": {
          "base_uri": "https://localhost:8080/"
        },
        "id": "lRlMW5LkCk9c",
        "outputId": "91e6c790-1b08-48eb-cd57-375c79e07628"
      },
      "execution_count": null,
      "outputs": [
        {
          "output_type": "stream",
          "name": "stdout",
          "text": [
            "11\n",
            "16\n"
          ]
        }
      ]
    }
  ]
}